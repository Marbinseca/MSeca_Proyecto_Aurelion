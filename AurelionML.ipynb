{
 "cells": [
  {
   "cell_type": "markdown",
   "id": "df1e029e",
   "metadata": {},
   "source": [
    "### 🧪 Análisis de Datos ML - Sistema de Ventas Tienda Aurelion\n",
    "\n",
    "Este proyecto realiza un análisis integral de ventas para transformar datos transaccionales en conocimiento accionable. El objetivo principal es segmentar clientes e interpretar patrones de compra mediante técnicas de Machine Learning, optimizando así la toma de decisiones estratégicas y operativas.\n",
    "\n",
    "El modelado usó Regresión para predecir ventas, Clasificación para identificar transacciones de alto valor, y Clustering K-Means para segmentar clientes por métricas RFM."
   ]
  },
  {
   "cell_type": "markdown",
   "id": "3430444a",
   "metadata": {},
   "source": [
    "### 1. Importar librerias necesarias"
   ]
  },
  {
   "cell_type": "code",
   "execution_count": null,
   "id": "acd6ad6c",
   "metadata": {},
   "outputs": [],
   "source": [
    "# Importar bibliotecas para manipulación de datos\n",
    "import polars as pl\n",
    "import pandas as pd # Se incluye como respaldo o para funciones específicas\n",
    "\n",
    "# Importar bibliotecas para visualización\n",
    "import plotly.express as px\n",
    "import plotly.graph_objects as go\n",
    "from plotly.subplots import make_subplots\n",
    "\n",
    "# Importar bibliotecas para Machine Learning\n",
    "from sklearn.model_selection import train_test_split\n",
    "from sklearn.preprocessing import StandardScaler, OneHotEncoder\n",
    "from sklearn.compose import ColumnTransformer\n",
    "from sklearn.pipeline import Pipeline\n",
    "\n",
    "# Importar bibliotecas para tareas generales y matemáticas\n",
    "import numpy as np\n"
   ]
  },
  {
   "cell_type": "markdown",
   "id": "96662fa8",
   "metadata": {},
   "source": [
    "### 2. Cargamos los datos"
   ]
  },
  {
   "cell_type": "code",
   "execution_count": 3,
   "id": "78bf6f17",
   "metadata": {},
   "outputs": [],
   "source": [
    "file_path = \"datos_exportados/ventas_procesadas.csv\" # Ruta al archivo CSV procesado\n",
    "data = pd.read_csv(file_path)"
   ]
  },
  {
   "cell_type": "code",
   "execution_count": 4,
   "id": "fa6268a4",
   "metadata": {},
   "outputs": [
    {
     "data": {
      "application/vnd.microsoft.datawrangler.viewer.v0+json": {
       "columns": [
        {
         "name": "index",
         "rawType": "int64",
         "type": "integer"
        },
        {
         "name": "id_detalle",
         "rawType": "int64",
         "type": "integer"
        },
        {
         "name": "id_venta",
         "rawType": "float64",
         "type": "float"
        },
        {
         "name": "id_producto",
         "rawType": "float64",
         "type": "float"
        },
        {
         "name": "nombre_producto",
         "rawType": "object",
         "type": "string"
        },
        {
         "name": "cantidad",
         "rawType": "float64",
         "type": "float"
        },
        {
         "name": "precio_unitario",
         "rawType": "float64",
         "type": "float"
        },
        {
         "name": "importe",
         "rawType": "float64",
         "type": "float"
        },
        {
         "name": "fecha",
         "rawType": "object",
         "type": "string"
        },
        {
         "name": "id_cliente",
         "rawType": "float64",
         "type": "float"
        },
        {
         "name": "nombre_cliente",
         "rawType": "object",
         "type": "string"
        },
        {
         "name": "email",
         "rawType": "object",
         "type": "string"
        },
        {
         "name": "medio_pago",
         "rawType": "object",
         "type": "string"
        },
        {
         "name": "nombre_producto_right",
         "rawType": "object",
         "type": "string"
        },
        {
         "name": "categoria",
         "rawType": "object",
         "type": "string"
        },
        {
         "name": "precio_unitario_right",
         "rawType": "float64",
         "type": "float"
        },
        {
         "name": "nombre_cliente_right",
         "rawType": "object",
         "type": "string"
        },
        {
         "name": "email_right",
         "rawType": "object",
         "type": "string"
        },
        {
         "name": "ciudad",
         "rawType": "object",
         "type": "string"
        },
        {
         "name": "fecha_alta",
         "rawType": "object",
         "type": "string"
        },
        {
         "name": "ingreso_total",
         "rawType": "float64",
         "type": "float"
        },
        {
         "name": "precio_promedio",
         "rawType": "float64",
         "type": "float"
        }
       ],
       "ref": "3ec4a32a-0d51-438b-9c32-c6133d92cbe6",
       "rows": [
        [
         "0",
         "1",
         "1.0",
         "90.0",
         "Toallas Húmedas x50",
         "1.0",
         "2902.0",
         "2902.0",
         "2024-06-19T00:00:00.000000000",
         "62.0",
         "Guadalupe Romero",
         "guadalupe.romero@mail.com",
         "tarjeta",
         "Toallas Húmedas x50",
         "Limpieza",
         "2902.0",
         "Guadalupe Romero",
         "guadalupe.romero@mail.com",
         "Carlos Paz",
         "2023-03-03T00:00:00.000000000",
         "2902.0",
         "2902.0"
        ],
        [
         "1",
         "2",
         "2.0",
         "82.0",
         "Aceitunas Negras 200g",
         "5.0",
         "2394.0",
         "11970.0",
         "2024-03-17T00:00:00.000000000",
         "49.0",
         "Olivia Gomez",
         "olivia.gomez@mail.com",
         "qr",
         "Aceitunas Negras 200g",
         "Limpieza",
         "2394.0",
         "Olivia Gomez",
         "olivia.gomez@mail.com",
         "Rio Cuarto",
         "2023-02-18T00:00:00.000000000",
         "11970.0",
         "2394.0"
        ],
        [
         "2",
         "3",
         "2.0",
         "39.0",
         "Helado Vainilla 1L",
         "5.0",
         "469.0",
         "2345.0",
         "2024-03-17T00:00:00.000000000",
         "49.0",
         "Olivia Gomez",
         "olivia.gomez@mail.com",
         "qr",
         "Helado Vainilla 1L",
         "Alimentos",
         "469.0",
         "Olivia Gomez",
         "olivia.gomez@mail.com",
         "Rio Cuarto",
         "2023-02-18T00:00:00.000000000",
         "2345.0",
         "469.0"
        ],
        [
         "3",
         "4",
         "2.0",
         "70.0",
         "Fernet 750ml",
         "2.0",
         "4061.0",
         "8122.0",
         "2024-03-17T00:00:00.000000000",
         "49.0",
         "Olivia Gomez",
         "olivia.gomez@mail.com",
         "qr",
         "Fernet 750ml",
         "Limpieza",
         "4061.0",
         "Olivia Gomez",
         "olivia.gomez@mail.com",
         "Rio Cuarto",
         "2023-02-18T00:00:00.000000000",
         "8122.0",
         "4061.0"
        ],
        [
         "4",
         "5",
         "2.0",
         "22.0",
         "Medialunas de Manteca",
         "1.0",
         "2069.0",
         "2069.0",
         "2024-03-17T00:00:00.000000000",
         "49.0",
         "Olivia Gomez",
         "olivia.gomez@mail.com",
         "qr",
         "Medialunas de Manteca",
         "Limpieza",
         "2069.0",
         "Olivia Gomez",
         "olivia.gomez@mail.com",
         "Rio Cuarto",
         "2023-02-18T00:00:00.000000000",
         "2069.0",
         "2069.0"
        ],
        [
         "5",
         "6",
         "2.0",
         "79.0",
         "Hamburguesas Congeladas x4",
         "4.0",
         "2420.0",
         "9680.0",
         "2024-03-17T00:00:00.000000000",
         "49.0",
         "Olivia Gomez",
         "olivia.gomez@mail.com",
         "qr",
         "Hamburguesas Congeladas x4",
         "Alimentos",
         "2420.0",
         "Olivia Gomez",
         "olivia.gomez@mail.com",
         "Rio Cuarto",
         "2023-02-18T00:00:00.000000000",
         "9680.0",
         "2420.0"
        ],
        [
         "6",
         "7",
         "3.0",
         "9.0",
         "Yerba Mate Suave 1kg",
         "2.0",
         "3878.0",
         "7756.0",
         "2024-01-13T00:00:00.000000000",
         "20.0",
         "Tomas Acosta",
         "tomas.acosta@mail.com",
         "tarjeta",
         "Yerba Mate Suave 1kg",
         "Alimentos",
         "3878.0",
         "Tomas Acosta",
         "tomas.acosta@mail.com",
         "Rio Cuarto",
         "2023-01-20T00:00:00.000000000",
         "7756.0",
         "3878.0"
        ],
        [
         "7",
         "8",
         "3.0",
         "2.0",
         "Pepsi 1.5L",
         "2.0",
         "4973.0",
         "9946.0",
         "2024-01-13T00:00:00.000000000",
         "20.0",
         "Tomas Acosta",
         "tomas.acosta@mail.com",
         "tarjeta",
         "Pepsi 1.5L",
         "Limpieza",
         "4973.0",
         "Tomas Acosta",
         "tomas.acosta@mail.com",
         "Rio Cuarto",
         "2023-01-20T00:00:00.000000000",
         "9946.0",
         "4973.0"
        ],
        [
         "8",
         "9",
         "3.0",
         "85.0",
         "Jugo en Polvo Naranja",
         "1.0",
         "1856.0",
         "1856.0",
         "2024-01-13T00:00:00.000000000",
         "20.0",
         "Tomas Acosta",
         "tomas.acosta@mail.com",
         "tarjeta",
         "Jugo en Polvo Naranja",
         "Alimentos",
         "1856.0",
         "Tomas Acosta",
         "tomas.acosta@mail.com",
         "Rio Cuarto",
         "2023-01-20T00:00:00.000000000",
         "1856.0",
         "1856.0"
        ],
        [
         "9",
         "10",
         "4.0",
         "4.0",
         "Fanta Naranja 1.5L",
         "2.0",
         "2033.0",
         "4066.0",
         "2024-02-27T00:00:00.000000000",
         "36.0",
         "Martina Molina",
         "martina.molina@mail.com",
         "transferencia",
         "Fanta Naranja 1.5L",
         "Limpieza",
         "2033.0",
         "Martina Molina",
         "martina.molina@mail.com",
         "Mendiolaza",
         "2023-02-05T00:00:00.000000000",
         "4066.0",
         "2033.0"
        ],
        [
         "10",
         "11",
         "4.0",
         "23.0",
         "Bizcochos Salados",
         "5.0",
         "2380.0",
         "11900.0",
         "2024-02-27T00:00:00.000000000",
         "36.0",
         "Martina Molina",
         "martina.molina@mail.com",
         "transferencia",
         "Bizcochos Salados",
         "Alimentos",
         "2380.0",
         "Martina Molina",
         "martina.molina@mail.com",
         "Mendiolaza",
         "2023-02-05T00:00:00.000000000",
         "11900.0",
         "2380.0"
        ],
        [
         "11",
         "12",
         "5.0",
         "86.0",
         "Jugo en Polvo Limón",
         "4.0",
         "4090.0",
         "16360.0",
         "2024-06-11T00:00:00.000000000",
         "56.0",
         "Bruno Diaz",
         "bruno.diaz@mail.com",
         "tarjeta",
         "Jugo en Polvo Limón",
         "Limpieza",
         "4090.0",
         "Bruno Diaz",
         "bruno.diaz@mail.com",
         "Rio Cuarto",
         "2023-02-25T00:00:00.000000000",
         "16360.0",
         "4090.0"
        ],
        [
         "12",
         "13",
         "6.0",
         "25.0",
         "Galletitas Vainilla",
         "2.0",
         "4015.0",
         "8030.0",
         "2024-05-05T00:00:00.000000000",
         "91.0",
         "Uma Sanchez",
         "uma.sanchez@mail.com",
         "transferencia",
         "Galletitas Vainilla",
         "Alimentos",
         "4015.0",
         "Uma Sanchez",
         "uma.sanchez@mail.com",
         "Mendiolaza",
         "2023-04-01T00:00:00.000000000",
         "8030.0",
         "4015.0"
        ],
        [
         "13",
         "14",
         "6.0",
         "31.0",
         "Mix de Frutos Secos 200g",
         "3.0",
         "3409.0",
         "10227.0",
         "2024-05-05T00:00:00.000000000",
         "91.0",
         "Uma Sanchez",
         "uma.sanchez@mail.com",
         "transferencia",
         "Mix de Frutos Secos 200g",
         "Alimentos",
         "3409.0",
         "Uma Sanchez",
         "uma.sanchez@mail.com",
         "Mendiolaza",
         "2023-04-01T00:00:00.000000000",
         "10227.0",
         "3409.0"
        ],
        [
         "14",
         "15",
         "6.0",
         "83.0",
         "Queso Untable 190g",
         "1.0",
         "1830.0",
         "1830.0",
         "2024-05-05T00:00:00.000000000",
         "91.0",
         "Uma Sanchez",
         "uma.sanchez@mail.com",
         "transferencia",
         "Queso Untable 190g",
         "Alimentos",
         "1830.0",
         "Uma Sanchez",
         "uma.sanchez@mail.com",
         "Mendiolaza",
         "2023-04-01T00:00:00.000000000",
         "1830.0",
         "1830.0"
        ],
        [
         "15",
         "16",
         "6.0",
         "59.0",
         "Chicle Menta",
         "4.0",
         "3612.0",
         "14448.0",
         "2024-05-05T00:00:00.000000000",
         "91.0",
         "Uma Sanchez",
         "uma.sanchez@mail.com",
         "transferencia",
         "Chicle Menta",
         "Alimentos",
         "3612.0",
         "Uma Sanchez",
         "uma.sanchez@mail.com",
         "Mendiolaza",
         "2023-04-01T00:00:00.000000000",
         "14448.0",
         "3612.0"
        ],
        [
         "16",
         "17",
         "7.0",
         "63.0",
         "Granola 250g",
         "3.0",
         "4337.0",
         "13011.0",
         "2024-05-06T00:00:00.000000000",
         "92.0",
         "Mariana Rodriguez",
         "mariana.rodriguez@mail.com",
         "efectivo",
         "Granola 250g",
         "Alimentos",
         "4337.0",
         "Mariana Rodriguez",
         "mariana.rodriguez@mail.com",
         "Alta Gracia",
         "2023-04-02T00:00:00.000000000",
         "13011.0",
         "4337.0"
        ],
        [
         "17",
         "18",
         "8.0",
         "53.0",
         "Lavandina 1L",
         "5.0",
         "1664.0",
         "8320.0",
         "2024-01-06T00:00:00.000000000",
         "66.0",
         "Tomas Herrera",
         "tomas.herrera@mail.com",
         "transferencia",
         "Lavandina 1L",
         "Alimentos",
         "1664.0",
         "Tomas Herrera",
         "tomas.herrera@mail.com",
         "Villa Maria",
         "2023-03-07T00:00:00.000000000",
         "8320.0",
         "1664.0"
        ],
        [
         "18",
         "19",
         "8.0",
         "18.0",
         "Queso Rallado 150g",
         "4.0",
         "3444.0",
         "13776.0",
         "2024-01-06T00:00:00.000000000",
         "66.0",
         "Tomas Herrera",
         "tomas.herrera@mail.com",
         "transferencia",
         "Queso Rallado 150g",
         "Limpieza",
         "3444.0",
         "Tomas Herrera",
         "tomas.herrera@mail.com",
         "Villa Maria",
         "2023-03-07T00:00:00.000000000",
         "13776.0",
         "3444.0"
        ],
        [
         "19",
         "20",
         "8.0",
         "68.0",
         "Vino Blanco 750ml",
         "5.0",
         "2684.0",
         "13420.0",
         "2024-01-06T00:00:00.000000000",
         "66.0",
         "Tomas Herrera",
         "tomas.herrera@mail.com",
         "transferencia",
         "Vino Blanco 750ml",
         "Limpieza",
         "2684.0",
         "Tomas Herrera",
         "tomas.herrera@mail.com",
         "Villa Maria",
         "2023-03-07T00:00:00.000000000",
         "13420.0",
         "2684.0"
        ],
        [
         "20",
         "21",
         "9.0",
         "65.0",
         "Cerveza Rubia 1L",
         "4.0",
         "2423.0",
         "9692.0",
         "2024-01-20T00:00:00.000000000",
         "86.0",
         "Diego Torres",
         "diego.torres@mail.com",
         "efectivo",
         "Cerveza Rubia 1L",
         "Alimentos",
         "2423.0",
         "Diego Torres",
         "diego.torres@mail.com",
         "Cordoba",
         "2023-03-27T00:00:00.000000000",
         "9692.0",
         "2423.0"
        ],
        [
         "21",
         "22",
         "10.0",
         "36.0",
         "Dulce de Leche 400g",
         "2.0",
         "2559.0",
         "5118.0",
         "2024-05-28T00:00:00.000000000",
         "52.0",
         "Diego Diaz",
         "diego.diaz@mail.com",
         "qr",
         "Dulce de Leche 400g",
         "Limpieza",
         "2559.0",
         "Diego Diaz",
         "diego.diaz@mail.com",
         "Rio Cuarto",
         "2023-02-21T00:00:00.000000000",
         "5118.0",
         "2559.0"
        ],
        [
         "22",
         "23",
         "10.0",
         "100.0",
         "Trapo de Piso",
         "4.0",
         "4854.0",
         "19416.0",
         "2024-05-28T00:00:00.000000000",
         "52.0",
         "Diego Diaz",
         "diego.diaz@mail.com",
         "qr",
         "Trapo de Piso",
         "Limpieza",
         "4854.0",
         "Diego Diaz",
         "diego.diaz@mail.com",
         "Rio Cuarto",
         "2023-02-21T00:00:00.000000000",
         "19416.0",
         "4854.0"
        ],
        [
         "23",
         "24",
         "10.0",
         "37.0",
         "Mermelada de Durazno 400g",
         "3.0",
         "3196.0",
         "9588.0",
         "2024-05-28T00:00:00.000000000",
         "52.0",
         "Diego Diaz",
         "diego.diaz@mail.com",
         "qr",
         "Mermelada de Durazno 400g",
         "Alimentos",
         "3196.0",
         "Diego Diaz",
         "diego.diaz@mail.com",
         "Rio Cuarto",
         "2023-02-21T00:00:00.000000000",
         "9588.0",
         "3196.0"
        ],
        [
         "24",
         "25",
         "10.0",
         "62.0",
         "Stevia 100 sobres",
         "1.0",
         "3848.0",
         "3848.0",
         "2024-05-28T00:00:00.000000000",
         "52.0",
         "Diego Diaz",
         "diego.diaz@mail.com",
         "qr",
         "Stevia 100 sobres",
         "Limpieza",
         "3848.0",
         "Diego Diaz",
         "diego.diaz@mail.com",
         "Rio Cuarto",
         "2023-02-21T00:00:00.000000000",
         "3848.0",
         "3848.0"
        ],
        [
         "25",
         "26",
         "11.0",
         "13.0",
         "Té Verde 20 saquitos",
         "1.0",
         "2383.0",
         "2383.0",
         "2024-04-10T00:00:00.000000000",
         "20.0",
         "Tomas Acosta",
         "tomas.acosta@mail.com",
         "qr",
         "Té Verde 20 saquitos",
         "Alimentos",
         "2383.0",
         "Tomas Acosta",
         "tomas.acosta@mail.com",
         "Rio Cuarto",
         "2023-01-20T00:00:00.000000000",
         "2383.0",
         "2383.0"
        ],
        [
         "26",
         "27",
         "11.0",
         "65.0",
         "Cerveza Rubia 1L",
         "2.0",
         "2423.0",
         "4846.0",
         "2024-04-10T00:00:00.000000000",
         "20.0",
         "Tomas Acosta",
         "tomas.acosta@mail.com",
         "qr",
         "Cerveza Rubia 1L",
         "Alimentos",
         "2423.0",
         "Tomas Acosta",
         "tomas.acosta@mail.com",
         "Rio Cuarto",
         "2023-01-20T00:00:00.000000000",
         "4846.0",
         "2423.0"
        ],
        [
         "27",
         "28",
         "11.0",
         "28.0",
         "Papas Fritas Clásicas 100g",
         "1.0",
         "936.0",
         "936.0",
         "2024-04-10T00:00:00.000000000",
         "20.0",
         "Tomas Acosta",
         "tomas.acosta@mail.com",
         "qr",
         "Papas Fritas Clásicas 100g",
         "Limpieza",
         "936.0",
         "Tomas Acosta",
         "tomas.acosta@mail.com",
         "Rio Cuarto",
         "2023-01-20T00:00:00.000000000",
         "936.0",
         "936.0"
        ],
        [
         "28",
         "29",
         "12.0",
         "72.0",
         "Ron 700ml",
         "2.0",
         "3876.0",
         "7752.0",
         "2024-06-28T00:00:00.000000000",
         "96.0",
         "Rocio Gonzalez",
         "rocio.gonzalez@mail.com",
         "efectivo",
         "Ron 700ml",
         "Limpieza",
         "3876.0",
         "Rocio Gonzalez",
         "rocio.gonzalez@mail.com",
         "Cordoba",
         "2023-04-06T00:00:00.000000000",
         "7752.0",
         "3876.0"
        ],
        [
         "29",
         "30",
         "12.0",
         "50.0",
         "Azúcar 1kg",
         "2.0",
         "727.0",
         "1454.0",
         "2024-06-28T00:00:00.000000000",
         "96.0",
         "Rocio Gonzalez",
         "rocio.gonzalez@mail.com",
         "efectivo",
         "Azúcar 1kg",
         "Limpieza",
         "727.0",
         "Rocio Gonzalez",
         "rocio.gonzalez@mail.com",
         "Cordoba",
         "2023-04-06T00:00:00.000000000",
         "1454.0",
         "727.0"
        ],
        [
         "30",
         "31",
         "12.0",
         "56.0",
         "Papel Higiénico x4",
         "3.0",
         "2532.0",
         "7596.0",
         "2024-06-28T00:00:00.000000000",
         "96.0",
         "Rocio Gonzalez",
         "rocio.gonzalez@mail.com",
         "efectivo",
         "Papel Higiénico x4",
         "Limpieza",
         "2532.0",
         "Rocio Gonzalez",
         "rocio.gonzalez@mail.com",
         "Cordoba",
         "2023-04-06T00:00:00.000000000",
         "7596.0",
         "2532.0"
        ],
        [
         "31",
         "32",
         "12.0",
         "87.0",
         "Sopa Instantánea Pollo",
         "3.0",
         "1679.0",
         "5037.0",
         "2024-06-28T00:00:00.000000000",
         "96.0",
         "Rocio Gonzalez",
         "rocio.gonzalez@mail.com",
         "efectivo",
         "Sopa Instantánea Pollo",
         "Alimentos",
         "1679.0",
         "Rocio Gonzalez",
         "rocio.gonzalez@mail.com",
         "Cordoba",
         "2023-04-06T00:00:00.000000000",
         "5037.0",
         "1679.0"
        ],
        [
         "32",
         "33",
         "12.0",
         "38.0",
         "Mermelada de Frutilla 400g",
         "4.0",
         "1584.0",
         "6336.0",
         "2024-06-28T00:00:00.000000000",
         "96.0",
         "Rocio Gonzalez",
         "rocio.gonzalez@mail.com",
         "efectivo",
         "Mermelada de Frutilla 400g",
         "Limpieza",
         "1584.0",
         "Rocio Gonzalez",
         "rocio.gonzalez@mail.com",
         "Cordoba",
         "2023-04-06T00:00:00.000000000",
         "6336.0",
         "1584.0"
        ],
        [
         "33",
         "34",
         "13.0",
         "87.0",
         "Sopa Instantánea Pollo",
         "1.0",
         "1679.0",
         "1679.0",
         "2024-01-24T00:00:00.000000000",
         "6.0",
         "Uma Medina",
         "uma.medina@mail.com",
         "tarjeta",
         "Sopa Instantánea Pollo",
         "Alimentos",
         "1679.0",
         "Uma Medina",
         "uma.medina@mail.com",
         "Villa Maria",
         "2023-01-06T00:00:00.000000000",
         "1679.0",
         "1679.0"
        ],
        [
         "34",
         "35",
         "13.0",
         "81.0",
         "Aceitunas Verdes 200g",
         "3.0",
         "2520.0",
         "7560.0",
         "2024-01-24T00:00:00.000000000",
         "6.0",
         "Uma Medina",
         "uma.medina@mail.com",
         "tarjeta",
         "Aceitunas Verdes 200g",
         "Alimentos",
         "2520.0",
         "Uma Medina",
         "uma.medina@mail.com",
         "Villa Maria",
         "2023-01-06T00:00:00.000000000",
         "7560.0",
         "2520.0"
        ],
        [
         "35",
         "36",
         "13.0",
         "13.0",
         "Té Verde 20 saquitos",
         "1.0",
         "2383.0",
         "2383.0",
         "2024-01-24T00:00:00.000000000",
         "6.0",
         "Uma Medina",
         "uma.medina@mail.com",
         "tarjeta",
         "Té Verde 20 saquitos",
         "Alimentos",
         "2383.0",
         "Uma Medina",
         "uma.medina@mail.com",
         "Villa Maria",
         "2023-01-06T00:00:00.000000000",
         "2383.0",
         "2383.0"
        ],
        [
         "36",
         "37",
         "14.0",
         "36.0",
         "Dulce de Leche 400g",
         "4.0",
         "2559.0",
         "10236.0",
         "2024-04-18T00:00:00.000000000",
         "67.0",
         "Ivana Romero",
         "ivana.romero@mail.com",
         "qr",
         "Dulce de Leche 400g",
         "Limpieza",
         "2559.0",
         "Ivana Romero",
         "ivana.romero@mail.com",
         "Alta Gracia",
         "2023-03-08T00:00:00.000000000",
         "10236.0",
         "2559.0"
        ],
        [
         "37",
         "38",
         "14.0",
         "72.0",
         "Ron 700ml",
         "5.0",
         "3876.0",
         "19380.0",
         "2024-04-18T00:00:00.000000000",
         "67.0",
         "Ivana Romero",
         "ivana.romero@mail.com",
         "qr",
         "Ron 700ml",
         "Limpieza",
         "3876.0",
         "Ivana Romero",
         "ivana.romero@mail.com",
         "Alta Gracia",
         "2023-03-08T00:00:00.000000000",
         "19380.0",
         "3876.0"
        ],
        [
         "38",
         "39",
         "14.0",
         "38.0",
         "Mermelada de Frutilla 400g",
         "3.0",
         "1584.0",
         "4752.0",
         "2024-04-18T00:00:00.000000000",
         "67.0",
         "Ivana Romero",
         "ivana.romero@mail.com",
         "qr",
         "Mermelada de Frutilla 400g",
         "Limpieza",
         "1584.0",
         "Ivana Romero",
         "ivana.romero@mail.com",
         "Alta Gracia",
         "2023-03-08T00:00:00.000000000",
         "4752.0",
         "1584.0"
        ],
        [
         "39",
         "40",
         "14.0",
         "97.0",
         "Limpiavidrios 500ml",
         "1.0",
         "872.0",
         "872.0",
         "2024-04-18T00:00:00.000000000",
         "67.0",
         "Ivana Romero",
         "ivana.romero@mail.com",
         "qr",
         "Limpiavidrios 500ml",
         "Alimentos",
         "872.0",
         "Ivana Romero",
         "ivana.romero@mail.com",
         "Alta Gracia",
         "2023-03-08T00:00:00.000000000",
         "872.0",
         "872.0"
        ],
        [
         "40",
         "41",
         "15.0",
         "37.0",
         "Mermelada de Durazno 400g",
         "3.0",
         "3196.0",
         "9588.0",
         "2024-06-27T00:00:00.000000000",
         "56.0",
         "Bruno Diaz",
         "bruno.diaz@mail.com",
         "transferencia",
         "Mermelada de Durazno 400g",
         "Alimentos",
         "3196.0",
         "Bruno Diaz",
         "bruno.diaz@mail.com",
         "Rio Cuarto",
         "2023-02-25T00:00:00.000000000",
         "9588.0",
         "3196.0"
        ],
        [
         "41",
         "42",
         "16.0",
         "35.0",
         "Barrita de Cereal 30g",
         "5.0",
         "4430.0",
         "22150.0",
         "2024-04-12T00:00:00.000000000",
         "2.0",
         "Nicolas Rojas",
         "nicolas.rojas@mail.com",
         "efectivo",
         "Barrita de Cereal 30g",
         "Alimentos",
         "4430.0",
         "Nicolas Rojas",
         "nicolas.rojas@mail.com",
         "Carlos Paz",
         "2023-01-02T00:00:00.000000000",
         "22150.0",
         "4430.0"
        ],
        [
         "42",
         "43",
         "17.0",
         "81.0",
         "Aceitunas Verdes 200g",
         "5.0",
         "2520.0",
         "12600.0",
         "2024-02-17T00:00:00.000000000",
         "88.0",
         "Felipe Castro",
         "felipe.castro@mail.com",
         "efectivo",
         "Aceitunas Verdes 200g",
         "Alimentos",
         "2520.0",
         "Felipe Castro",
         "felipe.castro@mail.com",
         "Villa Maria",
         "2023-03-29T00:00:00.000000000",
         "12600.0",
         "2520.0"
        ],
        [
         "43",
         "44",
         "17.0",
         "46.0",
         "Lentejas Secas 500g",
         "5.0",
         "3036.0",
         "15180.0",
         "2024-02-17T00:00:00.000000000",
         "88.0",
         "Felipe Castro",
         "felipe.castro@mail.com",
         "efectivo",
         "Lentejas Secas 500g",
         "Limpieza",
         "3036.0",
         "Felipe Castro",
         "felipe.castro@mail.com",
         "Villa Maria",
         "2023-03-29T00:00:00.000000000",
         "15180.0",
         "3036.0"
        ],
        [
         "44",
         "45",
         "17.0",
         "74.0",
         "Whisky 750ml",
         "3.0",
         "2953.0",
         "8859.0",
         "2024-02-17T00:00:00.000000000",
         "88.0",
         "Felipe Castro",
         "felipe.castro@mail.com",
         "efectivo",
         "Whisky 750ml",
         "Limpieza",
         "2953.0",
         "Felipe Castro",
         "felipe.castro@mail.com",
         "Villa Maria",
         "2023-03-29T00:00:00.000000000",
         "8859.0",
         "2953.0"
        ],
        [
         "45",
         "46",
         "18.0",
         "33.0",
         "Chocolate con Leche 100g",
         "2.0",
         "1255.0",
         "2510.0",
         "2024-06-11T00:00:00.000000000",
         "81.0",
         "Camila Ruiz",
         "camila.ruiz@mail.com",
         "qr",
         "Chocolate con Leche 100g",
         "Alimentos",
         "1255.0",
         "Camila Ruiz",
         "camila.ruiz@mail.com",
         "Carlos Paz",
         "2023-03-22T00:00:00.000000000",
         "2510.0",
         "1255.0"
        ],
        [
         "46",
         "47",
         "18.0",
         "4.0",
         "Fanta Naranja 1.5L",
         "5.0",
         "2033.0",
         "10165.0",
         "2024-06-11T00:00:00.000000000",
         "81.0",
         "Camila Ruiz",
         "camila.ruiz@mail.com",
         "qr",
         "Fanta Naranja 1.5L",
         "Limpieza",
         "2033.0",
         "Camila Ruiz",
         "camila.ruiz@mail.com",
         "Carlos Paz",
         "2023-03-22T00:00:00.000000000",
         "10165.0",
         "2033.0"
        ],
        [
         "47",
         "48",
         "18.0",
         "24.0",
         "Galletitas Chocolate",
         "2.0",
         "1305.0",
         "2610.0",
         "2024-06-11T00:00:00.000000000",
         "81.0",
         "Camila Ruiz",
         "camila.ruiz@mail.com",
         "qr",
         "Galletitas Chocolate",
         "Limpieza",
         "1305.0",
         "Camila Ruiz",
         "camila.ruiz@mail.com",
         "Carlos Paz",
         "2023-03-22T00:00:00.000000000",
         "2610.0",
         "1305.0"
        ],
        [
         "48",
         "49",
         "18.0",
         "15.0",
         "Leche Descremada 1L",
         "3.0",
         "2538.0",
         "7614.0",
         "2024-06-11T00:00:00.000000000",
         "81.0",
         "Camila Ruiz",
         "camila.ruiz@mail.com",
         "qr",
         "Leche Descremada 1L",
         "Alimentos",
         "2538.0",
         "Camila Ruiz",
         "camila.ruiz@mail.com",
         "Carlos Paz",
         "2023-03-22T00:00:00.000000000",
         "7614.0",
         "2538.0"
        ],
        [
         "49",
         "50",
         "18.0",
         "22.0",
         "Medialunas de Manteca",
         "5.0",
         "2069.0",
         "10345.0",
         "2024-06-11T00:00:00.000000000",
         "81.0",
         "Camila Ruiz",
         "camila.ruiz@mail.com",
         "qr",
         "Medialunas de Manteca",
         "Limpieza",
         "2069.0",
         "Camila Ruiz",
         "camila.ruiz@mail.com",
         "Carlos Paz",
         "2023-03-22T00:00:00.000000000",
         "10345.0",
         "2069.0"
        ]
       ],
       "shape": {
        "columns": 21,
        "rows": 343
       }
      },
      "text/html": [
       "<div>\n",
       "<style scoped>\n",
       "    .dataframe tbody tr th:only-of-type {\n",
       "        vertical-align: middle;\n",
       "    }\n",
       "\n",
       "    .dataframe tbody tr th {\n",
       "        vertical-align: top;\n",
       "    }\n",
       "\n",
       "    .dataframe thead th {\n",
       "        text-align: right;\n",
       "    }\n",
       "</style>\n",
       "<table border=\"1\" class=\"dataframe\">\n",
       "  <thead>\n",
       "    <tr style=\"text-align: right;\">\n",
       "      <th></th>\n",
       "      <th>id_detalle</th>\n",
       "      <th>id_venta</th>\n",
       "      <th>id_producto</th>\n",
       "      <th>nombre_producto</th>\n",
       "      <th>cantidad</th>\n",
       "      <th>precio_unitario</th>\n",
       "      <th>importe</th>\n",
       "      <th>fecha</th>\n",
       "      <th>id_cliente</th>\n",
       "      <th>nombre_cliente</th>\n",
       "      <th>...</th>\n",
       "      <th>medio_pago</th>\n",
       "      <th>nombre_producto_right</th>\n",
       "      <th>categoria</th>\n",
       "      <th>precio_unitario_right</th>\n",
       "      <th>nombre_cliente_right</th>\n",
       "      <th>email_right</th>\n",
       "      <th>ciudad</th>\n",
       "      <th>fecha_alta</th>\n",
       "      <th>ingreso_total</th>\n",
       "      <th>precio_promedio</th>\n",
       "    </tr>\n",
       "  </thead>\n",
       "  <tbody>\n",
       "    <tr>\n",
       "      <th>0</th>\n",
       "      <td>1</td>\n",
       "      <td>1.0</td>\n",
       "      <td>90.0</td>\n",
       "      <td>Toallas Húmedas x50</td>\n",
       "      <td>1.0</td>\n",
       "      <td>2902.0</td>\n",
       "      <td>2902.0</td>\n",
       "      <td>2024-06-19T00:00:00.000000000</td>\n",
       "      <td>62.0</td>\n",
       "      <td>Guadalupe Romero</td>\n",
       "      <td>...</td>\n",
       "      <td>tarjeta</td>\n",
       "      <td>Toallas Húmedas x50</td>\n",
       "      <td>Limpieza</td>\n",
       "      <td>2902.0</td>\n",
       "      <td>Guadalupe Romero</td>\n",
       "      <td>guadalupe.romero@mail.com</td>\n",
       "      <td>Carlos Paz</td>\n",
       "      <td>2023-03-03T00:00:00.000000000</td>\n",
       "      <td>2902.0</td>\n",
       "      <td>2902.0</td>\n",
       "    </tr>\n",
       "    <tr>\n",
       "      <th>1</th>\n",
       "      <td>2</td>\n",
       "      <td>2.0</td>\n",
       "      <td>82.0</td>\n",
       "      <td>Aceitunas Negras 200g</td>\n",
       "      <td>5.0</td>\n",
       "      <td>2394.0</td>\n",
       "      <td>11970.0</td>\n",
       "      <td>2024-03-17T00:00:00.000000000</td>\n",
       "      <td>49.0</td>\n",
       "      <td>Olivia Gomez</td>\n",
       "      <td>...</td>\n",
       "      <td>qr</td>\n",
       "      <td>Aceitunas Negras 200g</td>\n",
       "      <td>Limpieza</td>\n",
       "      <td>2394.0</td>\n",
       "      <td>Olivia Gomez</td>\n",
       "      <td>olivia.gomez@mail.com</td>\n",
       "      <td>Rio Cuarto</td>\n",
       "      <td>2023-02-18T00:00:00.000000000</td>\n",
       "      <td>11970.0</td>\n",
       "      <td>2394.0</td>\n",
       "    </tr>\n",
       "    <tr>\n",
       "      <th>2</th>\n",
       "      <td>3</td>\n",
       "      <td>2.0</td>\n",
       "      <td>39.0</td>\n",
       "      <td>Helado Vainilla 1L</td>\n",
       "      <td>5.0</td>\n",
       "      <td>469.0</td>\n",
       "      <td>2345.0</td>\n",
       "      <td>2024-03-17T00:00:00.000000000</td>\n",
       "      <td>49.0</td>\n",
       "      <td>Olivia Gomez</td>\n",
       "      <td>...</td>\n",
       "      <td>qr</td>\n",
       "      <td>Helado Vainilla 1L</td>\n",
       "      <td>Alimentos</td>\n",
       "      <td>469.0</td>\n",
       "      <td>Olivia Gomez</td>\n",
       "      <td>olivia.gomez@mail.com</td>\n",
       "      <td>Rio Cuarto</td>\n",
       "      <td>2023-02-18T00:00:00.000000000</td>\n",
       "      <td>2345.0</td>\n",
       "      <td>469.0</td>\n",
       "    </tr>\n",
       "    <tr>\n",
       "      <th>3</th>\n",
       "      <td>4</td>\n",
       "      <td>2.0</td>\n",
       "      <td>70.0</td>\n",
       "      <td>Fernet 750ml</td>\n",
       "      <td>2.0</td>\n",
       "      <td>4061.0</td>\n",
       "      <td>8122.0</td>\n",
       "      <td>2024-03-17T00:00:00.000000000</td>\n",
       "      <td>49.0</td>\n",
       "      <td>Olivia Gomez</td>\n",
       "      <td>...</td>\n",
       "      <td>qr</td>\n",
       "      <td>Fernet 750ml</td>\n",
       "      <td>Limpieza</td>\n",
       "      <td>4061.0</td>\n",
       "      <td>Olivia Gomez</td>\n",
       "      <td>olivia.gomez@mail.com</td>\n",
       "      <td>Rio Cuarto</td>\n",
       "      <td>2023-02-18T00:00:00.000000000</td>\n",
       "      <td>8122.0</td>\n",
       "      <td>4061.0</td>\n",
       "    </tr>\n",
       "    <tr>\n",
       "      <th>4</th>\n",
       "      <td>5</td>\n",
       "      <td>2.0</td>\n",
       "      <td>22.0</td>\n",
       "      <td>Medialunas de Manteca</td>\n",
       "      <td>1.0</td>\n",
       "      <td>2069.0</td>\n",
       "      <td>2069.0</td>\n",
       "      <td>2024-03-17T00:00:00.000000000</td>\n",
       "      <td>49.0</td>\n",
       "      <td>Olivia Gomez</td>\n",
       "      <td>...</td>\n",
       "      <td>qr</td>\n",
       "      <td>Medialunas de Manteca</td>\n",
       "      <td>Limpieza</td>\n",
       "      <td>2069.0</td>\n",
       "      <td>Olivia Gomez</td>\n",
       "      <td>olivia.gomez@mail.com</td>\n",
       "      <td>Rio Cuarto</td>\n",
       "      <td>2023-02-18T00:00:00.000000000</td>\n",
       "      <td>2069.0</td>\n",
       "      <td>2069.0</td>\n",
       "    </tr>\n",
       "    <tr>\n",
       "      <th>...</th>\n",
       "      <td>...</td>\n",
       "      <td>...</td>\n",
       "      <td>...</td>\n",
       "      <td>...</td>\n",
       "      <td>...</td>\n",
       "      <td>...</td>\n",
       "      <td>...</td>\n",
       "      <td>...</td>\n",
       "      <td>...</td>\n",
       "      <td>...</td>\n",
       "      <td>...</td>\n",
       "      <td>...</td>\n",
       "      <td>...</td>\n",
       "      <td>...</td>\n",
       "      <td>...</td>\n",
       "      <td>...</td>\n",
       "      <td>...</td>\n",
       "      <td>...</td>\n",
       "      <td>...</td>\n",
       "      <td>...</td>\n",
       "      <td>...</td>\n",
       "    </tr>\n",
       "    <tr>\n",
       "      <th>338</th>\n",
       "      <td>339</td>\n",
       "      <td>118.0</td>\n",
       "      <td>70.0</td>\n",
       "      <td>Fernet 750ml</td>\n",
       "      <td>2.0</td>\n",
       "      <td>4061.0</td>\n",
       "      <td>8122.0</td>\n",
       "      <td>2024-02-09T00:00:00.000000000</td>\n",
       "      <td>84.0</td>\n",
       "      <td>Pablo Sanchez</td>\n",
       "      <td>...</td>\n",
       "      <td>efectivo</td>\n",
       "      <td>Fernet 750ml</td>\n",
       "      <td>Limpieza</td>\n",
       "      <td>4061.0</td>\n",
       "      <td>Pablo Sanchez</td>\n",
       "      <td>pablo.sanchez@mail.com</td>\n",
       "      <td>Cordoba</td>\n",
       "      <td>2023-03-25T00:00:00.000000000</td>\n",
       "      <td>8122.0</td>\n",
       "      <td>4061.0</td>\n",
       "    </tr>\n",
       "    <tr>\n",
       "      <th>339</th>\n",
       "      <td>340</td>\n",
       "      <td>118.0</td>\n",
       "      <td>93.0</td>\n",
       "      <td>Cepillo de Dientes</td>\n",
       "      <td>3.0</td>\n",
       "      <td>2142.0</td>\n",
       "      <td>6426.0</td>\n",
       "      <td>2024-02-09T00:00:00.000000000</td>\n",
       "      <td>84.0</td>\n",
       "      <td>Pablo Sanchez</td>\n",
       "      <td>...</td>\n",
       "      <td>efectivo</td>\n",
       "      <td>Cepillo de Dientes</td>\n",
       "      <td>Alimentos</td>\n",
       "      <td>2142.0</td>\n",
       "      <td>Pablo Sanchez</td>\n",
       "      <td>pablo.sanchez@mail.com</td>\n",
       "      <td>Cordoba</td>\n",
       "      <td>2023-03-25T00:00:00.000000000</td>\n",
       "      <td>6426.0</td>\n",
       "      <td>2142.0</td>\n",
       "    </tr>\n",
       "    <tr>\n",
       "      <th>340</th>\n",
       "      <td>341</td>\n",
       "      <td>118.0</td>\n",
       "      <td>50.0</td>\n",
       "      <td>Azúcar 1kg</td>\n",
       "      <td>2.0</td>\n",
       "      <td>727.0</td>\n",
       "      <td>1454.0</td>\n",
       "      <td>2024-02-09T00:00:00.000000000</td>\n",
       "      <td>84.0</td>\n",
       "      <td>Pablo Sanchez</td>\n",
       "      <td>...</td>\n",
       "      <td>efectivo</td>\n",
       "      <td>Azúcar 1kg</td>\n",
       "      <td>Limpieza</td>\n",
       "      <td>727.0</td>\n",
       "      <td>Pablo Sanchez</td>\n",
       "      <td>pablo.sanchez@mail.com</td>\n",
       "      <td>Cordoba</td>\n",
       "      <td>2023-03-25T00:00:00.000000000</td>\n",
       "      <td>1454.0</td>\n",
       "      <td>727.0</td>\n",
       "    </tr>\n",
       "    <tr>\n",
       "      <th>341</th>\n",
       "      <td>342</td>\n",
       "      <td>119.0</td>\n",
       "      <td>45.0</td>\n",
       "      <td>Fideos Spaghetti 500g</td>\n",
       "      <td>5.0</td>\n",
       "      <td>745.0</td>\n",
       "      <td>3725.0</td>\n",
       "      <td>2024-02-07T00:00:00.000000000</td>\n",
       "      <td>51.0</td>\n",
       "      <td>Agustina Gomez</td>\n",
       "      <td>...</td>\n",
       "      <td>qr</td>\n",
       "      <td>Fideos Spaghetti 500g</td>\n",
       "      <td>Alimentos</td>\n",
       "      <td>745.0</td>\n",
       "      <td>Agustina Gomez</td>\n",
       "      <td>agustina.gomez@mail.com</td>\n",
       "      <td>Rio Cuarto</td>\n",
       "      <td>2023-02-20T00:00:00.000000000</td>\n",
       "      <td>3725.0</td>\n",
       "      <td>745.0</td>\n",
       "    </tr>\n",
       "    <tr>\n",
       "      <th>342</th>\n",
       "      <td>343</td>\n",
       "      <td>120.0</td>\n",
       "      <td>20.0</td>\n",
       "      <td>Pan Lactal Blanco</td>\n",
       "      <td>5.0</td>\n",
       "      <td>1571.0</td>\n",
       "      <td>7855.0</td>\n",
       "      <td>2024-04-21T00:00:00.000000000</td>\n",
       "      <td>72.0</td>\n",
       "      <td>Camila Rodriguez</td>\n",
       "      <td>...</td>\n",
       "      <td>tarjeta</td>\n",
       "      <td>Pan Lactal Blanco</td>\n",
       "      <td>Limpieza</td>\n",
       "      <td>1571.0</td>\n",
       "      <td>Camila Rodriguez</td>\n",
       "      <td>camila.rodriguez@mail.com</td>\n",
       "      <td>Cordoba</td>\n",
       "      <td>2023-03-13T00:00:00.000000000</td>\n",
       "      <td>7855.0</td>\n",
       "      <td>1571.0</td>\n",
       "    </tr>\n",
       "  </tbody>\n",
       "</table>\n",
       "<p>343 rows × 21 columns</p>\n",
       "</div>"
      ],
      "text/plain": [
       "     id_detalle  id_venta  id_producto        nombre_producto  cantidad  \\\n",
       "0             1       1.0         90.0    Toallas Húmedas x50       1.0   \n",
       "1             2       2.0         82.0  Aceitunas Negras 200g       5.0   \n",
       "2             3       2.0         39.0     Helado Vainilla 1L       5.0   \n",
       "3             4       2.0         70.0           Fernet 750ml       2.0   \n",
       "4             5       2.0         22.0  Medialunas de Manteca       1.0   \n",
       "..          ...       ...          ...                    ...       ...   \n",
       "338         339     118.0         70.0           Fernet 750ml       2.0   \n",
       "339         340     118.0         93.0     Cepillo de Dientes       3.0   \n",
       "340         341     118.0         50.0             Azúcar 1kg       2.0   \n",
       "341         342     119.0         45.0  Fideos Spaghetti 500g       5.0   \n",
       "342         343     120.0         20.0      Pan Lactal Blanco       5.0   \n",
       "\n",
       "     precio_unitario  importe                          fecha  id_cliente  \\\n",
       "0             2902.0   2902.0  2024-06-19T00:00:00.000000000        62.0   \n",
       "1             2394.0  11970.0  2024-03-17T00:00:00.000000000        49.0   \n",
       "2              469.0   2345.0  2024-03-17T00:00:00.000000000        49.0   \n",
       "3             4061.0   8122.0  2024-03-17T00:00:00.000000000        49.0   \n",
       "4             2069.0   2069.0  2024-03-17T00:00:00.000000000        49.0   \n",
       "..               ...      ...                            ...         ...   \n",
       "338           4061.0   8122.0  2024-02-09T00:00:00.000000000        84.0   \n",
       "339           2142.0   6426.0  2024-02-09T00:00:00.000000000        84.0   \n",
       "340            727.0   1454.0  2024-02-09T00:00:00.000000000        84.0   \n",
       "341            745.0   3725.0  2024-02-07T00:00:00.000000000        51.0   \n",
       "342           1571.0   7855.0  2024-04-21T00:00:00.000000000        72.0   \n",
       "\n",
       "       nombre_cliente  ... medio_pago  nombre_producto_right  categoria  \\\n",
       "0    Guadalupe Romero  ...    tarjeta    Toallas Húmedas x50   Limpieza   \n",
       "1        Olivia Gomez  ...         qr  Aceitunas Negras 200g   Limpieza   \n",
       "2        Olivia Gomez  ...         qr     Helado Vainilla 1L  Alimentos   \n",
       "3        Olivia Gomez  ...         qr           Fernet 750ml   Limpieza   \n",
       "4        Olivia Gomez  ...         qr  Medialunas de Manteca   Limpieza   \n",
       "..                ...  ...        ...                    ...        ...   \n",
       "338     Pablo Sanchez  ...   efectivo           Fernet 750ml   Limpieza   \n",
       "339     Pablo Sanchez  ...   efectivo     Cepillo de Dientes  Alimentos   \n",
       "340     Pablo Sanchez  ...   efectivo             Azúcar 1kg   Limpieza   \n",
       "341    Agustina Gomez  ...         qr  Fideos Spaghetti 500g  Alimentos   \n",
       "342  Camila Rodriguez  ...    tarjeta      Pan Lactal Blanco   Limpieza   \n",
       "\n",
       "    precio_unitario_right  nombre_cliente_right                email_right  \\\n",
       "0                  2902.0      Guadalupe Romero  guadalupe.romero@mail.com   \n",
       "1                  2394.0          Olivia Gomez      olivia.gomez@mail.com   \n",
       "2                   469.0          Olivia Gomez      olivia.gomez@mail.com   \n",
       "3                  4061.0          Olivia Gomez      olivia.gomez@mail.com   \n",
       "4                  2069.0          Olivia Gomez      olivia.gomez@mail.com   \n",
       "..                    ...                   ...                        ...   \n",
       "338                4061.0         Pablo Sanchez     pablo.sanchez@mail.com   \n",
       "339                2142.0         Pablo Sanchez     pablo.sanchez@mail.com   \n",
       "340                 727.0         Pablo Sanchez     pablo.sanchez@mail.com   \n",
       "341                 745.0        Agustina Gomez    agustina.gomez@mail.com   \n",
       "342                1571.0      Camila Rodriguez  camila.rodriguez@mail.com   \n",
       "\n",
       "         ciudad                     fecha_alta ingreso_total  precio_promedio  \n",
       "0    Carlos Paz  2023-03-03T00:00:00.000000000        2902.0           2902.0  \n",
       "1    Rio Cuarto  2023-02-18T00:00:00.000000000       11970.0           2394.0  \n",
       "2    Rio Cuarto  2023-02-18T00:00:00.000000000        2345.0            469.0  \n",
       "3    Rio Cuarto  2023-02-18T00:00:00.000000000        8122.0           4061.0  \n",
       "4    Rio Cuarto  2023-02-18T00:00:00.000000000        2069.0           2069.0  \n",
       "..          ...                            ...           ...              ...  \n",
       "338     Cordoba  2023-03-25T00:00:00.000000000        8122.0           4061.0  \n",
       "339     Cordoba  2023-03-25T00:00:00.000000000        6426.0           2142.0  \n",
       "340     Cordoba  2023-03-25T00:00:00.000000000        1454.0            727.0  \n",
       "341  Rio Cuarto  2023-02-20T00:00:00.000000000        3725.0            745.0  \n",
       "342     Cordoba  2023-03-13T00:00:00.000000000        7855.0           1571.0  \n",
       "\n",
       "[343 rows x 21 columns]"
      ]
     },
     "execution_count": 4,
     "metadata": {},
     "output_type": "execute_result"
    }
   ],
   "source": [
    "data"
   ]
  },
  {
   "cell_type": "markdown",
   "id": "75967ba2",
   "metadata": {},
   "source": [
    "### 3. Limpieza y Preparación Inicial de datos"
   ]
  },
  {
   "cell_type": "markdown",
   "id": "7174ccec",
   "metadata": {},
   "source": [
    "3.1 Gestion de columnas duplicadas"
   ]
  },
  {
   "cell_type": "code",
   "execution_count": 5,
   "id": "c69826b7",
   "metadata": {},
   "outputs": [
    {
     "name": "stdout",
     "output_type": "stream",
     "text": [
      "--- 3.1 Gestión de Columnas Redundantes/Duplicadas ---\n",
      "Columnas eliminadas (redundantes): ['nombre_producto_right', 'precio_unitario_right', 'nombre_cliente_right', 'email_right']\n",
      "--------------------------------------------------\n"
     ]
    }
   ],
   "source": [
    "# 1. Gestión de Columnas Redundantes/Duplicadas\n",
    "print(\"--- 3.1 Gestión de Columnas Redundantes/Duplicadas ---\")\n",
    "columnas_a_eliminar = [col for col in data.columns if col.endswith('_right')]\n",
    "data = data.drop(columns=columnas_a_eliminar)\n",
    "print(f\"Columnas eliminadas (redundantes): {columnas_a_eliminar}\")\n",
    "print(\"-\" * 50)"
   ]
  },
  {
   "cell_type": "markdown",
   "id": "3d1c63e8",
   "metadata": {},
   "source": [
    "3.2 Inspección de valores faltantes"
   ]
  },
  {
   "cell_type": "code",
   "execution_count": 6,
   "id": "574cc882",
   "metadata": {},
   "outputs": [
    {
     "name": "stdout",
     "output_type": "stream",
     "text": [
      "--- 3.2 Inspección de Valores Faltantes (Nulos) ---\n",
      "¡Genial! No se encontraron valores nulos en el DataFrame.\n",
      "--------------------------------------------------\n"
     ]
    }
   ],
   "source": [
    "# 2. Inspección de Valores Faltantes (Nulos)\n",
    "print(\"--- 3.2 Inspección de Valores Faltantes (Nulos) ---\")\n",
    "nulos = data.isnull().sum()\n",
    "nulos_data = nulos[nulos > 0] # Filtra solo las que tienen nulos\n",
    "\n",
    "if nulos_data.empty:\n",
    "    print(\"¡Genial! No se encontraron valores nulos en el DataFrame.\")\n",
    "else:\n",
    "    print(\"Columnas con Valores Nulos:\")\n",
    "    print(nulos_data)\n",
    "print(\"-\" * 50)"
   ]
  },
  {
   "cell_type": "markdown",
   "id": "98356ced",
   "metadata": {},
   "source": [
    "3.3 Convertir tipos de datos"
   ]
  },
  {
   "cell_type": "code",
   "execution_count": 7,
   "id": "da8eeee1",
   "metadata": {},
   "outputs": [
    {
     "name": "stdout",
     "output_type": "stream",
     "text": [
      "--- 3.3 Conversión de Tipos de Datos (Fechas) ---\n",
      "Tipos de datos después de la limpieza y conversión de fechas:\n",
      "<class 'pandas.core.frame.DataFrame'>\n",
      "RangeIndex: 343 entries, 0 to 342\n",
      "Data columns (total 17 columns):\n",
      " #   Column              Non-Null Count  Dtype         \n",
      "---  ------              --------------  -----         \n",
      " 0   id_detalle          343 non-null    int64         \n",
      " 1   id_venta            343 non-null    float64       \n",
      " 2   id_producto         343 non-null    float64       \n",
      " 3   nombre_producto     343 non-null    object        \n",
      " 4   cantidad            343 non-null    float64       \n",
      " 5   precio_unitario     343 non-null    float64       \n",
      " 6   importe             343 non-null    float64       \n",
      " 7   id_cliente          343 non-null    float64       \n",
      " 8   nombre_cliente      343 non-null    object        \n",
      " 9   email               343 non-null    object        \n",
      " 10  medio_pago          343 non-null    object        \n",
      " 11  categoria           343 non-null    object        \n",
      " 12  ciudad              343 non-null    object        \n",
      " 13  ingreso_total       343 non-null    float64       \n",
      " 14  precio_promedio     343 non-null    float64       \n",
      " 15  fecha_venta         343 non-null    datetime64[ns]\n",
      " 16  fecha_alta_cliente  343 non-null    datetime64[ns]\n",
      "dtypes: datetime64[ns](2), float64(8), int64(1), object(6)\n",
      "memory usage: 45.7+ KB\n",
      "\n",
      "Primeras 2 filas después de la limpieza:\n",
      "|   id_detalle |   id_venta |   id_producto | nombre_producto       |   cantidad |   precio_unitario |   importe |   id_cliente | nombre_cliente   | email                     | medio_pago   | categoria   | ciudad     |   ingreso_total |   precio_promedio | fecha_venta         | fecha_alta_cliente   |\n",
      "|-------------:|-----------:|--------------:|:----------------------|-----------:|------------------:|----------:|-------------:|:-----------------|:--------------------------|:-------------|:------------|:-----------|----------------:|------------------:|:--------------------|:---------------------|\n",
      "|            1 |          1 |            90 | Toallas Húmedas x50   |          1 |              2902 |      2902 |           62 | Guadalupe Romero | guadalupe.romero@mail.com | tarjeta      | Limpieza    | Carlos Paz |            2902 |              2902 | 2024-06-19 00:00:00 | 2023-03-03 00:00:00  |\n",
      "|            2 |          2 |            82 | Aceitunas Negras 200g |          5 |              2394 |     11970 |           49 | Olivia Gomez     | olivia.gomez@mail.com     | qr           | Limpieza    | Rio Cuarto |           11970 |              2394 | 2024-03-17 00:00:00 | 2023-02-18 00:00:00  |\n"
     ]
    }
   ],
   "source": [
    "# 3. Conversión de Tipos de Datos (Fechas)\n",
    "print(\"--- 3.3 Conversión de Tipos de Datos (Fechas) ---\")\n",
    "\n",
    "# Convertimos las columnas de fecha a Datetime y les asignamos nuevos nombres\n",
    "data['fecha_venta'] = pd.to_datetime(data['fecha'], errors='coerce')\n",
    "data['fecha_alta_cliente'] = pd.to_datetime(data['fecha_alta'], errors='coerce')\n",
    "\n",
    "# Eliminamos las columnas originales de cadena\n",
    "data = data.drop(columns=[\"fecha\", \"fecha_alta\"]) \n",
    "\n",
    "print(\"Tipos de datos después de la limpieza y conversión de fechas:\")\n",
    "data.info()\n",
    "print(\"\\nPrimeras 2 filas después de la limpieza:\")\n",
    "print(data.head(2).to_markdown(index=False))"
   ]
  },
  {
   "cell_type": "markdown",
   "id": "41188fcb",
   "metadata": {},
   "source": [
    "### 4. Análisis Exploratorio de Datos (EDA) con Plotly"
   ]
  },
  {
   "cell_type": "code",
   "execution_count": 8,
   "id": "c25c9c65",
   "metadata": {},
   "outputs": [
    {
     "name": "stdout",
     "output_type": "stream",
     "text": [
      "Generando Gráfico 1: Distribución del Ingreso Total...\n"
     ]
    },
    {
     "data": {
      "application/vnd.plotly.v1+json": {
       "config": {
        "plotlyServerURL": "https://plot.ly"
       },
       "data": [
        {
         "bingroup": "x",
         "hovertemplate": "ingreso_total=%{x}<br>count=%{y}<extra></extra>",
         "legendgroup": "",
         "marker": {
          "color": "#636efa",
          "pattern": {
           "shape": ""
          }
         },
         "name": "",
         "nbinsx": 30,
         "orientation": "v",
         "showlegend": false,
         "type": "histogram",
         "x": {
          "bdata": "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",
          "dtype": "f8"
         },
         "xaxis": "x",
         "yaxis": "y"
        }
       ],
       "layout": {
        "barmode": "relative",
        "legend": {
         "tracegroupgap": 0
        },
        "template": {
         "data": {
          "bar": [
           {
            "error_x": {
             "color": "#2a3f5f"
            },
            "error_y": {
             "color": "#2a3f5f"
            },
            "marker": {
             "line": {
              "color": "white",
              "width": 0.5
             },
             "pattern": {
              "fillmode": "overlay",
              "size": 10,
              "solidity": 0.2
             }
            },
            "type": "bar"
           }
          ],
          "barpolar": [
           {
            "marker": {
             "line": {
              "color": "white",
              "width": 0.5
             },
             "pattern": {
              "fillmode": "overlay",
              "size": 10,
              "solidity": 0.2
             }
            },
            "type": "barpolar"
           }
          ],
          "carpet": [
           {
            "aaxis": {
             "endlinecolor": "#2a3f5f",
             "gridcolor": "#C8D4E3",
             "linecolor": "#C8D4E3",
             "minorgridcolor": "#C8D4E3",
             "startlinecolor": "#2a3f5f"
            },
            "baxis": {
             "endlinecolor": "#2a3f5f",
             "gridcolor": "#C8D4E3",
             "linecolor": "#C8D4E3",
             "minorgridcolor": "#C8D4E3",
             "startlinecolor": "#2a3f5f"
            },
            "type": "carpet"
           }
          ],
          "choropleth": [
           {
            "colorbar": {
             "outlinewidth": 0,
             "ticks": ""
            },
            "type": "choropleth"
           }
          ],
          "contour": [
           {
            "colorbar": {
             "outlinewidth": 0,
             "ticks": ""
            },
            "colorscale": [
             [
              0,
              "#0d0887"
             ],
             [
              0.1111111111111111,
              "#46039f"
             ],
             [
              0.2222222222222222,
              "#7201a8"
             ],
             [
              0.3333333333333333,
              "#9c179e"
             ],
             [
              0.4444444444444444,
              "#bd3786"
             ],
             [
              0.5555555555555556,
              "#d8576b"
             ],
             [
              0.6666666666666666,
              "#ed7953"
             ],
             [
              0.7777777777777778,
              "#fb9f3a"
             ],
             [
              0.8888888888888888,
              "#fdca26"
             ],
             [
              1,
              "#f0f921"
             ]
            ],
            "type": "contour"
           }
          ],
          "contourcarpet": [
           {
            "colorbar": {
             "outlinewidth": 0,
             "ticks": ""
            },
            "type": "contourcarpet"
           }
          ],
          "heatmap": [
           {
            "colorbar": {
             "outlinewidth": 0,
             "ticks": ""
            },
            "colorscale": [
             [
              0,
              "#0d0887"
             ],
             [
              0.1111111111111111,
              "#46039f"
             ],
             [
              0.2222222222222222,
              "#7201a8"
             ],
             [
              0.3333333333333333,
              "#9c179e"
             ],
             [
              0.4444444444444444,
              "#bd3786"
             ],
             [
              0.5555555555555556,
              "#d8576b"
             ],
             [
              0.6666666666666666,
              "#ed7953"
             ],
             [
              0.7777777777777778,
              "#fb9f3a"
             ],
             [
              0.8888888888888888,
              "#fdca26"
             ],
             [
              1,
              "#f0f921"
             ]
            ],
            "type": "heatmap"
           }
          ],
          "histogram": [
           {
            "marker": {
             "pattern": {
              "fillmode": "overlay",
              "size": 10,
              "solidity": 0.2
             }
            },
            "type": "histogram"
           }
          ],
          "histogram2d": [
           {
            "colorbar": {
             "outlinewidth": 0,
             "ticks": ""
            },
            "colorscale": [
             [
              0,
              "#0d0887"
             ],
             [
              0.1111111111111111,
              "#46039f"
             ],
             [
              0.2222222222222222,
              "#7201a8"
             ],
             [
              0.3333333333333333,
              "#9c179e"
             ],
             [
              0.4444444444444444,
              "#bd3786"
             ],
             [
              0.5555555555555556,
              "#d8576b"
             ],
             [
              0.6666666666666666,
              "#ed7953"
             ],
             [
              0.7777777777777778,
              "#fb9f3a"
             ],
             [
              0.8888888888888888,
              "#fdca26"
             ],
             [
              1,
              "#f0f921"
             ]
            ],
            "type": "histogram2d"
           }
          ],
          "histogram2dcontour": [
           {
            "colorbar": {
             "outlinewidth": 0,
             "ticks": ""
            },
            "colorscale": [
             [
              0,
              "#0d0887"
             ],
             [
              0.1111111111111111,
              "#46039f"
             ],
             [
              0.2222222222222222,
              "#7201a8"
             ],
             [
              0.3333333333333333,
              "#9c179e"
             ],
             [
              0.4444444444444444,
              "#bd3786"
             ],
             [
              0.5555555555555556,
              "#d8576b"
             ],
             [
              0.6666666666666666,
              "#ed7953"
             ],
             [
              0.7777777777777778,
              "#fb9f3a"
             ],
             [
              0.8888888888888888,
              "#fdca26"
             ],
             [
              1,
              "#f0f921"
             ]
            ],
            "type": "histogram2dcontour"
           }
          ],
          "mesh3d": [
           {
            "colorbar": {
             "outlinewidth": 0,
             "ticks": ""
            },
            "type": "mesh3d"
           }
          ],
          "parcoords": [
           {
            "line": {
             "colorbar": {
              "outlinewidth": 0,
              "ticks": ""
             }
            },
            "type": "parcoords"
           }
          ],
          "pie": [
           {
            "automargin": true,
            "type": "pie"
           }
          ],
          "scatter": [
           {
            "fillpattern": {
             "fillmode": "overlay",
             "size": 10,
             "solidity": 0.2
            },
            "type": "scatter"
           }
          ],
          "scatter3d": [
           {
            "line": {
             "colorbar": {
              "outlinewidth": 0,
              "ticks": ""
             }
            },
            "marker": {
             "colorbar": {
              "outlinewidth": 0,
              "ticks": ""
             }
            },
            "type": "scatter3d"
           }
          ],
          "scattercarpet": [
           {
            "marker": {
             "colorbar": {
              "outlinewidth": 0,
              "ticks": ""
             }
            },
            "type": "scattercarpet"
           }
          ],
          "scattergeo": [
           {
            "marker": {
             "colorbar": {
              "outlinewidth": 0,
              "ticks": ""
             }
            },
            "type": "scattergeo"
           }
          ],
          "scattergl": [
           {
            "marker": {
             "colorbar": {
              "outlinewidth": 0,
              "ticks": ""
             }
            },
            "type": "scattergl"
           }
          ],
          "scattermap": [
           {
            "marker": {
             "colorbar": {
              "outlinewidth": 0,
              "ticks": ""
             }
            },
            "type": "scattermap"
           }
          ],
          "scattermapbox": [
           {
            "marker": {
             "colorbar": {
              "outlinewidth": 0,
              "ticks": ""
             }
            },
            "type": "scattermapbox"
           }
          ],
          "scatterpolar": [
           {
            "marker": {
             "colorbar": {
              "outlinewidth": 0,
              "ticks": ""
             }
            },
            "type": "scatterpolar"
           }
          ],
          "scatterpolargl": [
           {
            "marker": {
             "colorbar": {
              "outlinewidth": 0,
              "ticks": ""
             }
            },
            "type": "scatterpolargl"
           }
          ],
          "scatterternary": [
           {
            "marker": {
             "colorbar": {
              "outlinewidth": 0,
              "ticks": ""
             }
            },
            "type": "scatterternary"
           }
          ],
          "surface": [
           {
            "colorbar": {
             "outlinewidth": 0,
             "ticks": ""
            },
            "colorscale": [
             [
              0,
              "#0d0887"
             ],
             [
              0.1111111111111111,
              "#46039f"
             ],
             [
              0.2222222222222222,
              "#7201a8"
             ],
             [
              0.3333333333333333,
              "#9c179e"
             ],
             [
              0.4444444444444444,
              "#bd3786"
             ],
             [
              0.5555555555555556,
              "#d8576b"
             ],
             [
              0.6666666666666666,
              "#ed7953"
             ],
             [
              0.7777777777777778,
              "#fb9f3a"
             ],
             [
              0.8888888888888888,
              "#fdca26"
             ],
             [
              1,
              "#f0f921"
             ]
            ],
            "type": "surface"
           }
          ],
          "table": [
           {
            "cells": {
             "fill": {
              "color": "#EBF0F8"
             },
             "line": {
              "color": "white"
             }
            },
            "header": {
             "fill": {
              "color": "#C8D4E3"
             },
             "line": {
              "color": "white"
             }
            },
            "type": "table"
           }
          ]
         },
         "layout": {
          "annotationdefaults": {
           "arrowcolor": "#2a3f5f",
           "arrowhead": 0,
           "arrowwidth": 1
          },
          "autotypenumbers": "strict",
          "coloraxis": {
           "colorbar": {
            "outlinewidth": 0,
            "ticks": ""
           }
          },
          "colorscale": {
           "diverging": [
            [
             0,
             "#8e0152"
            ],
            [
             0.1,
             "#c51b7d"
            ],
            [
             0.2,
             "#de77ae"
            ],
            [
             0.3,
             "#f1b6da"
            ],
            [
             0.4,
             "#fde0ef"
            ],
            [
             0.5,
             "#f7f7f7"
            ],
            [
             0.6,
             "#e6f5d0"
            ],
            [
             0.7,
             "#b8e186"
            ],
            [
             0.8,
             "#7fbc41"
            ],
            [
             0.9,
             "#4d9221"
            ],
            [
             1,
             "#276419"
            ]
           ],
           "sequential": [
            [
             0,
             "#0d0887"
            ],
            [
             0.1111111111111111,
             "#46039f"
            ],
            [
             0.2222222222222222,
             "#7201a8"
            ],
            [
             0.3333333333333333,
             "#9c179e"
            ],
            [
             0.4444444444444444,
             "#bd3786"
            ],
            [
             0.5555555555555556,
             "#d8576b"
            ],
            [
             0.6666666666666666,
             "#ed7953"
            ],
            [
             0.7777777777777778,
             "#fb9f3a"
            ],
            [
             0.8888888888888888,
             "#fdca26"
            ],
            [
             1,
             "#f0f921"
            ]
           ],
           "sequentialminus": [
            [
             0,
             "#0d0887"
            ],
            [
             0.1111111111111111,
             "#46039f"
            ],
            [
             0.2222222222222222,
             "#7201a8"
            ],
            [
             0.3333333333333333,
             "#9c179e"
            ],
            [
             0.4444444444444444,
             "#bd3786"
            ],
            [
             0.5555555555555556,
             "#d8576b"
            ],
            [
             0.6666666666666666,
             "#ed7953"
            ],
            [
             0.7777777777777778,
             "#fb9f3a"
            ],
            [
             0.8888888888888888,
             "#fdca26"
            ],
            [
             1,
             "#f0f921"
            ]
           ]
          },
          "colorway": [
           "#636efa",
           "#EF553B",
           "#00cc96",
           "#ab63fa",
           "#FFA15A",
           "#19d3f3",
           "#FF6692",
           "#B6E880",
           "#FF97FF",
           "#FECB52"
          ],
          "font": {
           "color": "#2a3f5f"
          },
          "geo": {
           "bgcolor": "white",
           "lakecolor": "white",
           "landcolor": "white",
           "showlakes": true,
           "showland": true,
           "subunitcolor": "#C8D4E3"
          },
          "hoverlabel": {
           "align": "left"
          },
          "hovermode": "closest",
          "mapbox": {
           "style": "light"
          },
          "paper_bgcolor": "white",
          "plot_bgcolor": "white",
          "polar": {
           "angularaxis": {
            "gridcolor": "#EBF0F8",
            "linecolor": "#EBF0F8",
            "ticks": ""
           },
           "bgcolor": "white",
           "radialaxis": {
            "gridcolor": "#EBF0F8",
            "linecolor": "#EBF0F8",
            "ticks": ""
           }
          },
          "scene": {
           "xaxis": {
            "backgroundcolor": "white",
            "gridcolor": "#DFE8F3",
            "gridwidth": 2,
            "linecolor": "#EBF0F8",
            "showbackground": true,
            "ticks": "",
            "zerolinecolor": "#EBF0F8"
           },
           "yaxis": {
            "backgroundcolor": "white",
            "gridcolor": "#DFE8F3",
            "gridwidth": 2,
            "linecolor": "#EBF0F8",
            "showbackground": true,
            "ticks": "",
            "zerolinecolor": "#EBF0F8"
           },
           "zaxis": {
            "backgroundcolor": "white",
            "gridcolor": "#DFE8F3",
            "gridwidth": 2,
            "linecolor": "#EBF0F8",
            "showbackground": true,
            "ticks": "",
            "zerolinecolor": "#EBF0F8"
           }
          },
          "shapedefaults": {
           "line": {
            "color": "#2a3f5f"
           }
          },
          "ternary": {
           "aaxis": {
            "gridcolor": "#DFE8F3",
            "linecolor": "#A2B1C6",
            "ticks": ""
           },
           "baxis": {
            "gridcolor": "#DFE8F3",
            "linecolor": "#A2B1C6",
            "ticks": ""
           },
           "bgcolor": "white",
           "caxis": {
            "gridcolor": "#DFE8F3",
            "linecolor": "#A2B1C6",
            "ticks": ""
           }
          },
          "title": {
           "x": 0.05
          },
          "xaxis": {
           "automargin": true,
           "gridcolor": "#EBF0F8",
           "linecolor": "#EBF0F8",
           "ticks": "",
           "title": {
            "standoff": 15
           },
           "zerolinecolor": "#EBF0F8",
           "zerolinewidth": 2
          },
          "yaxis": {
           "automargin": true,
           "gridcolor": "#EBF0F8",
           "linecolor": "#EBF0F8",
           "ticks": "",
           "title": {
            "standoff": 15
           },
           "zerolinecolor": "#EBF0F8",
           "zerolinewidth": 2
          }
         }
        },
        "title": {
         "text": "Distribución del Ingreso Total por Venta"
        },
        "xaxis": {
         "anchor": "y",
         "domain": [
          0,
          1
         ],
         "title": {
          "text": "Ingreso Total ($)"
         }
        },
        "yaxis": {
         "anchor": "x",
         "domain": [
          0,
          1
         ],
         "title": {
          "text": "Frecuencia (Número de Ventas)"
         }
        }
       }
      }
     },
     "metadata": {},
     "output_type": "display_data"
    },
    {
     "name": "stdout",
     "output_type": "stream",
     "text": [
      "--------------------------------------------------\n"
     ]
    }
   ],
   "source": [
    "# 4.1 Distribución del Ingreso Total (Histograma)\n",
    "print(\"Generando Gráfico 1: Distribución del Ingreso Total...\")\n",
    "fig_ingreso = px.histogram(\n",
    "    data, \n",
    "    x=\"ingreso_total\", \n",
    "    nbins=30,\n",
    "    title=\"Distribución del Ingreso Total por Venta\",\n",
    "    template=\"plotly_white\"\n",
    ").update_layout(\n",
    "    xaxis_title=\"Ingreso Total ($)\", \n",
    "    yaxis_title=\"Frecuencia (Número de Ventas)\"\n",
    ")\n",
    "fig_ingreso.show() # Muestra el gráfico en el notebook\n",
    "print(\"-\" * 50)"
   ]
  },
  {
   "cell_type": "code",
   "execution_count": 9,
   "id": "52696c1d",
   "metadata": {},
   "outputs": [
    {
     "name": "stdout",
     "output_type": "stream",
     "text": [
      "Generando Gráfico 2: Ventas por Categoría...\n"
     ]
    },
    {
     "data": {
      "application/vnd.plotly.v1+json": {
       "config": {
        "plotlyServerURL": "https://plot.ly"
       },
       "data": [
        {
         "hovertemplate": "categoria=%{x}<br>importe=%{marker.color}<extra></extra>",
         "legendgroup": "",
         "marker": {
          "color": {
           "bdata": "AAAAAHnqNUEAAAAAoIoyQQ==",
           "dtype": "f8"
          },
          "coloraxis": "coloraxis",
          "pattern": {
           "shape": ""
          }
         },
         "name": "",
         "orientation": "v",
         "showlegend": false,
         "textposition": "auto",
         "type": "bar",
         "x": [
          "Limpieza",
          "Alimentos"
         ],
         "xaxis": "x",
         "y": {
          "bdata": "AAAAAHnqNUEAAAAAoIoyQQ==",
          "dtype": "f8"
         },
         "yaxis": "y"
        }
       ],
       "layout": {
        "barmode": "relative",
        "coloraxis": {
         "colorbar": {
          "title": {
           "text": "importe"
          }
         },
         "colorscale": [
          [
           0,
           "rgb(75, 41, 145)"
          ],
          [
           0.16666666666666666,
           "rgb(135, 44, 162)"
          ],
          [
           0.3333333333333333,
           "rgb(192, 54, 157)"
          ],
          [
           0.5,
           "rgb(234, 79, 136)"
          ],
          [
           0.6666666666666666,
           "rgb(250, 120, 118)"
          ],
          [
           0.8333333333333334,
           "rgb(246, 169, 122)"
          ],
          [
           1,
           "rgb(237, 217, 163)"
          ]
         ]
        },
        "legend": {
         "tracegroupgap": 0
        },
        "template": {
         "data": {
          "bar": [
           {
            "error_x": {
             "color": "#2a3f5f"
            },
            "error_y": {
             "color": "#2a3f5f"
            },
            "marker": {
             "line": {
              "color": "white",
              "width": 0.5
             },
             "pattern": {
              "fillmode": "overlay",
              "size": 10,
              "solidity": 0.2
             }
            },
            "type": "bar"
           }
          ],
          "barpolar": [
           {
            "marker": {
             "line": {
              "color": "white",
              "width": 0.5
             },
             "pattern": {
              "fillmode": "overlay",
              "size": 10,
              "solidity": 0.2
             }
            },
            "type": "barpolar"
           }
          ],
          "carpet": [
           {
            "aaxis": {
             "endlinecolor": "#2a3f5f",
             "gridcolor": "#C8D4E3",
             "linecolor": "#C8D4E3",
             "minorgridcolor": "#C8D4E3",
             "startlinecolor": "#2a3f5f"
            },
            "baxis": {
             "endlinecolor": "#2a3f5f",
             "gridcolor": "#C8D4E3",
             "linecolor": "#C8D4E3",
             "minorgridcolor": "#C8D4E3",
             "startlinecolor": "#2a3f5f"
            },
            "type": "carpet"
           }
          ],
          "choropleth": [
           {
            "colorbar": {
             "outlinewidth": 0,
             "ticks": ""
            },
            "type": "choropleth"
           }
          ],
          "contour": [
           {
            "colorbar": {
             "outlinewidth": 0,
             "ticks": ""
            },
            "colorscale": [
             [
              0,
              "#0d0887"
             ],
             [
              0.1111111111111111,
              "#46039f"
             ],
             [
              0.2222222222222222,
              "#7201a8"
             ],
             [
              0.3333333333333333,
              "#9c179e"
             ],
             [
              0.4444444444444444,
              "#bd3786"
             ],
             [
              0.5555555555555556,
              "#d8576b"
             ],
             [
              0.6666666666666666,
              "#ed7953"
             ],
             [
              0.7777777777777778,
              "#fb9f3a"
             ],
             [
              0.8888888888888888,
              "#fdca26"
             ],
             [
              1,
              "#f0f921"
             ]
            ],
            "type": "contour"
           }
          ],
          "contourcarpet": [
           {
            "colorbar": {
             "outlinewidth": 0,
             "ticks": ""
            },
            "type": "contourcarpet"
           }
          ],
          "heatmap": [
           {
            "colorbar": {
             "outlinewidth": 0,
             "ticks": ""
            },
            "colorscale": [
             [
              0,
              "#0d0887"
             ],
             [
              0.1111111111111111,
              "#46039f"
             ],
             [
              0.2222222222222222,
              "#7201a8"
             ],
             [
              0.3333333333333333,
              "#9c179e"
             ],
             [
              0.4444444444444444,
              "#bd3786"
             ],
             [
              0.5555555555555556,
              "#d8576b"
             ],
             [
              0.6666666666666666,
              "#ed7953"
             ],
             [
              0.7777777777777778,
              "#fb9f3a"
             ],
             [
              0.8888888888888888,
              "#fdca26"
             ],
             [
              1,
              "#f0f921"
             ]
            ],
            "type": "heatmap"
           }
          ],
          "histogram": [
           {
            "marker": {
             "pattern": {
              "fillmode": "overlay",
              "size": 10,
              "solidity": 0.2
             }
            },
            "type": "histogram"
           }
          ],
          "histogram2d": [
           {
            "colorbar": {
             "outlinewidth": 0,
             "ticks": ""
            },
            "colorscale": [
             [
              0,
              "#0d0887"
             ],
             [
              0.1111111111111111,
              "#46039f"
             ],
             [
              0.2222222222222222,
              "#7201a8"
             ],
             [
              0.3333333333333333,
              "#9c179e"
             ],
             [
              0.4444444444444444,
              "#bd3786"
             ],
             [
              0.5555555555555556,
              "#d8576b"
             ],
             [
              0.6666666666666666,
              "#ed7953"
             ],
             [
              0.7777777777777778,
              "#fb9f3a"
             ],
             [
              0.8888888888888888,
              "#fdca26"
             ],
             [
              1,
              "#f0f921"
             ]
            ],
            "type": "histogram2d"
           }
          ],
          "histogram2dcontour": [
           {
            "colorbar": {
             "outlinewidth": 0,
             "ticks": ""
            },
            "colorscale": [
             [
              0,
              "#0d0887"
             ],
             [
              0.1111111111111111,
              "#46039f"
             ],
             [
              0.2222222222222222,
              "#7201a8"
             ],
             [
              0.3333333333333333,
              "#9c179e"
             ],
             [
              0.4444444444444444,
              "#bd3786"
             ],
             [
              0.5555555555555556,
              "#d8576b"
             ],
             [
              0.6666666666666666,
              "#ed7953"
             ],
             [
              0.7777777777777778,
              "#fb9f3a"
             ],
             [
              0.8888888888888888,
              "#fdca26"
             ],
             [
              1,
              "#f0f921"
             ]
            ],
            "type": "histogram2dcontour"
           }
          ],
          "mesh3d": [
           {
            "colorbar": {
             "outlinewidth": 0,
             "ticks": ""
            },
            "type": "mesh3d"
           }
          ],
          "parcoords": [
           {
            "line": {
             "colorbar": {
              "outlinewidth": 0,
              "ticks": ""
             }
            },
            "type": "parcoords"
           }
          ],
          "pie": [
           {
            "automargin": true,
            "type": "pie"
           }
          ],
          "scatter": [
           {
            "fillpattern": {
             "fillmode": "overlay",
             "size": 10,
             "solidity": 0.2
            },
            "type": "scatter"
           }
          ],
          "scatter3d": [
           {
            "line": {
             "colorbar": {
              "outlinewidth": 0,
              "ticks": ""
             }
            },
            "marker": {
             "colorbar": {
              "outlinewidth": 0,
              "ticks": ""
             }
            },
            "type": "scatter3d"
           }
          ],
          "scattercarpet": [
           {
            "marker": {
             "colorbar": {
              "outlinewidth": 0,
              "ticks": ""
             }
            },
            "type": "scattercarpet"
           }
          ],
          "scattergeo": [
           {
            "marker": {
             "colorbar": {
              "outlinewidth": 0,
              "ticks": ""
             }
            },
            "type": "scattergeo"
           }
          ],
          "scattergl": [
           {
            "marker": {
             "colorbar": {
              "outlinewidth": 0,
              "ticks": ""
             }
            },
            "type": "scattergl"
           }
          ],
          "scattermap": [
           {
            "marker": {
             "colorbar": {
              "outlinewidth": 0,
              "ticks": ""
             }
            },
            "type": "scattermap"
           }
          ],
          "scattermapbox": [
           {
            "marker": {
             "colorbar": {
              "outlinewidth": 0,
              "ticks": ""
             }
            },
            "type": "scattermapbox"
           }
          ],
          "scatterpolar": [
           {
            "marker": {
             "colorbar": {
              "outlinewidth": 0,
              "ticks": ""
             }
            },
            "type": "scatterpolar"
           }
          ],
          "scatterpolargl": [
           {
            "marker": {
             "colorbar": {
              "outlinewidth": 0,
              "ticks": ""
             }
            },
            "type": "scatterpolargl"
           }
          ],
          "scatterternary": [
           {
            "marker": {
             "colorbar": {
              "outlinewidth": 0,
              "ticks": ""
             }
            },
            "type": "scatterternary"
           }
          ],
          "surface": [
           {
            "colorbar": {
             "outlinewidth": 0,
             "ticks": ""
            },
            "colorscale": [
             [
              0,
              "#0d0887"
             ],
             [
              0.1111111111111111,
              "#46039f"
             ],
             [
              0.2222222222222222,
              "#7201a8"
             ],
             [
              0.3333333333333333,
              "#9c179e"
             ],
             [
              0.4444444444444444,
              "#bd3786"
             ],
             [
              0.5555555555555556,
              "#d8576b"
             ],
             [
              0.6666666666666666,
              "#ed7953"
             ],
             [
              0.7777777777777778,
              "#fb9f3a"
             ],
             [
              0.8888888888888888,
              "#fdca26"
             ],
             [
              1,
              "#f0f921"
             ]
            ],
            "type": "surface"
           }
          ],
          "table": [
           {
            "cells": {
             "fill": {
              "color": "#EBF0F8"
             },
             "line": {
              "color": "white"
             }
            },
            "header": {
             "fill": {
              "color": "#C8D4E3"
             },
             "line": {
              "color": "white"
             }
            },
            "type": "table"
           }
          ]
         },
         "layout": {
          "annotationdefaults": {
           "arrowcolor": "#2a3f5f",
           "arrowhead": 0,
           "arrowwidth": 1
          },
          "autotypenumbers": "strict",
          "coloraxis": {
           "colorbar": {
            "outlinewidth": 0,
            "ticks": ""
           }
          },
          "colorscale": {
           "diverging": [
            [
             0,
             "#8e0152"
            ],
            [
             0.1,
             "#c51b7d"
            ],
            [
             0.2,
             "#de77ae"
            ],
            [
             0.3,
             "#f1b6da"
            ],
            [
             0.4,
             "#fde0ef"
            ],
            [
             0.5,
             "#f7f7f7"
            ],
            [
             0.6,
             "#e6f5d0"
            ],
            [
             0.7,
             "#b8e186"
            ],
            [
             0.8,
             "#7fbc41"
            ],
            [
             0.9,
             "#4d9221"
            ],
            [
             1,
             "#276419"
            ]
           ],
           "sequential": [
            [
             0,
             "#0d0887"
            ],
            [
             0.1111111111111111,
             "#46039f"
            ],
            [
             0.2222222222222222,
             "#7201a8"
            ],
            [
             0.3333333333333333,
             "#9c179e"
            ],
            [
             0.4444444444444444,
             "#bd3786"
            ],
            [
             0.5555555555555556,
             "#d8576b"
            ],
            [
             0.6666666666666666,
             "#ed7953"
            ],
            [
             0.7777777777777778,
             "#fb9f3a"
            ],
            [
             0.8888888888888888,
             "#fdca26"
            ],
            [
             1,
             "#f0f921"
            ]
           ],
           "sequentialminus": [
            [
             0,
             "#0d0887"
            ],
            [
             0.1111111111111111,
             "#46039f"
            ],
            [
             0.2222222222222222,
             "#7201a8"
            ],
            [
             0.3333333333333333,
             "#9c179e"
            ],
            [
             0.4444444444444444,
             "#bd3786"
            ],
            [
             0.5555555555555556,
             "#d8576b"
            ],
            [
             0.6666666666666666,
             "#ed7953"
            ],
            [
             0.7777777777777778,
             "#fb9f3a"
            ],
            [
             0.8888888888888888,
             "#fdca26"
            ],
            [
             1,
             "#f0f921"
            ]
           ]
          },
          "colorway": [
           "#636efa",
           "#EF553B",
           "#00cc96",
           "#ab63fa",
           "#FFA15A",
           "#19d3f3",
           "#FF6692",
           "#B6E880",
           "#FF97FF",
           "#FECB52"
          ],
          "font": {
           "color": "#2a3f5f"
          },
          "geo": {
           "bgcolor": "white",
           "lakecolor": "white",
           "landcolor": "white",
           "showlakes": true,
           "showland": true,
           "subunitcolor": "#C8D4E3"
          },
          "hoverlabel": {
           "align": "left"
          },
          "hovermode": "closest",
          "mapbox": {
           "style": "light"
          },
          "paper_bgcolor": "white",
          "plot_bgcolor": "white",
          "polar": {
           "angularaxis": {
            "gridcolor": "#EBF0F8",
            "linecolor": "#EBF0F8",
            "ticks": ""
           },
           "bgcolor": "white",
           "radialaxis": {
            "gridcolor": "#EBF0F8",
            "linecolor": "#EBF0F8",
            "ticks": ""
           }
          },
          "scene": {
           "xaxis": {
            "backgroundcolor": "white",
            "gridcolor": "#DFE8F3",
            "gridwidth": 2,
            "linecolor": "#EBF0F8",
            "showbackground": true,
            "ticks": "",
            "zerolinecolor": "#EBF0F8"
           },
           "yaxis": {
            "backgroundcolor": "white",
            "gridcolor": "#DFE8F3",
            "gridwidth": 2,
            "linecolor": "#EBF0F8",
            "showbackground": true,
            "ticks": "",
            "zerolinecolor": "#EBF0F8"
           },
           "zaxis": {
            "backgroundcolor": "white",
            "gridcolor": "#DFE8F3",
            "gridwidth": 2,
            "linecolor": "#EBF0F8",
            "showbackground": true,
            "ticks": "",
            "zerolinecolor": "#EBF0F8"
           }
          },
          "shapedefaults": {
           "line": {
            "color": "#2a3f5f"
           }
          },
          "ternary": {
           "aaxis": {
            "gridcolor": "#DFE8F3",
            "linecolor": "#A2B1C6",
            "ticks": ""
           },
           "baxis": {
            "gridcolor": "#DFE8F3",
            "linecolor": "#A2B1C6",
            "ticks": ""
           },
           "bgcolor": "white",
           "caxis": {
            "gridcolor": "#DFE8F3",
            "linecolor": "#A2B1C6",
            "ticks": ""
           }
          },
          "title": {
           "x": 0.05
          },
          "xaxis": {
           "automargin": true,
           "gridcolor": "#EBF0F8",
           "linecolor": "#EBF0F8",
           "ticks": "",
           "title": {
            "standoff": 15
           },
           "zerolinecolor": "#EBF0F8",
           "zerolinewidth": 2
          },
          "yaxis": {
           "automargin": true,
           "gridcolor": "#EBF0F8",
           "linecolor": "#EBF0F8",
           "ticks": "",
           "title": {
            "standoff": 15
           },
           "zerolinecolor": "#EBF0F8",
           "zerolinewidth": 2
          }
         }
        },
        "title": {
         "text": "Importe Total Vendido por Categoría"
        },
        "xaxis": {
         "anchor": "y",
         "domain": [
          0,
          1
         ],
         "title": {
          "text": "Categoría de Producto"
         }
        },
        "yaxis": {
         "anchor": "x",
         "domain": [
          0,
          1
         ],
         "title": {
          "text": "Importe Total Vendido ($)"
         }
        }
       }
      }
     },
     "metadata": {},
     "output_type": "display_data"
    }
   ],
   "source": [
    "# 4.2 Ventas Agrupadas por Categoría (Gráfico de Barras)\n",
    "print(\"Generando Gráfico 2: Ventas por Categoría...\")\n",
    "# Agrupar y sumar el importe total por categoría\n",
    "data_categoria = data.groupby('categoria')['importe'].sum().reset_index().sort_values(by='importe', ascending=False)\n",
    "\n",
    "fig_categoria = px.bar(\n",
    "    data_categoria, \n",
    "    x=\"categoria\", \n",
    "    y=\"importe\", \n",
    "    title=\"Importe Total Vendido por Categoría\",\n",
    "    template=\"plotly_white\",\n",
    "    color=\"importe\", \n",
    "    color_continuous_scale=px.colors.sequential.Agsunset\n",
    ").update_layout(\n",
    "    xaxis_title=\"Categoría de Producto\", \n",
    "    yaxis_title=\"Importe Total Vendido ($)\"\n",
    ")\n",
    "fig_categoria.show() # Muestra el gráfico en el notebook"
   ]
  },
  {
   "cell_type": "code",
   "execution_count": 10,
   "id": "724f375b",
   "metadata": {},
   "outputs": [
    {
     "name": "stdout",
     "output_type": "stream",
     "text": [
      "Generando Gráfico 3: Ventas por Medio de Pago...\n"
     ]
    },
    {
     "data": {
      "application/vnd.plotly.v1+json": {
       "config": {
        "plotlyServerURL": "https://plot.ly"
       },
       "data": [
        {
         "domain": {
          "x": [
           0,
           1
          ],
          "y": [
           0,
           1
          ]
         },
         "hovertemplate": "medio_pago=%{label}<br>importe=%{value}<extra></extra>",
         "labels": [
          "efectivo",
          "qr",
          "transferencia",
          "tarjeta"
         ],
         "legendgroup": "",
         "name": "",
         "pull": [
          0.05,
          0,
          0,
          0
         ],
         "showlegend": true,
         "textinfo": "percent+label",
         "type": "pie",
         "values": {
          "bdata": "AAAAAEaHLEEAAAAAUMwlQQAAAAAWjCBBAAAAAAwVHEE=",
          "dtype": "f8"
         }
        }
       ],
       "layout": {
        "legend": {
         "tracegroupgap": 0
        },
        "template": {
         "data": {
          "bar": [
           {
            "error_x": {
             "color": "#2a3f5f"
            },
            "error_y": {
             "color": "#2a3f5f"
            },
            "marker": {
             "line": {
              "color": "white",
              "width": 0.5
             },
             "pattern": {
              "fillmode": "overlay",
              "size": 10,
              "solidity": 0.2
             }
            },
            "type": "bar"
           }
          ],
          "barpolar": [
           {
            "marker": {
             "line": {
              "color": "white",
              "width": 0.5
             },
             "pattern": {
              "fillmode": "overlay",
              "size": 10,
              "solidity": 0.2
             }
            },
            "type": "barpolar"
           }
          ],
          "carpet": [
           {
            "aaxis": {
             "endlinecolor": "#2a3f5f",
             "gridcolor": "#C8D4E3",
             "linecolor": "#C8D4E3",
             "minorgridcolor": "#C8D4E3",
             "startlinecolor": "#2a3f5f"
            },
            "baxis": {
             "endlinecolor": "#2a3f5f",
             "gridcolor": "#C8D4E3",
             "linecolor": "#C8D4E3",
             "minorgridcolor": "#C8D4E3",
             "startlinecolor": "#2a3f5f"
            },
            "type": "carpet"
           }
          ],
          "choropleth": [
           {
            "colorbar": {
             "outlinewidth": 0,
             "ticks": ""
            },
            "type": "choropleth"
           }
          ],
          "contour": [
           {
            "colorbar": {
             "outlinewidth": 0,
             "ticks": ""
            },
            "colorscale": [
             [
              0,
              "#0d0887"
             ],
             [
              0.1111111111111111,
              "#46039f"
             ],
             [
              0.2222222222222222,
              "#7201a8"
             ],
             [
              0.3333333333333333,
              "#9c179e"
             ],
             [
              0.4444444444444444,
              "#bd3786"
             ],
             [
              0.5555555555555556,
              "#d8576b"
             ],
             [
              0.6666666666666666,
              "#ed7953"
             ],
             [
              0.7777777777777778,
              "#fb9f3a"
             ],
             [
              0.8888888888888888,
              "#fdca26"
             ],
             [
              1,
              "#f0f921"
             ]
            ],
            "type": "contour"
           }
          ],
          "contourcarpet": [
           {
            "colorbar": {
             "outlinewidth": 0,
             "ticks": ""
            },
            "type": "contourcarpet"
           }
          ],
          "heatmap": [
           {
            "colorbar": {
             "outlinewidth": 0,
             "ticks": ""
            },
            "colorscale": [
             [
              0,
              "#0d0887"
             ],
             [
              0.1111111111111111,
              "#46039f"
             ],
             [
              0.2222222222222222,
              "#7201a8"
             ],
             [
              0.3333333333333333,
              "#9c179e"
             ],
             [
              0.4444444444444444,
              "#bd3786"
             ],
             [
              0.5555555555555556,
              "#d8576b"
             ],
             [
              0.6666666666666666,
              "#ed7953"
             ],
             [
              0.7777777777777778,
              "#fb9f3a"
             ],
             [
              0.8888888888888888,
              "#fdca26"
             ],
             [
              1,
              "#f0f921"
             ]
            ],
            "type": "heatmap"
           }
          ],
          "histogram": [
           {
            "marker": {
             "pattern": {
              "fillmode": "overlay",
              "size": 10,
              "solidity": 0.2
             }
            },
            "type": "histogram"
           }
          ],
          "histogram2d": [
           {
            "colorbar": {
             "outlinewidth": 0,
             "ticks": ""
            },
            "colorscale": [
             [
              0,
              "#0d0887"
             ],
             [
              0.1111111111111111,
              "#46039f"
             ],
             [
              0.2222222222222222,
              "#7201a8"
             ],
             [
              0.3333333333333333,
              "#9c179e"
             ],
             [
              0.4444444444444444,
              "#bd3786"
             ],
             [
              0.5555555555555556,
              "#d8576b"
             ],
             [
              0.6666666666666666,
              "#ed7953"
             ],
             [
              0.7777777777777778,
              "#fb9f3a"
             ],
             [
              0.8888888888888888,
              "#fdca26"
             ],
             [
              1,
              "#f0f921"
             ]
            ],
            "type": "histogram2d"
           }
          ],
          "histogram2dcontour": [
           {
            "colorbar": {
             "outlinewidth": 0,
             "ticks": ""
            },
            "colorscale": [
             [
              0,
              "#0d0887"
             ],
             [
              0.1111111111111111,
              "#46039f"
             ],
             [
              0.2222222222222222,
              "#7201a8"
             ],
             [
              0.3333333333333333,
              "#9c179e"
             ],
             [
              0.4444444444444444,
              "#bd3786"
             ],
             [
              0.5555555555555556,
              "#d8576b"
             ],
             [
              0.6666666666666666,
              "#ed7953"
             ],
             [
              0.7777777777777778,
              "#fb9f3a"
             ],
             [
              0.8888888888888888,
              "#fdca26"
             ],
             [
              1,
              "#f0f921"
             ]
            ],
            "type": "histogram2dcontour"
           }
          ],
          "mesh3d": [
           {
            "colorbar": {
             "outlinewidth": 0,
             "ticks": ""
            },
            "type": "mesh3d"
           }
          ],
          "parcoords": [
           {
            "line": {
             "colorbar": {
              "outlinewidth": 0,
              "ticks": ""
             }
            },
            "type": "parcoords"
           }
          ],
          "pie": [
           {
            "automargin": true,
            "type": "pie"
           }
          ],
          "scatter": [
           {
            "fillpattern": {
             "fillmode": "overlay",
             "size": 10,
             "solidity": 0.2
            },
            "type": "scatter"
           }
          ],
          "scatter3d": [
           {
            "line": {
             "colorbar": {
              "outlinewidth": 0,
              "ticks": ""
             }
            },
            "marker": {
             "colorbar": {
              "outlinewidth": 0,
              "ticks": ""
             }
            },
            "type": "scatter3d"
           }
          ],
          "scattercarpet": [
           {
            "marker": {
             "colorbar": {
              "outlinewidth": 0,
              "ticks": ""
             }
            },
            "type": "scattercarpet"
           }
          ],
          "scattergeo": [
           {
            "marker": {
             "colorbar": {
              "outlinewidth": 0,
              "ticks": ""
             }
            },
            "type": "scattergeo"
           }
          ],
          "scattergl": [
           {
            "marker": {
             "colorbar": {
              "outlinewidth": 0,
              "ticks": ""
             }
            },
            "type": "scattergl"
           }
          ],
          "scattermap": [
           {
            "marker": {
             "colorbar": {
              "outlinewidth": 0,
              "ticks": ""
             }
            },
            "type": "scattermap"
           }
          ],
          "scattermapbox": [
           {
            "marker": {
             "colorbar": {
              "outlinewidth": 0,
              "ticks": ""
             }
            },
            "type": "scattermapbox"
           }
          ],
          "scatterpolar": [
           {
            "marker": {
             "colorbar": {
              "outlinewidth": 0,
              "ticks": ""
             }
            },
            "type": "scatterpolar"
           }
          ],
          "scatterpolargl": [
           {
            "marker": {
             "colorbar": {
              "outlinewidth": 0,
              "ticks": ""
             }
            },
            "type": "scatterpolargl"
           }
          ],
          "scatterternary": [
           {
            "marker": {
             "colorbar": {
              "outlinewidth": 0,
              "ticks": ""
             }
            },
            "type": "scatterternary"
           }
          ],
          "surface": [
           {
            "colorbar": {
             "outlinewidth": 0,
             "ticks": ""
            },
            "colorscale": [
             [
              0,
              "#0d0887"
             ],
             [
              0.1111111111111111,
              "#46039f"
             ],
             [
              0.2222222222222222,
              "#7201a8"
             ],
             [
              0.3333333333333333,
              "#9c179e"
             ],
             [
              0.4444444444444444,
              "#bd3786"
             ],
             [
              0.5555555555555556,
              "#d8576b"
             ],
             [
              0.6666666666666666,
              "#ed7953"
             ],
             [
              0.7777777777777778,
              "#fb9f3a"
             ],
             [
              0.8888888888888888,
              "#fdca26"
             ],
             [
              1,
              "#f0f921"
             ]
            ],
            "type": "surface"
           }
          ],
          "table": [
           {
            "cells": {
             "fill": {
              "color": "#EBF0F8"
             },
             "line": {
              "color": "white"
             }
            },
            "header": {
             "fill": {
              "color": "#C8D4E3"
             },
             "line": {
              "color": "white"
             }
            },
            "type": "table"
           }
          ]
         },
         "layout": {
          "annotationdefaults": {
           "arrowcolor": "#2a3f5f",
           "arrowhead": 0,
           "arrowwidth": 1
          },
          "autotypenumbers": "strict",
          "coloraxis": {
           "colorbar": {
            "outlinewidth": 0,
            "ticks": ""
           }
          },
          "colorscale": {
           "diverging": [
            [
             0,
             "#8e0152"
            ],
            [
             0.1,
             "#c51b7d"
            ],
            [
             0.2,
             "#de77ae"
            ],
            [
             0.3,
             "#f1b6da"
            ],
            [
             0.4,
             "#fde0ef"
            ],
            [
             0.5,
             "#f7f7f7"
            ],
            [
             0.6,
             "#e6f5d0"
            ],
            [
             0.7,
             "#b8e186"
            ],
            [
             0.8,
             "#7fbc41"
            ],
            [
             0.9,
             "#4d9221"
            ],
            [
             1,
             "#276419"
            ]
           ],
           "sequential": [
            [
             0,
             "#0d0887"
            ],
            [
             0.1111111111111111,
             "#46039f"
            ],
            [
             0.2222222222222222,
             "#7201a8"
            ],
            [
             0.3333333333333333,
             "#9c179e"
            ],
            [
             0.4444444444444444,
             "#bd3786"
            ],
            [
             0.5555555555555556,
             "#d8576b"
            ],
            [
             0.6666666666666666,
             "#ed7953"
            ],
            [
             0.7777777777777778,
             "#fb9f3a"
            ],
            [
             0.8888888888888888,
             "#fdca26"
            ],
            [
             1,
             "#f0f921"
            ]
           ],
           "sequentialminus": [
            [
             0,
             "#0d0887"
            ],
            [
             0.1111111111111111,
             "#46039f"
            ],
            [
             0.2222222222222222,
             "#7201a8"
            ],
            [
             0.3333333333333333,
             "#9c179e"
            ],
            [
             0.4444444444444444,
             "#bd3786"
            ],
            [
             0.5555555555555556,
             "#d8576b"
            ],
            [
             0.6666666666666666,
             "#ed7953"
            ],
            [
             0.7777777777777778,
             "#fb9f3a"
            ],
            [
             0.8888888888888888,
             "#fdca26"
            ],
            [
             1,
             "#f0f921"
            ]
           ]
          },
          "colorway": [
           "#636efa",
           "#EF553B",
           "#00cc96",
           "#ab63fa",
           "#FFA15A",
           "#19d3f3",
           "#FF6692",
           "#B6E880",
           "#FF97FF",
           "#FECB52"
          ],
          "font": {
           "color": "#2a3f5f"
          },
          "geo": {
           "bgcolor": "white",
           "lakecolor": "white",
           "landcolor": "white",
           "showlakes": true,
           "showland": true,
           "subunitcolor": "#C8D4E3"
          },
          "hoverlabel": {
           "align": "left"
          },
          "hovermode": "closest",
          "mapbox": {
           "style": "light"
          },
          "paper_bgcolor": "white",
          "plot_bgcolor": "white",
          "polar": {
           "angularaxis": {
            "gridcolor": "#EBF0F8",
            "linecolor": "#EBF0F8",
            "ticks": ""
           },
           "bgcolor": "white",
           "radialaxis": {
            "gridcolor": "#EBF0F8",
            "linecolor": "#EBF0F8",
            "ticks": ""
           }
          },
          "scene": {
           "xaxis": {
            "backgroundcolor": "white",
            "gridcolor": "#DFE8F3",
            "gridwidth": 2,
            "linecolor": "#EBF0F8",
            "showbackground": true,
            "ticks": "",
            "zerolinecolor": "#EBF0F8"
           },
           "yaxis": {
            "backgroundcolor": "white",
            "gridcolor": "#DFE8F3",
            "gridwidth": 2,
            "linecolor": "#EBF0F8",
            "showbackground": true,
            "ticks": "",
            "zerolinecolor": "#EBF0F8"
           },
           "zaxis": {
            "backgroundcolor": "white",
            "gridcolor": "#DFE8F3",
            "gridwidth": 2,
            "linecolor": "#EBF0F8",
            "showbackground": true,
            "ticks": "",
            "zerolinecolor": "#EBF0F8"
           }
          },
          "shapedefaults": {
           "line": {
            "color": "#2a3f5f"
           }
          },
          "ternary": {
           "aaxis": {
            "gridcolor": "#DFE8F3",
            "linecolor": "#A2B1C6",
            "ticks": ""
           },
           "baxis": {
            "gridcolor": "#DFE8F3",
            "linecolor": "#A2B1C6",
            "ticks": ""
           },
           "bgcolor": "white",
           "caxis": {
            "gridcolor": "#DFE8F3",
            "linecolor": "#A2B1C6",
            "ticks": ""
           }
          },
          "title": {
           "x": 0.05
          },
          "xaxis": {
           "automargin": true,
           "gridcolor": "#EBF0F8",
           "linecolor": "#EBF0F8",
           "ticks": "",
           "title": {
            "standoff": 15
           },
           "zerolinecolor": "#EBF0F8",
           "zerolinewidth": 2
          },
          "yaxis": {
           "automargin": true,
           "gridcolor": "#EBF0F8",
           "linecolor": "#EBF0F8",
           "ticks": "",
           "title": {
            "standoff": 15
           },
           "zerolinecolor": "#EBF0F8",
           "zerolinewidth": 2
          }
         }
        },
        "title": {
         "text": "Proporción de Importe Total por Medio de Pago"
        }
       }
      }
     },
     "metadata": {},
     "output_type": "display_data"
    }
   ],
   "source": [
    "# 4.3 Ventas Agrupadas por Medio de Pago (Gráfico Circular)\n",
    "print(\"Generando Gráfico 3: Ventas por Medio de Pago...\")\n",
    "# Agrupar y sumar el importe total por medio de pago\n",
    "data_pago = data.groupby('medio_pago')['importe'].sum().reset_index().sort_values(by='importe', ascending=False)\n",
    "\n",
    "fig_pago = px.pie(\n",
    "    data_pago, \n",
    "    names='medio_pago', \n",
    "    values='importe', \n",
    "    title='Proporción de Importe Total por Medio de Pago',\n",
    "    template=\"plotly_white\"\n",
    ").update_traces(\n",
    "    textinfo='percent+label', \n",
    "    # Destaca el sector con el valor más alto\n",
    "    pull=[0.05 if x == data_pago['importe'].max() else 0 for x in data_pago['importe']] \n",
    ")\n",
    "fig_pago.show() # Muestra el gráfico en el notebook"
   ]
  },
  {
   "cell_type": "markdown",
   "id": "4c7764fe",
   "metadata": {},
   "source": [
    "### 5. Análisis Cruzado (EDA Avanzado)"
   ]
  },
  {
   "cell_type": "code",
   "execution_count": 11,
   "id": "60237747",
   "metadata": {},
   "outputs": [
    {
     "name": "stdout",
     "output_type": "stream",
     "text": [
      "--- 5.1 Importe Promedio por Categoría y Ciudad ---\n"
     ]
    },
    {
     "data": {
      "application/vnd.plotly.v1+json": {
       "config": {
        "plotlyServerURL": "https://plot.ly"
       },
       "data": [
        {
         "alignmentgroup": "True",
         "hovertemplate": "ciudad=Alta Gracia<br>categoria=%{x}<br>importe_promedio=%{y:.2f}<extra></extra>",
         "legendgroup": "Alta Gracia",
         "marker": {
          "color": "#636efa",
          "pattern": {
           "shape": ""
          }
         },
         "name": "Alta Gracia",
         "offsetgroup": "Alta Gracia",
         "orientation": "v",
         "showlegend": true,
         "textposition": "auto",
         "type": "bar",
         "x": [
          "Alimentos",
          "Limpieza"
         ],
         "xaxis": "x",
         "y": {
          "bdata": "lVJKKaWLuUDi4eHhoQPAQA==",
          "dtype": "f8"
         },
         "yaxis": "y"
        },
        {
         "alignmentgroup": "True",
         "hovertemplate": "ciudad=Carlos Paz<br>categoria=%{x}<br>importe_promedio=%{y:.2f}<extra></extra>",
         "legendgroup": "Carlos Paz",
         "marker": {
          "color": "#EF553B",
          "pattern": {
           "shape": ""
          }
         },
         "name": "Carlos Paz",
         "offsetgroup": "Carlos Paz",
         "orientation": "v",
         "showlegend": true,
         "textposition": "auto",
         "type": "bar",
         "x": [
          "Alimentos",
          "Limpieza"
         ],
         "xaxis": "x",
         "y": {
          "bdata": "mpmZmZkzwEDP8zzP83rBQA==",
          "dtype": "f8"
         },
         "yaxis": "y"
        },
        {
         "alignmentgroup": "True",
         "hovertemplate": "ciudad=Cordoba<br>categoria=%{x}<br>importe_promedio=%{y:.2f}<extra></extra>",
         "legendgroup": "Cordoba",
         "marker": {
          "color": "#00cc96",
          "pattern": {
           "shape": ""
          }
         },
         "name": "Cordoba",
         "offsetgroup": "Cordoba",
         "orientation": "v",
         "showlegend": true,
         "textposition": "auto",
         "type": "bar",
         "x": [
          "Alimentos",
          "Limpieza"
         ],
         "xaxis": "x",
         "y": {
          "bdata": "q6qqqqqrukAAAAAASEW/QA==",
          "dtype": "f8"
         },
         "yaxis": "y"
        },
        {
         "alignmentgroup": "True",
         "hovertemplate": "ciudad=Mendiolaza<br>categoria=%{x}<br>importe_promedio=%{y:.2f}<extra></extra>",
         "legendgroup": "Mendiolaza",
         "marker": {
          "color": "#ab63fa",
          "pattern": {
           "shape": ""
          }
         },
         "name": "Mendiolaza",
         "offsetgroup": "Mendiolaza",
         "orientation": "v",
         "showlegend": true,
         "textposition": "auto",
         "type": "bar",
         "x": [
          "Alimentos",
          "Limpieza"
         ],
         "xaxis": "x",
         "y": {
          "bdata": "bCivobwEvUCrqqqqquK2QA==",
          "dtype": "f8"
         },
         "yaxis": "y"
        },
        {
         "alignmentgroup": "True",
         "hovertemplate": "ciudad=Rio Cuarto<br>categoria=%{x}<br>importe_promedio=%{y:.2f}<extra></extra>",
         "legendgroup": "Rio Cuarto",
         "marker": {
          "color": "#FFA15A",
          "pattern": {
           "shape": ""
          }
         },
         "name": "Rio Cuarto",
         "offsetgroup": "Rio Cuarto",
         "orientation": "v",
         "showlegend": true,
         "textposition": "auto",
         "type": "bar",
         "x": [
          "Alimentos",
          "Limpieza"
         ],
         "xaxis": "x",
         "y": {
          "bdata": "WchCFjKNvUAJyz2NsOq9QA==",
          "dtype": "f8"
         },
         "yaxis": "y"
        },
        {
         "alignmentgroup": "True",
         "hovertemplate": "ciudad=Villa Maria<br>categoria=%{x}<br>importe_promedio=%{y:.2f}<extra></extra>",
         "legendgroup": "Villa Maria",
         "marker": {
          "color": "#19d3f3",
          "pattern": {
           "shape": ""
          }
         },
         "name": "Villa Maria",
         "offsetgroup": "Villa Maria",
         "orientation": "v",
         "showlegend": true,
         "textposition": "auto",
         "type": "bar",
         "x": [
          "Alimentos",
          "Limpieza"
         ],
         "xaxis": "x",
         "y": {
          "bdata": "AAAAAGgewEAAAAAAQKzDQA==",
          "dtype": "f8"
         },
         "yaxis": "y"
        }
       ],
       "layout": {
        "barmode": "group",
        "legend": {
         "title": {
          "text": "ciudad"
         },
         "tracegroupgap": 0
        },
        "template": {
         "data": {
          "bar": [
           {
            "error_x": {
             "color": "#2a3f5f"
            },
            "error_y": {
             "color": "#2a3f5f"
            },
            "marker": {
             "line": {
              "color": "white",
              "width": 0.5
             },
             "pattern": {
              "fillmode": "overlay",
              "size": 10,
              "solidity": 0.2
             }
            },
            "type": "bar"
           }
          ],
          "barpolar": [
           {
            "marker": {
             "line": {
              "color": "white",
              "width": 0.5
             },
             "pattern": {
              "fillmode": "overlay",
              "size": 10,
              "solidity": 0.2
             }
            },
            "type": "barpolar"
           }
          ],
          "carpet": [
           {
            "aaxis": {
             "endlinecolor": "#2a3f5f",
             "gridcolor": "#C8D4E3",
             "linecolor": "#C8D4E3",
             "minorgridcolor": "#C8D4E3",
             "startlinecolor": "#2a3f5f"
            },
            "baxis": {
             "endlinecolor": "#2a3f5f",
             "gridcolor": "#C8D4E3",
             "linecolor": "#C8D4E3",
             "minorgridcolor": "#C8D4E3",
             "startlinecolor": "#2a3f5f"
            },
            "type": "carpet"
           }
          ],
          "choropleth": [
           {
            "colorbar": {
             "outlinewidth": 0,
             "ticks": ""
            },
            "type": "choropleth"
           }
          ],
          "contour": [
           {
            "colorbar": {
             "outlinewidth": 0,
             "ticks": ""
            },
            "colorscale": [
             [
              0,
              "#0d0887"
             ],
             [
              0.1111111111111111,
              "#46039f"
             ],
             [
              0.2222222222222222,
              "#7201a8"
             ],
             [
              0.3333333333333333,
              "#9c179e"
             ],
             [
              0.4444444444444444,
              "#bd3786"
             ],
             [
              0.5555555555555556,
              "#d8576b"
             ],
             [
              0.6666666666666666,
              "#ed7953"
             ],
             [
              0.7777777777777778,
              "#fb9f3a"
             ],
             [
              0.8888888888888888,
              "#fdca26"
             ],
             [
              1,
              "#f0f921"
             ]
            ],
            "type": "contour"
           }
          ],
          "contourcarpet": [
           {
            "colorbar": {
             "outlinewidth": 0,
             "ticks": ""
            },
            "type": "contourcarpet"
           }
          ],
          "heatmap": [
           {
            "colorbar": {
             "outlinewidth": 0,
             "ticks": ""
            },
            "colorscale": [
             [
              0,
              "#0d0887"
             ],
             [
              0.1111111111111111,
              "#46039f"
             ],
             [
              0.2222222222222222,
              "#7201a8"
             ],
             [
              0.3333333333333333,
              "#9c179e"
             ],
             [
              0.4444444444444444,
              "#bd3786"
             ],
             [
              0.5555555555555556,
              "#d8576b"
             ],
             [
              0.6666666666666666,
              "#ed7953"
             ],
             [
              0.7777777777777778,
              "#fb9f3a"
             ],
             [
              0.8888888888888888,
              "#fdca26"
             ],
             [
              1,
              "#f0f921"
             ]
            ],
            "type": "heatmap"
           }
          ],
          "histogram": [
           {
            "marker": {
             "pattern": {
              "fillmode": "overlay",
              "size": 10,
              "solidity": 0.2
             }
            },
            "type": "histogram"
           }
          ],
          "histogram2d": [
           {
            "colorbar": {
             "outlinewidth": 0,
             "ticks": ""
            },
            "colorscale": [
             [
              0,
              "#0d0887"
             ],
             [
              0.1111111111111111,
              "#46039f"
             ],
             [
              0.2222222222222222,
              "#7201a8"
             ],
             [
              0.3333333333333333,
              "#9c179e"
             ],
             [
              0.4444444444444444,
              "#bd3786"
             ],
             [
              0.5555555555555556,
              "#d8576b"
             ],
             [
              0.6666666666666666,
              "#ed7953"
             ],
             [
              0.7777777777777778,
              "#fb9f3a"
             ],
             [
              0.8888888888888888,
              "#fdca26"
             ],
             [
              1,
              "#f0f921"
             ]
            ],
            "type": "histogram2d"
           }
          ],
          "histogram2dcontour": [
           {
            "colorbar": {
             "outlinewidth": 0,
             "ticks": ""
            },
            "colorscale": [
             [
              0,
              "#0d0887"
             ],
             [
              0.1111111111111111,
              "#46039f"
             ],
             [
              0.2222222222222222,
              "#7201a8"
             ],
             [
              0.3333333333333333,
              "#9c179e"
             ],
             [
              0.4444444444444444,
              "#bd3786"
             ],
             [
              0.5555555555555556,
              "#d8576b"
             ],
             [
              0.6666666666666666,
              "#ed7953"
             ],
             [
              0.7777777777777778,
              "#fb9f3a"
             ],
             [
              0.8888888888888888,
              "#fdca26"
             ],
             [
              1,
              "#f0f921"
             ]
            ],
            "type": "histogram2dcontour"
           }
          ],
          "mesh3d": [
           {
            "colorbar": {
             "outlinewidth": 0,
             "ticks": ""
            },
            "type": "mesh3d"
           }
          ],
          "parcoords": [
           {
            "line": {
             "colorbar": {
              "outlinewidth": 0,
              "ticks": ""
             }
            },
            "type": "parcoords"
           }
          ],
          "pie": [
           {
            "automargin": true,
            "type": "pie"
           }
          ],
          "scatter": [
           {
            "fillpattern": {
             "fillmode": "overlay",
             "size": 10,
             "solidity": 0.2
            },
            "type": "scatter"
           }
          ],
          "scatter3d": [
           {
            "line": {
             "colorbar": {
              "outlinewidth": 0,
              "ticks": ""
             }
            },
            "marker": {
             "colorbar": {
              "outlinewidth": 0,
              "ticks": ""
             }
            },
            "type": "scatter3d"
           }
          ],
          "scattercarpet": [
           {
            "marker": {
             "colorbar": {
              "outlinewidth": 0,
              "ticks": ""
             }
            },
            "type": "scattercarpet"
           }
          ],
          "scattergeo": [
           {
            "marker": {
             "colorbar": {
              "outlinewidth": 0,
              "ticks": ""
             }
            },
            "type": "scattergeo"
           }
          ],
          "scattergl": [
           {
            "marker": {
             "colorbar": {
              "outlinewidth": 0,
              "ticks": ""
             }
            },
            "type": "scattergl"
           }
          ],
          "scattermap": [
           {
            "marker": {
             "colorbar": {
              "outlinewidth": 0,
              "ticks": ""
             }
            },
            "type": "scattermap"
           }
          ],
          "scattermapbox": [
           {
            "marker": {
             "colorbar": {
              "outlinewidth": 0,
              "ticks": ""
             }
            },
            "type": "scattermapbox"
           }
          ],
          "scatterpolar": [
           {
            "marker": {
             "colorbar": {
              "outlinewidth": 0,
              "ticks": ""
             }
            },
            "type": "scatterpolar"
           }
          ],
          "scatterpolargl": [
           {
            "marker": {
             "colorbar": {
              "outlinewidth": 0,
              "ticks": ""
             }
            },
            "type": "scatterpolargl"
           }
          ],
          "scatterternary": [
           {
            "marker": {
             "colorbar": {
              "outlinewidth": 0,
              "ticks": ""
             }
            },
            "type": "scatterternary"
           }
          ],
          "surface": [
           {
            "colorbar": {
             "outlinewidth": 0,
             "ticks": ""
            },
            "colorscale": [
             [
              0,
              "#0d0887"
             ],
             [
              0.1111111111111111,
              "#46039f"
             ],
             [
              0.2222222222222222,
              "#7201a8"
             ],
             [
              0.3333333333333333,
              "#9c179e"
             ],
             [
              0.4444444444444444,
              "#bd3786"
             ],
             [
              0.5555555555555556,
              "#d8576b"
             ],
             [
              0.6666666666666666,
              "#ed7953"
             ],
             [
              0.7777777777777778,
              "#fb9f3a"
             ],
             [
              0.8888888888888888,
              "#fdca26"
             ],
             [
              1,
              "#f0f921"
             ]
            ],
            "type": "surface"
           }
          ],
          "table": [
           {
            "cells": {
             "fill": {
              "color": "#EBF0F8"
             },
             "line": {
              "color": "white"
             }
            },
            "header": {
             "fill": {
              "color": "#C8D4E3"
             },
             "line": {
              "color": "white"
             }
            },
            "type": "table"
           }
          ]
         },
         "layout": {
          "annotationdefaults": {
           "arrowcolor": "#2a3f5f",
           "arrowhead": 0,
           "arrowwidth": 1
          },
          "autotypenumbers": "strict",
          "coloraxis": {
           "colorbar": {
            "outlinewidth": 0,
            "ticks": ""
           }
          },
          "colorscale": {
           "diverging": [
            [
             0,
             "#8e0152"
            ],
            [
             0.1,
             "#c51b7d"
            ],
            [
             0.2,
             "#de77ae"
            ],
            [
             0.3,
             "#f1b6da"
            ],
            [
             0.4,
             "#fde0ef"
            ],
            [
             0.5,
             "#f7f7f7"
            ],
            [
             0.6,
             "#e6f5d0"
            ],
            [
             0.7,
             "#b8e186"
            ],
            [
             0.8,
             "#7fbc41"
            ],
            [
             0.9,
             "#4d9221"
            ],
            [
             1,
             "#276419"
            ]
           ],
           "sequential": [
            [
             0,
             "#0d0887"
            ],
            [
             0.1111111111111111,
             "#46039f"
            ],
            [
             0.2222222222222222,
             "#7201a8"
            ],
            [
             0.3333333333333333,
             "#9c179e"
            ],
            [
             0.4444444444444444,
             "#bd3786"
            ],
            [
             0.5555555555555556,
             "#d8576b"
            ],
            [
             0.6666666666666666,
             "#ed7953"
            ],
            [
             0.7777777777777778,
             "#fb9f3a"
            ],
            [
             0.8888888888888888,
             "#fdca26"
            ],
            [
             1,
             "#f0f921"
            ]
           ],
           "sequentialminus": [
            [
             0,
             "#0d0887"
            ],
            [
             0.1111111111111111,
             "#46039f"
            ],
            [
             0.2222222222222222,
             "#7201a8"
            ],
            [
             0.3333333333333333,
             "#9c179e"
            ],
            [
             0.4444444444444444,
             "#bd3786"
            ],
            [
             0.5555555555555556,
             "#d8576b"
            ],
            [
             0.6666666666666666,
             "#ed7953"
            ],
            [
             0.7777777777777778,
             "#fb9f3a"
            ],
            [
             0.8888888888888888,
             "#fdca26"
            ],
            [
             1,
             "#f0f921"
            ]
           ]
          },
          "colorway": [
           "#636efa",
           "#EF553B",
           "#00cc96",
           "#ab63fa",
           "#FFA15A",
           "#19d3f3",
           "#FF6692",
           "#B6E880",
           "#FF97FF",
           "#FECB52"
          ],
          "font": {
           "color": "#2a3f5f"
          },
          "geo": {
           "bgcolor": "white",
           "lakecolor": "white",
           "landcolor": "white",
           "showlakes": true,
           "showland": true,
           "subunitcolor": "#C8D4E3"
          },
          "hoverlabel": {
           "align": "left"
          },
          "hovermode": "closest",
          "mapbox": {
           "style": "light"
          },
          "paper_bgcolor": "white",
          "plot_bgcolor": "white",
          "polar": {
           "angularaxis": {
            "gridcolor": "#EBF0F8",
            "linecolor": "#EBF0F8",
            "ticks": ""
           },
           "bgcolor": "white",
           "radialaxis": {
            "gridcolor": "#EBF0F8",
            "linecolor": "#EBF0F8",
            "ticks": ""
           }
          },
          "scene": {
           "xaxis": {
            "backgroundcolor": "white",
            "gridcolor": "#DFE8F3",
            "gridwidth": 2,
            "linecolor": "#EBF0F8",
            "showbackground": true,
            "ticks": "",
            "zerolinecolor": "#EBF0F8"
           },
           "yaxis": {
            "backgroundcolor": "white",
            "gridcolor": "#DFE8F3",
            "gridwidth": 2,
            "linecolor": "#EBF0F8",
            "showbackground": true,
            "ticks": "",
            "zerolinecolor": "#EBF0F8"
           },
           "zaxis": {
            "backgroundcolor": "white",
            "gridcolor": "#DFE8F3",
            "gridwidth": 2,
            "linecolor": "#EBF0F8",
            "showbackground": true,
            "ticks": "",
            "zerolinecolor": "#EBF0F8"
           }
          },
          "shapedefaults": {
           "line": {
            "color": "#2a3f5f"
           }
          },
          "ternary": {
           "aaxis": {
            "gridcolor": "#DFE8F3",
            "linecolor": "#A2B1C6",
            "ticks": ""
           },
           "baxis": {
            "gridcolor": "#DFE8F3",
            "linecolor": "#A2B1C6",
            "ticks": ""
           },
           "bgcolor": "white",
           "caxis": {
            "gridcolor": "#DFE8F3",
            "linecolor": "#A2B1C6",
            "ticks": ""
           }
          },
          "title": {
           "x": 0.05
          },
          "xaxis": {
           "automargin": true,
           "gridcolor": "#EBF0F8",
           "linecolor": "#EBF0F8",
           "ticks": "",
           "title": {
            "standoff": 15
           },
           "zerolinecolor": "#EBF0F8",
           "zerolinewidth": 2
          },
          "yaxis": {
           "automargin": true,
           "gridcolor": "#EBF0F8",
           "linecolor": "#EBF0F8",
           "ticks": "",
           "title": {
            "standoff": 15
           },
           "zerolinecolor": "#EBF0F8",
           "zerolinewidth": 2
          }
         }
        },
        "title": {
         "text": "Importe Promedio por Venta: Categoría vs. Ciudad"
        },
        "xaxis": {
         "anchor": "y",
         "domain": [
          0,
          1
         ],
         "title": {
          "text": "Categoría"
         }
        },
        "yaxis": {
         "anchor": "x",
         "domain": [
          0,
          1
         ],
         "title": {
          "text": "Importe Promedio de Venta ($)"
         }
        }
       }
      }
     },
     "metadata": {},
     "output_type": "display_data"
    }
   ],
   "source": [
    "print(\"--- 5.1 Importe Promedio por Categoría y Ciudad ---\")\n",
    "\n",
    "# Agrupar por categoría y ciudad, y calcular el importe promedio (valor promedio de la venta)\n",
    "data_cruzado_ciudad = data.groupby(['categoria', 'ciudad'])['importe'].mean().reset_index()\n",
    "data_cruzado_ciudad.rename(columns={'importe': 'importe_promedio'}, inplace=True)\n",
    "\n",
    "# Crear un gráfico de barras agrupadas o un mapa de calor (Heatmap)\n",
    "# Usaremos un gráfico de barras agrupadas para este caso\n",
    "fig_cruzado_ciudad = px.bar(\n",
    "    data_cruzado_ciudad,\n",
    "    x=\"categoria\",\n",
    "    y=\"importe_promedio\",\n",
    "    color=\"ciudad\",\n",
    "    barmode=\"group\", # Agrupa las barras por categoría\n",
    "    title=\"Importe Promedio por Venta: Categoría vs. Ciudad\",\n",
    "    template=\"plotly_white\",\n",
    "    hover_data={'importe_promedio': ':.2f'} # Formato de 2 decimales en el tooltip\n",
    ").update_layout(\n",
    "    xaxis_title=\"Categoría\",\n",
    "    yaxis_title=\"Importe Promedio de Venta ($)\"\n",
    ")\n",
    "fig_cruzado_ciudad.show()"
   ]
  },
  {
   "cell_type": "code",
   "execution_count": 12,
   "id": "6504b895",
   "metadata": {},
   "outputs": [
    {
     "name": "stdout",
     "output_type": "stream",
     "text": [
      "--- 5.2 Evolución Temporal de las Ventas ---\n"
     ]
    },
    {
     "data": {
      "application/vnd.plotly.v1+json": {
       "config": {
        "plotlyServerURL": "https://plot.ly"
       },
       "data": [
        {
         "hovertemplate": "fecha_dia=%{x}<br>importe=%{y}<extra></extra>",
         "legendgroup": "",
         "line": {
          "color": "#636efa",
          "dash": "solid"
         },
         "marker": {
          "symbol": "circle"
         },
         "mode": "lines",
         "name": "",
         "orientation": "v",
         "showlegend": false,
         "type": "scatter",
         "x": [
          "2024-01-02T00:00:00",
          "2024-01-04T00:00:00",
          "2024-01-06T00:00:00",
          "2024-01-08T00:00:00",
          "2024-01-09T00:00:00",
          "2024-01-10T00:00:00",
          "2024-01-12T00:00:00",
          "2024-01-13T00:00:00",
          "2024-01-18T00:00:00",
          "2024-01-19T00:00:00",
          "2024-01-20T00:00:00",
          "2024-01-23T00:00:00",
          "2024-01-24T00:00:00",
          "2024-01-25T00:00:00",
          "2024-01-26T00:00:00",
          "2024-01-29T00:00:00",
          "2024-01-30T00:00:00",
          "2024-02-02T00:00:00",
          "2024-02-04T00:00:00",
          "2024-02-06T00:00:00",
          "2024-02-07T00:00:00",
          "2024-02-09T00:00:00",
          "2024-02-12T00:00:00",
          "2024-02-13T00:00:00",
          "2024-02-16T00:00:00",
          "2024-02-17T00:00:00",
          "2024-02-18T00:00:00",
          "2024-02-19T00:00:00",
          "2024-02-20T00:00:00",
          "2024-02-21T00:00:00",
          "2024-02-23T00:00:00",
          "2024-02-25T00:00:00",
          "2024-02-27T00:00:00",
          "2024-03-03T00:00:00",
          "2024-03-05T00:00:00",
          "2024-03-06T00:00:00",
          "2024-03-07T00:00:00",
          "2024-03-08T00:00:00",
          "2024-03-09T00:00:00",
          "2024-03-11T00:00:00",
          "2024-03-13T00:00:00",
          "2024-03-14T00:00:00",
          "2024-03-17T00:00:00",
          "2024-03-18T00:00:00",
          "2024-03-21T00:00:00",
          "2024-03-24T00:00:00",
          "2024-03-25T00:00:00",
          "2024-03-26T00:00:00",
          "2024-03-28T00:00:00",
          "2024-03-29T00:00:00",
          "2024-04-04T00:00:00",
          "2024-04-10T00:00:00",
          "2024-04-12T00:00:00",
          "2024-04-18T00:00:00",
          "2024-04-20T00:00:00",
          "2024-04-21T00:00:00",
          "2024-04-26T00:00:00",
          "2024-04-28T00:00:00",
          "2024-04-29T00:00:00",
          "2024-04-30T00:00:00",
          "2024-05-01T00:00:00",
          "2024-05-04T00:00:00",
          "2024-05-05T00:00:00",
          "2024-05-06T00:00:00",
          "2024-05-08T00:00:00",
          "2024-05-10T00:00:00",
          "2024-05-13T00:00:00",
          "2024-05-15T00:00:00",
          "2024-05-16T00:00:00",
          "2024-05-17T00:00:00",
          "2024-05-19T00:00:00",
          "2024-05-20T00:00:00",
          "2024-05-21T00:00:00",
          "2024-05-22T00:00:00",
          "2024-05-23T00:00:00",
          "2024-05-26T00:00:00",
          "2024-05-28T00:00:00",
          "2024-05-29T00:00:00",
          "2024-05-30T00:00:00",
          "2024-06-01T00:00:00",
          "2024-06-02T00:00:00",
          "2024-06-04T00:00:00",
          "2024-06-06T00:00:00",
          "2024-06-08T00:00:00",
          "2024-06-11T00:00:00",
          "2024-06-14T00:00:00",
          "2024-06-16T00:00:00",
          "2024-06-17T00:00:00",
          "2024-06-19T00:00:00",
          "2024-06-21T00:00:00",
          "2024-06-25T00:00:00",
          "2024-06-27T00:00:00",
          "2024-06-28T00:00:00"
         ],
         "xaxis": "x",
         "y": {
          "bdata": "AAAAAICt2UAAAAAAAFCdQAAAAADgCe5AAAAAAACZ0UAAAAAA4AfuQAAAAADAkPRAAAAAAABqz0AAAAAAIKnkQAAAAAAASL5AAAAAAGCV4kAAAAAAAO7CQAAAAAAAUdVAAAAAAACzxkAAAAAAABbSQAAAAABAZd1AAAAAAED42UAAAAAAgEjqQAAAAACAGcpAAAAAAADmrUAAAAAAoMfhQAAAAAAAGq1AAAAAAIDM6EAAAAAAAAzWQAAAAAAAMeJAAAAAAMBD4EAAAAAA4FnnQAAAAACAsNZAAAAAAAB8ykAAAAAAwAHSQAAAAAAAlNNAAAAAAMAk0EAAAAAAwIDoQAAAAAAAL89AAAAAAAB24UAAAAAAwArmQAAAAABAzNpAAAAAAACatkAAAAAAgJXNQAAAAAAAE8NAAAAAAMCa1EAAAAAAALu3QAAAAADg1uRAAAAAAECx4EAAAAAA4GXhQAAAAAAAusNAAAAAAAAevkAAAAAAwC/gQAAAAABgmOFAAAAAAABwn0AAAAAAABDUQAAAAACAht5AAAAAAADlv0AAAAAAgKHVQAAAAAAAtuhAAAAAAAB6xkAAAAAAAK++QAAAAAAAUclAAAAAAICmz0AAAAAAwKzgQAAAAADgqutAAAAAAMAc0EAAAAAAQIzQQAAAAACAc+5AAAAAAIBpyUAAAAAAANTOQAAAAACA1eFAAAAAAABGt0AAAAAAwKnWQAAAAACAgN5AAAAAAAAuxEAAAAAAAILhQAAAAADgYuFAAAAAAEDV4kAAAAAAwFjaQAAAAAAg1uVAAAAAAIAHykAAAAAAoLLtQAAAAADg1OhAAAAAAICx1kAAAAAAwOLUQAAAAACwqPJAAAAAAIDc10AAAAAAALzDQAAAAACgo+hAAAAAAIAk8kAAAAAAwOjfQAAAAACAF9pAAAAAAIAO2EAAAAAAEE3yQAAAAAAgSORAAAAAAAAcx0AAAAAAALrCQAAAAADghuBA",
          "dtype": "f8"
         },
         "yaxis": "y"
        }
       ],
       "layout": {
        "legend": {
         "tracegroupgap": 0
        },
        "template": {
         "data": {
          "bar": [
           {
            "error_x": {
             "color": "#2a3f5f"
            },
            "error_y": {
             "color": "#2a3f5f"
            },
            "marker": {
             "line": {
              "color": "white",
              "width": 0.5
             },
             "pattern": {
              "fillmode": "overlay",
              "size": 10,
              "solidity": 0.2
             }
            },
            "type": "bar"
           }
          ],
          "barpolar": [
           {
            "marker": {
             "line": {
              "color": "white",
              "width": 0.5
             },
             "pattern": {
              "fillmode": "overlay",
              "size": 10,
              "solidity": 0.2
             }
            },
            "type": "barpolar"
           }
          ],
          "carpet": [
           {
            "aaxis": {
             "endlinecolor": "#2a3f5f",
             "gridcolor": "#C8D4E3",
             "linecolor": "#C8D4E3",
             "minorgridcolor": "#C8D4E3",
             "startlinecolor": "#2a3f5f"
            },
            "baxis": {
             "endlinecolor": "#2a3f5f",
             "gridcolor": "#C8D4E3",
             "linecolor": "#C8D4E3",
             "minorgridcolor": "#C8D4E3",
             "startlinecolor": "#2a3f5f"
            },
            "type": "carpet"
           }
          ],
          "choropleth": [
           {
            "colorbar": {
             "outlinewidth": 0,
             "ticks": ""
            },
            "type": "choropleth"
           }
          ],
          "contour": [
           {
            "colorbar": {
             "outlinewidth": 0,
             "ticks": ""
            },
            "colorscale": [
             [
              0,
              "#0d0887"
             ],
             [
              0.1111111111111111,
              "#46039f"
             ],
             [
              0.2222222222222222,
              "#7201a8"
             ],
             [
              0.3333333333333333,
              "#9c179e"
             ],
             [
              0.4444444444444444,
              "#bd3786"
             ],
             [
              0.5555555555555556,
              "#d8576b"
             ],
             [
              0.6666666666666666,
              "#ed7953"
             ],
             [
              0.7777777777777778,
              "#fb9f3a"
             ],
             [
              0.8888888888888888,
              "#fdca26"
             ],
             [
              1,
              "#f0f921"
             ]
            ],
            "type": "contour"
           }
          ],
          "contourcarpet": [
           {
            "colorbar": {
             "outlinewidth": 0,
             "ticks": ""
            },
            "type": "contourcarpet"
           }
          ],
          "heatmap": [
           {
            "colorbar": {
             "outlinewidth": 0,
             "ticks": ""
            },
            "colorscale": [
             [
              0,
              "#0d0887"
             ],
             [
              0.1111111111111111,
              "#46039f"
             ],
             [
              0.2222222222222222,
              "#7201a8"
             ],
             [
              0.3333333333333333,
              "#9c179e"
             ],
             [
              0.4444444444444444,
              "#bd3786"
             ],
             [
              0.5555555555555556,
              "#d8576b"
             ],
             [
              0.6666666666666666,
              "#ed7953"
             ],
             [
              0.7777777777777778,
              "#fb9f3a"
             ],
             [
              0.8888888888888888,
              "#fdca26"
             ],
             [
              1,
              "#f0f921"
             ]
            ],
            "type": "heatmap"
           }
          ],
          "histogram": [
           {
            "marker": {
             "pattern": {
              "fillmode": "overlay",
              "size": 10,
              "solidity": 0.2
             }
            },
            "type": "histogram"
           }
          ],
          "histogram2d": [
           {
            "colorbar": {
             "outlinewidth": 0,
             "ticks": ""
            },
            "colorscale": [
             [
              0,
              "#0d0887"
             ],
             [
              0.1111111111111111,
              "#46039f"
             ],
             [
              0.2222222222222222,
              "#7201a8"
             ],
             [
              0.3333333333333333,
              "#9c179e"
             ],
             [
              0.4444444444444444,
              "#bd3786"
             ],
             [
              0.5555555555555556,
              "#d8576b"
             ],
             [
              0.6666666666666666,
              "#ed7953"
             ],
             [
              0.7777777777777778,
              "#fb9f3a"
             ],
             [
              0.8888888888888888,
              "#fdca26"
             ],
             [
              1,
              "#f0f921"
             ]
            ],
            "type": "histogram2d"
           }
          ],
          "histogram2dcontour": [
           {
            "colorbar": {
             "outlinewidth": 0,
             "ticks": ""
            },
            "colorscale": [
             [
              0,
              "#0d0887"
             ],
             [
              0.1111111111111111,
              "#46039f"
             ],
             [
              0.2222222222222222,
              "#7201a8"
             ],
             [
              0.3333333333333333,
              "#9c179e"
             ],
             [
              0.4444444444444444,
              "#bd3786"
             ],
             [
              0.5555555555555556,
              "#d8576b"
             ],
             [
              0.6666666666666666,
              "#ed7953"
             ],
             [
              0.7777777777777778,
              "#fb9f3a"
             ],
             [
              0.8888888888888888,
              "#fdca26"
             ],
             [
              1,
              "#f0f921"
             ]
            ],
            "type": "histogram2dcontour"
           }
          ],
          "mesh3d": [
           {
            "colorbar": {
             "outlinewidth": 0,
             "ticks": ""
            },
            "type": "mesh3d"
           }
          ],
          "parcoords": [
           {
            "line": {
             "colorbar": {
              "outlinewidth": 0,
              "ticks": ""
             }
            },
            "type": "parcoords"
           }
          ],
          "pie": [
           {
            "automargin": true,
            "type": "pie"
           }
          ],
          "scatter": [
           {
            "fillpattern": {
             "fillmode": "overlay",
             "size": 10,
             "solidity": 0.2
            },
            "type": "scatter"
           }
          ],
          "scatter3d": [
           {
            "line": {
             "colorbar": {
              "outlinewidth": 0,
              "ticks": ""
             }
            },
            "marker": {
             "colorbar": {
              "outlinewidth": 0,
              "ticks": ""
             }
            },
            "type": "scatter3d"
           }
          ],
          "scattercarpet": [
           {
            "marker": {
             "colorbar": {
              "outlinewidth": 0,
              "ticks": ""
             }
            },
            "type": "scattercarpet"
           }
          ],
          "scattergeo": [
           {
            "marker": {
             "colorbar": {
              "outlinewidth": 0,
              "ticks": ""
             }
            },
            "type": "scattergeo"
           }
          ],
          "scattergl": [
           {
            "marker": {
             "colorbar": {
              "outlinewidth": 0,
              "ticks": ""
             }
            },
            "type": "scattergl"
           }
          ],
          "scattermap": [
           {
            "marker": {
             "colorbar": {
              "outlinewidth": 0,
              "ticks": ""
             }
            },
            "type": "scattermap"
           }
          ],
          "scattermapbox": [
           {
            "marker": {
             "colorbar": {
              "outlinewidth": 0,
              "ticks": ""
             }
            },
            "type": "scattermapbox"
           }
          ],
          "scatterpolar": [
           {
            "marker": {
             "colorbar": {
              "outlinewidth": 0,
              "ticks": ""
             }
            },
            "type": "scatterpolar"
           }
          ],
          "scatterpolargl": [
           {
            "marker": {
             "colorbar": {
              "outlinewidth": 0,
              "ticks": ""
             }
            },
            "type": "scatterpolargl"
           }
          ],
          "scatterternary": [
           {
            "marker": {
             "colorbar": {
              "outlinewidth": 0,
              "ticks": ""
             }
            },
            "type": "scatterternary"
           }
          ],
          "surface": [
           {
            "colorbar": {
             "outlinewidth": 0,
             "ticks": ""
            },
            "colorscale": [
             [
              0,
              "#0d0887"
             ],
             [
              0.1111111111111111,
              "#46039f"
             ],
             [
              0.2222222222222222,
              "#7201a8"
             ],
             [
              0.3333333333333333,
              "#9c179e"
             ],
             [
              0.4444444444444444,
              "#bd3786"
             ],
             [
              0.5555555555555556,
              "#d8576b"
             ],
             [
              0.6666666666666666,
              "#ed7953"
             ],
             [
              0.7777777777777778,
              "#fb9f3a"
             ],
             [
              0.8888888888888888,
              "#fdca26"
             ],
             [
              1,
              "#f0f921"
             ]
            ],
            "type": "surface"
           }
          ],
          "table": [
           {
            "cells": {
             "fill": {
              "color": "#EBF0F8"
             },
             "line": {
              "color": "white"
             }
            },
            "header": {
             "fill": {
              "color": "#C8D4E3"
             },
             "line": {
              "color": "white"
             }
            },
            "type": "table"
           }
          ]
         },
         "layout": {
          "annotationdefaults": {
           "arrowcolor": "#2a3f5f",
           "arrowhead": 0,
           "arrowwidth": 1
          },
          "autotypenumbers": "strict",
          "coloraxis": {
           "colorbar": {
            "outlinewidth": 0,
            "ticks": ""
           }
          },
          "colorscale": {
           "diverging": [
            [
             0,
             "#8e0152"
            ],
            [
             0.1,
             "#c51b7d"
            ],
            [
             0.2,
             "#de77ae"
            ],
            [
             0.3,
             "#f1b6da"
            ],
            [
             0.4,
             "#fde0ef"
            ],
            [
             0.5,
             "#f7f7f7"
            ],
            [
             0.6,
             "#e6f5d0"
            ],
            [
             0.7,
             "#b8e186"
            ],
            [
             0.8,
             "#7fbc41"
            ],
            [
             0.9,
             "#4d9221"
            ],
            [
             1,
             "#276419"
            ]
           ],
           "sequential": [
            [
             0,
             "#0d0887"
            ],
            [
             0.1111111111111111,
             "#46039f"
            ],
            [
             0.2222222222222222,
             "#7201a8"
            ],
            [
             0.3333333333333333,
             "#9c179e"
            ],
            [
             0.4444444444444444,
             "#bd3786"
            ],
            [
             0.5555555555555556,
             "#d8576b"
            ],
            [
             0.6666666666666666,
             "#ed7953"
            ],
            [
             0.7777777777777778,
             "#fb9f3a"
            ],
            [
             0.8888888888888888,
             "#fdca26"
            ],
            [
             1,
             "#f0f921"
            ]
           ],
           "sequentialminus": [
            [
             0,
             "#0d0887"
            ],
            [
             0.1111111111111111,
             "#46039f"
            ],
            [
             0.2222222222222222,
             "#7201a8"
            ],
            [
             0.3333333333333333,
             "#9c179e"
            ],
            [
             0.4444444444444444,
             "#bd3786"
            ],
            [
             0.5555555555555556,
             "#d8576b"
            ],
            [
             0.6666666666666666,
             "#ed7953"
            ],
            [
             0.7777777777777778,
             "#fb9f3a"
            ],
            [
             0.8888888888888888,
             "#fdca26"
            ],
            [
             1,
             "#f0f921"
            ]
           ]
          },
          "colorway": [
           "#636efa",
           "#EF553B",
           "#00cc96",
           "#ab63fa",
           "#FFA15A",
           "#19d3f3",
           "#FF6692",
           "#B6E880",
           "#FF97FF",
           "#FECB52"
          ],
          "font": {
           "color": "#2a3f5f"
          },
          "geo": {
           "bgcolor": "white",
           "lakecolor": "white",
           "landcolor": "white",
           "showlakes": true,
           "showland": true,
           "subunitcolor": "#C8D4E3"
          },
          "hoverlabel": {
           "align": "left"
          },
          "hovermode": "closest",
          "mapbox": {
           "style": "light"
          },
          "paper_bgcolor": "white",
          "plot_bgcolor": "white",
          "polar": {
           "angularaxis": {
            "gridcolor": "#EBF0F8",
            "linecolor": "#EBF0F8",
            "ticks": ""
           },
           "bgcolor": "white",
           "radialaxis": {
            "gridcolor": "#EBF0F8",
            "linecolor": "#EBF0F8",
            "ticks": ""
           }
          },
          "scene": {
           "xaxis": {
            "backgroundcolor": "white",
            "gridcolor": "#DFE8F3",
            "gridwidth": 2,
            "linecolor": "#EBF0F8",
            "showbackground": true,
            "ticks": "",
            "zerolinecolor": "#EBF0F8"
           },
           "yaxis": {
            "backgroundcolor": "white",
            "gridcolor": "#DFE8F3",
            "gridwidth": 2,
            "linecolor": "#EBF0F8",
            "showbackground": true,
            "ticks": "",
            "zerolinecolor": "#EBF0F8"
           },
           "zaxis": {
            "backgroundcolor": "white",
            "gridcolor": "#DFE8F3",
            "gridwidth": 2,
            "linecolor": "#EBF0F8",
            "showbackground": true,
            "ticks": "",
            "zerolinecolor": "#EBF0F8"
           }
          },
          "shapedefaults": {
           "line": {
            "color": "#2a3f5f"
           }
          },
          "ternary": {
           "aaxis": {
            "gridcolor": "#DFE8F3",
            "linecolor": "#A2B1C6",
            "ticks": ""
           },
           "baxis": {
            "gridcolor": "#DFE8F3",
            "linecolor": "#A2B1C6",
            "ticks": ""
           },
           "bgcolor": "white",
           "caxis": {
            "gridcolor": "#DFE8F3",
            "linecolor": "#A2B1C6",
            "ticks": ""
           }
          },
          "title": {
           "x": 0.05
          },
          "xaxis": {
           "automargin": true,
           "gridcolor": "#EBF0F8",
           "linecolor": "#EBF0F8",
           "ticks": "",
           "title": {
            "standoff": 15
           },
           "zerolinecolor": "#EBF0F8",
           "zerolinewidth": 2
          },
          "yaxis": {
           "automargin": true,
           "gridcolor": "#EBF0F8",
           "linecolor": "#EBF0F8",
           "ticks": "",
           "title": {
            "standoff": 15
           },
           "zerolinecolor": "#EBF0F8",
           "zerolinewidth": 2
          }
         }
        },
        "title": {
         "text": "Evolución del Importe Total de Ventas a lo largo del Tiempo"
        },
        "xaxis": {
         "anchor": "y",
         "domain": [
          0,
          1
         ],
         "rangeslider": {
          "visible": true
         },
         "title": {
          "text": "Fecha"
         }
        },
        "yaxis": {
         "anchor": "x",
         "domain": [
          0,
          1
         ],
         "title": {
          "text": "Importe Total Diario ($)"
         }
        }
       }
      }
     },
     "metadata": {},
     "output_type": "display_data"
    }
   ],
   "source": [
    "print(\"--- 5.2 Evolución Temporal de las Ventas ---\")\n",
    "\n",
    "# 1. Extraer la fecha (sin hora) y agrupar\n",
    "data['fecha_dia'] = data['fecha_venta'].dt.date\n",
    "data_temporal = data.groupby('fecha_dia')['importe'].sum().reset_index()\n",
    "data_temporal['fecha_dia'] = pd.to_datetime(data_temporal['fecha_dia']) # Convertir de nuevo a datetime para Plotly\n",
    "\n",
    "# 2. Visualización con Gráfico de Líneas\n",
    "fig_tiempo = px.line(\n",
    "    data_temporal,\n",
    "    x=\"fecha_dia\",\n",
    "    y=\"importe\",\n",
    "    title=\"Evolución del Importe Total de Ventas a lo largo del Tiempo\",\n",
    "    template=\"plotly_white\"\n",
    ").update_layout(\n",
    "    xaxis_title=\"Fecha\",\n",
    "    yaxis_title=\"Importe Total Diario ($)\"\n",
    ").update_xaxes(\n",
    "    rangeslider_visible=True # Permite hacer zoom en el eje X\n",
    ")\n",
    "fig_tiempo.show()"
   ]
  },
  {
   "cell_type": "code",
   "execution_count": 13,
   "id": "13f3c676",
   "metadata": {},
   "outputs": [
    {
     "name": "stdout",
     "output_type": "stream",
     "text": [
      "--- 5.3 Importe por Cliente vs. Antigüedad del Cliente ---\n"
     ]
    },
    {
     "data": {
      "application/vnd.plotly.v1+json": {
       "config": {
        "plotlyServerURL": "https://plot.ly"
       },
       "data": [
        {
         "hovertemplate": "<b>%{hovertext}</b><br><br>antiguedad_promedio=%{x}<br>importe_total=%{marker.size}<extra></extra>",
         "hovertext": {
          "bdata": "AAAAAAAA8D8AAAAAAAAAQAAAAAAAAAhAAAAAAAAAFEAAAAAAAAAYQAAAAAAAACBAAAAAAAAAIkAAAAAAAAAkQAAAAAAAAChAAAAAAAAAKkAAAAAAAAAsQAAAAAAAAC5AAAAAAAAAMEAAAAAAAAAxQAAAAAAAADJAAAAAAAAAM0AAAAAAAAA0QAAAAAAAADVAAAAAAAAAN0AAAAAAAAA5QAAAAAAAADpAAAAAAAAAO0AAAAAAAAA8QAAAAAAAAD1AAAAAAAAAPkAAAAAAAAA/QAAAAAAAAEFAAAAAAAAAQkAAAAAAAIBCQAAAAAAAgENAAAAAAAAAREAAAAAAAIBEQAAAAAAAAEVAAAAAAACARUAAAAAAAABHQAAAAAAAAEhAAAAAAACASEAAAAAAAIBJQAAAAAAAAEpAAAAAAAAAS0AAAAAAAIBLQAAAAAAAAExAAAAAAACATEAAAAAAAABNQAAAAAAAgE5AAAAAAAAAT0AAAAAAAABQQAAAAAAAgFBAAAAAAADAUEAAAAAAAEBRQAAAAAAAAFJAAAAAAADAUkAAAAAAAIBTQAAAAAAAAFRAAAAAAABAVEAAAAAAAIBUQAAAAAAAwFRAAAAAAAAAVUAAAAAAAIBVQAAAAAAAAFZAAAAAAACAVkAAAAAAAMBWQAAAAAAAAFdAAAAAAABAV0AAAAAAAABYQAAAAAAAgFhAAAAAAAAAWUA=",
          "dtype": "f8"
         },
         "legendgroup": "",
         "marker": {
          "color": "#636efa",
          "size": {
           "bdata": "AAAAAACw8UAAAAAAgKHVQAAAAADAQ+BAAAAAAPAhAEEAAAAAwN3nQAAAAADgB+5AAAAAAABu5EAAAAAAAEHZQAAAAADALehAAAAAAADCyUAAAAAAQNXiQAAAAAAgbeZAAAAAAEAt20AAAAAAAEi+QAAAAAAAENRAAAAAAGDC5UAAAAAAwBLbQAAAAAAAlNNAAAAAAEBc00AAAAAAYPrzQAAAAACAZ95AAAAAAMBs2kAAAAAAAObNQAAAAAAAu7BAAAAAAGA65UAAAAAAgEjqQAAAAADg+OtAAAAAAAAvz0AAAAAAIEjkQAAAAABAou9AAAAAAICZ70AAAAAAgOzjQAAAAACgc+1AAAAAAABqz0AAAAAAAN3RQAAAAADAyNlAAAAAAJBp8UAAAAAAACTDQAAAAACgGfZAAAAAAIDF1EAAAAAAgBvcQAAAAADQJPZAAAAAAAD100AAAAAAwFPVQAAAAABwl/BAAAAAAMCo0kAAAAAAQKPjQAAAAAAARuZAAAAAAAA14UAAAAAAgGXvQAAAAAAgve9AAAAAAEA13UAAAAAAAJfWQAAAAAAAIdhAAAAAAMB+70AAAAAAAB6+QAAAAADAJNBAAAAAAHB/8EAAAAAAwMLgQAAAAADg4+FAAAAAAED42UAAAAAAQAXsQAAAAABg3OdAAAAAAAB24UAAAAAAwIPbQAAAAAAAOMVAAAAAAMAu3UA=",
           "dtype": "f8"
          },
          "sizemode": "area",
          "sizeref": 330.395,
          "symbol": "circle"
         },
         "mode": "markers",
         "name": "",
         "orientation": "v",
         "showlegend": false,
         "type": "scatter",
         "x": {
          "bdata": "AAAAAAAAgUAAAAAAAPiAQAAAAAAA8IBAAAAAAADggEAAAAAAANiAQAAAAAAAyIBAAAAAAADAgEAAAAAAALiAQAAAAAAAqIBAAAAAAACggEAAAAAAAJiAQAAAAAAAkIBAAAAAAACIgEAAAAAAAICAQAAAAAAAeIBAAAAAAABwgEAAAAAAAGiAQAAAAAAAYIBAAAAAAABQgEAAAAAAAECAQAAAAAAAOIBAAAAAAAAwgEAAAAAAACiAQAAAAAAAIIBAAAAAAAAYgEAAAAAAABCAQAAAAAAA8H9AAAAAAADQf0AAAAAAAMB/QAAAAAAAoH9AAAAAAACQf0AAAAAAAIB/QAAAAAAAcH9AAAAAAABgf0AAAAAAADB/QAAAAAAAEH9AAAAAAAAAf0AAAAAAAOB+QAAAAAAA0H5AAAAAAACwfkAAAAAAAKB+QAAAAAAAkH5AAAAAAACAfkAAAAAAAHB+QAAAAAAAQH5AAAAAAAAwfkAAAAAAABB+QAAAAAAA8H1AAAAAAADgfUAAAAAAAMB9QAAAAAAAkH1AAAAAAABgfUAAAAAAADB9QAAAAAAAEH1AAAAAAAAAfUAAAAAAAPB8QAAAAAAA4HxAAAAAAADQfEAAAAAAALB8QAAAAAAAkHxAAAAAAABwfEAAAAAAAGB8QAAAAAAAUHxAAAAAAABAfEAAAAAAABB8QAAAAAAA8HtAAAAAAADQe0A=",
          "dtype": "f8"
         },
         "xaxis": "x",
         "y": {
          "bdata": "AAAAAACw8UAAAAAAgKHVQAAAAADAQ+BAAAAAAPAhAEEAAAAAwN3nQAAAAADgB+5AAAAAAABu5EAAAAAAAEHZQAAAAADALehAAAAAAADCyUAAAAAAQNXiQAAAAAAgbeZAAAAAAEAt20AAAAAAAEi+QAAAAAAAENRAAAAAAGDC5UAAAAAAwBLbQAAAAAAAlNNAAAAAAEBc00AAAAAAYPrzQAAAAACAZ95AAAAAAMBs2kAAAAAAAObNQAAAAAAAu7BAAAAAAGA65UAAAAAAgEjqQAAAAADg+OtAAAAAAAAvz0AAAAAAIEjkQAAAAABAou9AAAAAAICZ70AAAAAAgOzjQAAAAACgc+1AAAAAAABqz0AAAAAAAN3RQAAAAADAyNlAAAAAAJBp8UAAAAAAACTDQAAAAACgGfZAAAAAAIDF1EAAAAAAgBvcQAAAAADQJPZAAAAAAAD100AAAAAAwFPVQAAAAABwl/BAAAAAAMCo0kAAAAAAQKPjQAAAAAAARuZAAAAAAAA14UAAAAAAgGXvQAAAAAAgve9AAAAAAEA13UAAAAAAAJfWQAAAAAAAIdhAAAAAAMB+70AAAAAAAB6+QAAAAADAJNBAAAAAAHB/8EAAAAAAwMLgQAAAAADg4+FAAAAAAED42UAAAAAAQAXsQAAAAABg3OdAAAAAAAB24UAAAAAAwIPbQAAAAAAAOMVAAAAAAMAu3UA=",
          "dtype": "f8"
         },
         "yaxis": "y"
        }
       ],
       "layout": {
        "legend": {
         "itemsizing": "constant",
         "tracegroupgap": 0
        },
        "template": {
         "data": {
          "bar": [
           {
            "error_x": {
             "color": "#2a3f5f"
            },
            "error_y": {
             "color": "#2a3f5f"
            },
            "marker": {
             "line": {
              "color": "white",
              "width": 0.5
             },
             "pattern": {
              "fillmode": "overlay",
              "size": 10,
              "solidity": 0.2
             }
            },
            "type": "bar"
           }
          ],
          "barpolar": [
           {
            "marker": {
             "line": {
              "color": "white",
              "width": 0.5
             },
             "pattern": {
              "fillmode": "overlay",
              "size": 10,
              "solidity": 0.2
             }
            },
            "type": "barpolar"
           }
          ],
          "carpet": [
           {
            "aaxis": {
             "endlinecolor": "#2a3f5f",
             "gridcolor": "#C8D4E3",
             "linecolor": "#C8D4E3",
             "minorgridcolor": "#C8D4E3",
             "startlinecolor": "#2a3f5f"
            },
            "baxis": {
             "endlinecolor": "#2a3f5f",
             "gridcolor": "#C8D4E3",
             "linecolor": "#C8D4E3",
             "minorgridcolor": "#C8D4E3",
             "startlinecolor": "#2a3f5f"
            },
            "type": "carpet"
           }
          ],
          "choropleth": [
           {
            "colorbar": {
             "outlinewidth": 0,
             "ticks": ""
            },
            "type": "choropleth"
           }
          ],
          "contour": [
           {
            "colorbar": {
             "outlinewidth": 0,
             "ticks": ""
            },
            "colorscale": [
             [
              0,
              "#0d0887"
             ],
             [
              0.1111111111111111,
              "#46039f"
             ],
             [
              0.2222222222222222,
              "#7201a8"
             ],
             [
              0.3333333333333333,
              "#9c179e"
             ],
             [
              0.4444444444444444,
              "#bd3786"
             ],
             [
              0.5555555555555556,
              "#d8576b"
             ],
             [
              0.6666666666666666,
              "#ed7953"
             ],
             [
              0.7777777777777778,
              "#fb9f3a"
             ],
             [
              0.8888888888888888,
              "#fdca26"
             ],
             [
              1,
              "#f0f921"
             ]
            ],
            "type": "contour"
           }
          ],
          "contourcarpet": [
           {
            "colorbar": {
             "outlinewidth": 0,
             "ticks": ""
            },
            "type": "contourcarpet"
           }
          ],
          "heatmap": [
           {
            "colorbar": {
             "outlinewidth": 0,
             "ticks": ""
            },
            "colorscale": [
             [
              0,
              "#0d0887"
             ],
             [
              0.1111111111111111,
              "#46039f"
             ],
             [
              0.2222222222222222,
              "#7201a8"
             ],
             [
              0.3333333333333333,
              "#9c179e"
             ],
             [
              0.4444444444444444,
              "#bd3786"
             ],
             [
              0.5555555555555556,
              "#d8576b"
             ],
             [
              0.6666666666666666,
              "#ed7953"
             ],
             [
              0.7777777777777778,
              "#fb9f3a"
             ],
             [
              0.8888888888888888,
              "#fdca26"
             ],
             [
              1,
              "#f0f921"
             ]
            ],
            "type": "heatmap"
           }
          ],
          "histogram": [
           {
            "marker": {
             "pattern": {
              "fillmode": "overlay",
              "size": 10,
              "solidity": 0.2
             }
            },
            "type": "histogram"
           }
          ],
          "histogram2d": [
           {
            "colorbar": {
             "outlinewidth": 0,
             "ticks": ""
            },
            "colorscale": [
             [
              0,
              "#0d0887"
             ],
             [
              0.1111111111111111,
              "#46039f"
             ],
             [
              0.2222222222222222,
              "#7201a8"
             ],
             [
              0.3333333333333333,
              "#9c179e"
             ],
             [
              0.4444444444444444,
              "#bd3786"
             ],
             [
              0.5555555555555556,
              "#d8576b"
             ],
             [
              0.6666666666666666,
              "#ed7953"
             ],
             [
              0.7777777777777778,
              "#fb9f3a"
             ],
             [
              0.8888888888888888,
              "#fdca26"
             ],
             [
              1,
              "#f0f921"
             ]
            ],
            "type": "histogram2d"
           }
          ],
          "histogram2dcontour": [
           {
            "colorbar": {
             "outlinewidth": 0,
             "ticks": ""
            },
            "colorscale": [
             [
              0,
              "#0d0887"
             ],
             [
              0.1111111111111111,
              "#46039f"
             ],
             [
              0.2222222222222222,
              "#7201a8"
             ],
             [
              0.3333333333333333,
              "#9c179e"
             ],
             [
              0.4444444444444444,
              "#bd3786"
             ],
             [
              0.5555555555555556,
              "#d8576b"
             ],
             [
              0.6666666666666666,
              "#ed7953"
             ],
             [
              0.7777777777777778,
              "#fb9f3a"
             ],
             [
              0.8888888888888888,
              "#fdca26"
             ],
             [
              1,
              "#f0f921"
             ]
            ],
            "type": "histogram2dcontour"
           }
          ],
          "mesh3d": [
           {
            "colorbar": {
             "outlinewidth": 0,
             "ticks": ""
            },
            "type": "mesh3d"
           }
          ],
          "parcoords": [
           {
            "line": {
             "colorbar": {
              "outlinewidth": 0,
              "ticks": ""
             }
            },
            "type": "parcoords"
           }
          ],
          "pie": [
           {
            "automargin": true,
            "type": "pie"
           }
          ],
          "scatter": [
           {
            "fillpattern": {
             "fillmode": "overlay",
             "size": 10,
             "solidity": 0.2
            },
            "type": "scatter"
           }
          ],
          "scatter3d": [
           {
            "line": {
             "colorbar": {
              "outlinewidth": 0,
              "ticks": ""
             }
            },
            "marker": {
             "colorbar": {
              "outlinewidth": 0,
              "ticks": ""
             }
            },
            "type": "scatter3d"
           }
          ],
          "scattercarpet": [
           {
            "marker": {
             "colorbar": {
              "outlinewidth": 0,
              "ticks": ""
             }
            },
            "type": "scattercarpet"
           }
          ],
          "scattergeo": [
           {
            "marker": {
             "colorbar": {
              "outlinewidth": 0,
              "ticks": ""
             }
            },
            "type": "scattergeo"
           }
          ],
          "scattergl": [
           {
            "marker": {
             "colorbar": {
              "outlinewidth": 0,
              "ticks": ""
             }
            },
            "type": "scattergl"
           }
          ],
          "scattermap": [
           {
            "marker": {
             "colorbar": {
              "outlinewidth": 0,
              "ticks": ""
             }
            },
            "type": "scattermap"
           }
          ],
          "scattermapbox": [
           {
            "marker": {
             "colorbar": {
              "outlinewidth": 0,
              "ticks": ""
             }
            },
            "type": "scattermapbox"
           }
          ],
          "scatterpolar": [
           {
            "marker": {
             "colorbar": {
              "outlinewidth": 0,
              "ticks": ""
             }
            },
            "type": "scatterpolar"
           }
          ],
          "scatterpolargl": [
           {
            "marker": {
             "colorbar": {
              "outlinewidth": 0,
              "ticks": ""
             }
            },
            "type": "scatterpolargl"
           }
          ],
          "scatterternary": [
           {
            "marker": {
             "colorbar": {
              "outlinewidth": 0,
              "ticks": ""
             }
            },
            "type": "scatterternary"
           }
          ],
          "surface": [
           {
            "colorbar": {
             "outlinewidth": 0,
             "ticks": ""
            },
            "colorscale": [
             [
              0,
              "#0d0887"
             ],
             [
              0.1111111111111111,
              "#46039f"
             ],
             [
              0.2222222222222222,
              "#7201a8"
             ],
             [
              0.3333333333333333,
              "#9c179e"
             ],
             [
              0.4444444444444444,
              "#bd3786"
             ],
             [
              0.5555555555555556,
              "#d8576b"
             ],
             [
              0.6666666666666666,
              "#ed7953"
             ],
             [
              0.7777777777777778,
              "#fb9f3a"
             ],
             [
              0.8888888888888888,
              "#fdca26"
             ],
             [
              1,
              "#f0f921"
             ]
            ],
            "type": "surface"
           }
          ],
          "table": [
           {
            "cells": {
             "fill": {
              "color": "#EBF0F8"
             },
             "line": {
              "color": "white"
             }
            },
            "header": {
             "fill": {
              "color": "#C8D4E3"
             },
             "line": {
              "color": "white"
             }
            },
            "type": "table"
           }
          ]
         },
         "layout": {
          "annotationdefaults": {
           "arrowcolor": "#2a3f5f",
           "arrowhead": 0,
           "arrowwidth": 1
          },
          "autotypenumbers": "strict",
          "coloraxis": {
           "colorbar": {
            "outlinewidth": 0,
            "ticks": ""
           }
          },
          "colorscale": {
           "diverging": [
            [
             0,
             "#8e0152"
            ],
            [
             0.1,
             "#c51b7d"
            ],
            [
             0.2,
             "#de77ae"
            ],
            [
             0.3,
             "#f1b6da"
            ],
            [
             0.4,
             "#fde0ef"
            ],
            [
             0.5,
             "#f7f7f7"
            ],
            [
             0.6,
             "#e6f5d0"
            ],
            [
             0.7,
             "#b8e186"
            ],
            [
             0.8,
             "#7fbc41"
            ],
            [
             0.9,
             "#4d9221"
            ],
            [
             1,
             "#276419"
            ]
           ],
           "sequential": [
            [
             0,
             "#0d0887"
            ],
            [
             0.1111111111111111,
             "#46039f"
            ],
            [
             0.2222222222222222,
             "#7201a8"
            ],
            [
             0.3333333333333333,
             "#9c179e"
            ],
            [
             0.4444444444444444,
             "#bd3786"
            ],
            [
             0.5555555555555556,
             "#d8576b"
            ],
            [
             0.6666666666666666,
             "#ed7953"
            ],
            [
             0.7777777777777778,
             "#fb9f3a"
            ],
            [
             0.8888888888888888,
             "#fdca26"
            ],
            [
             1,
             "#f0f921"
            ]
           ],
           "sequentialminus": [
            [
             0,
             "#0d0887"
            ],
            [
             0.1111111111111111,
             "#46039f"
            ],
            [
             0.2222222222222222,
             "#7201a8"
            ],
            [
             0.3333333333333333,
             "#9c179e"
            ],
            [
             0.4444444444444444,
             "#bd3786"
            ],
            [
             0.5555555555555556,
             "#d8576b"
            ],
            [
             0.6666666666666666,
             "#ed7953"
            ],
            [
             0.7777777777777778,
             "#fb9f3a"
            ],
            [
             0.8888888888888888,
             "#fdca26"
            ],
            [
             1,
             "#f0f921"
            ]
           ]
          },
          "colorway": [
           "#636efa",
           "#EF553B",
           "#00cc96",
           "#ab63fa",
           "#FFA15A",
           "#19d3f3",
           "#FF6692",
           "#B6E880",
           "#FF97FF",
           "#FECB52"
          ],
          "font": {
           "color": "#2a3f5f"
          },
          "geo": {
           "bgcolor": "white",
           "lakecolor": "white",
           "landcolor": "white",
           "showlakes": true,
           "showland": true,
           "subunitcolor": "#C8D4E3"
          },
          "hoverlabel": {
           "align": "left"
          },
          "hovermode": "closest",
          "mapbox": {
           "style": "light"
          },
          "paper_bgcolor": "white",
          "plot_bgcolor": "white",
          "polar": {
           "angularaxis": {
            "gridcolor": "#EBF0F8",
            "linecolor": "#EBF0F8",
            "ticks": ""
           },
           "bgcolor": "white",
           "radialaxis": {
            "gridcolor": "#EBF0F8",
            "linecolor": "#EBF0F8",
            "ticks": ""
           }
          },
          "scene": {
           "xaxis": {
            "backgroundcolor": "white",
            "gridcolor": "#DFE8F3",
            "gridwidth": 2,
            "linecolor": "#EBF0F8",
            "showbackground": true,
            "ticks": "",
            "zerolinecolor": "#EBF0F8"
           },
           "yaxis": {
            "backgroundcolor": "white",
            "gridcolor": "#DFE8F3",
            "gridwidth": 2,
            "linecolor": "#EBF0F8",
            "showbackground": true,
            "ticks": "",
            "zerolinecolor": "#EBF0F8"
           },
           "zaxis": {
            "backgroundcolor": "white",
            "gridcolor": "#DFE8F3",
            "gridwidth": 2,
            "linecolor": "#EBF0F8",
            "showbackground": true,
            "ticks": "",
            "zerolinecolor": "#EBF0F8"
           }
          },
          "shapedefaults": {
           "line": {
            "color": "#2a3f5f"
           }
          },
          "ternary": {
           "aaxis": {
            "gridcolor": "#DFE8F3",
            "linecolor": "#A2B1C6",
            "ticks": ""
           },
           "baxis": {
            "gridcolor": "#DFE8F3",
            "linecolor": "#A2B1C6",
            "ticks": ""
           },
           "bgcolor": "white",
           "caxis": {
            "gridcolor": "#DFE8F3",
            "linecolor": "#A2B1C6",
            "ticks": ""
           }
          },
          "title": {
           "x": 0.05
          },
          "xaxis": {
           "automargin": true,
           "gridcolor": "#EBF0F8",
           "linecolor": "#EBF0F8",
           "ticks": "",
           "title": {
            "standoff": 15
           },
           "zerolinecolor": "#EBF0F8",
           "zerolinewidth": 2
          },
          "yaxis": {
           "automargin": true,
           "gridcolor": "#EBF0F8",
           "linecolor": "#EBF0F8",
           "ticks": "",
           "title": {
            "standoff": 15
           },
           "zerolinecolor": "#EBF0F8",
           "zerolinewidth": 2
          }
         }
        },
        "title": {
         "text": "Relación entre Importe Total Gastado y Antigüedad del Cliente"
        },
        "xaxis": {
         "anchor": "y",
         "domain": [
          0,
          1
         ],
         "title": {
          "text": "Antigüedad del Cliente (días)"
         }
        },
        "yaxis": {
         "anchor": "x",
         "domain": [
          0,
          1
         ],
         "title": {
          "text": "Importe Total Gastado por Cliente ($)"
         }
        }
       }
      }
     },
     "metadata": {},
     "output_type": "display_data"
    }
   ],
   "source": [
    "print(\"--- 5.3 Importe por Cliente vs. Antigüedad del Cliente ---\")\n",
    "\n",
    "# 1. Feature Engineering: Calcular la antigüedad del cliente en días al momento de la venta\n",
    "fecha_maxima = data['fecha_venta'].max() # Usaremos la fecha de la última venta como referencia para la antigüedad.\n",
    "data['antiguedad_dias'] = (fecha_maxima - data['fecha_alta_cliente']).dt.days\n",
    "\n",
    "# 2. Agrupar por cliente para obtener el importe total y la antigüedad promedio\n",
    "data_cliente = data.groupby('id_cliente').agg(\n",
    "    importe_total=('importe', 'sum'),\n",
    "    antiguedad_promedio=('antiguedad_dias', 'mean')\n",
    ").reset_index()\n",
    "\n",
    "# 3. Gráfico de dispersión (Scatter Plot)\n",
    "fig_cliente = px.scatter(\n",
    "    data_cliente,\n",
    "    x=\"antiguedad_promedio\",\n",
    "    y=\"importe_total\",\n",
    "    size=\"importe_total\", # Tamaño del punto basado en el importe total\n",
    "    hover_name=\"id_cliente\",\n",
    "    title=\"Relación entre Importe Total Gastado y Antigüedad del Cliente\",\n",
    "    template=\"plotly_white\"\n",
    ").update_layout(\n",
    "    xaxis_title=\"Antigüedad del Cliente (días)\",\n",
    "    yaxis_title=\"Importe Total Gastado por Cliente ($)\"\n",
    ")\n",
    "fig_cliente.show()"
   ]
  },
  {
   "cell_type": "markdown",
   "id": "43425d4d",
   "metadata": {},
   "source": [
    "### 6. Preparación de Datos para Machine Learning"
   ]
  },
  {
   "cell_type": "code",
   "execution_count": 14,
   "id": "d540a1a3",
   "metadata": {},
   "outputs": [
    {
     "name": "stdout",
     "output_type": "stream",
     "text": [
      "--- 6.1 Ingeniería de Características (Feature Engineering) ---\n",
      "Columnas creadas: 'mes_venta', 'dia_semana_venta', 'antiguedad_dias'\n",
      "Columnas eliminadas: ['id_detalle', 'id_venta', 'id_producto', 'id_cliente', 'fecha_venta', 'fecha_alta_cliente', 'precio_unitario', 'ingreso_total', 'precio_promedio']\n"
     ]
    }
   ],
   "source": [
    "print(\"--- 6.1 Ingeniería de Características (Feature Engineering) ---\")\n",
    "\n",
    "# Variables temporales de la venta (para capturar estacionalidad)\n",
    "data['mes_venta'] = data['fecha_venta'].dt.month\n",
    "data['dia_semana_venta'] = data['fecha_venta'].dt.dayofweek # 0=Lunes, 6=Domingo\n",
    "\n",
    "# Antigüedad del cliente al momento de la venta (ya calculada en el paso anterior, pero la creamos de nuevo para robustez)\n",
    "data['antiguedad_dias'] = (data['fecha_venta'].max() - data['fecha_alta_cliente']).dt.days\n",
    "\n",
    "# Drop de columnas originales que ya no se necesitan o son redundantes para el modelo\n",
    "columnas_a_eliminar_ml = [\n",
    "    'id_detalle', 'id_venta', 'id_producto', 'id_cliente', \n",
    "    'fecha_venta', 'fecha_alta_cliente', # Ya extrajimos información temporal\n",
    "    'precio_unitario', 'ingreso_total', 'precio_promedio' # Correlacionan fuertemente con 'importe' o son redundantes\n",
    "]\n",
    "\n",
    "data_ml = data.drop(columns=columnas_a_eliminar_ml)\n",
    "print(f\"Columnas creadas: 'mes_venta', 'dia_semana_venta', 'antiguedad_dias'\")\n",
    "print(f\"Columnas eliminadas: {columnas_a_eliminar_ml}\")\n"
   ]
  },
  {
   "cell_type": "code",
   "execution_count": 15,
   "id": "4254f2a7",
   "metadata": {},
   "outputs": [
    {
     "name": "stdout",
     "output_type": "stream",
     "text": [
      "--- 6.2 Definición de Variables y Preprocesamiento ---\n",
      "Características Numéricas a escalar: ['cantidad', 'antiguedad_dias', 'mes_venta', 'dia_semana_venta']\n",
      "Características Categóricas a codificar: ['nombre_producto', 'nombre_cliente', 'email', 'medio_pago', 'categoria', 'ciudad', 'fecha_dia']\n"
     ]
    }
   ],
   "source": [
    "print(\"--- 6.2 Definición de Variables y Preprocesamiento ---\")\n",
    "\n",
    "# 1. Definir la variable objetivo (Y) y las características (X)\n",
    "TARGET_VARIABLE = 'importe'\n",
    "X = data_ml.drop(columns=[TARGET_VARIABLE])\n",
    "y = data_ml[TARGET_VARIABLE]\n",
    "\n",
    "# 2. Identificar tipos de columnas para el preprocesamiento\n",
    "COL_NUMERICAS = X.select_dtypes(include=np.number).columns.tolist()\n",
    "COL_CATEGORICAS = X.select_dtypes(include='object').columns.tolist()\n",
    "print(f\"Características Numéricas a escalar: {COL_NUMERICAS}\")\n",
    "print(f\"Características Categóricas a codificar: {COL_CATEGORICAS}\")"
   ]
  },
  {
   "cell_type": "code",
   "execution_count": 16,
   "id": "e30bfd3a",
   "metadata": {},
   "outputs": [
    {
     "name": "stdout",
     "output_type": "stream",
     "text": [
      "Preprocesador (ColumnTransformer) creado con StandardScaler y OneHotEncoder.\n"
     ]
    }
   ],
   "source": [
    "# 3. Crear el Preprocesador (ColumnTransformer)\n",
    "# Usaremos StandardScaler para las numéricas y OneHotEncoder para las categóricas\n",
    "preprocessor = ColumnTransformer(\n",
    "    transformers=[\n",
    "        ('num', StandardScaler(), COL_NUMERICAS),\n",
    "        ('cat', OneHotEncoder(handle_unknown='ignore', sparse_output=False), COL_CATEGORICAS)\n",
    "    ],\n",
    "    remainder='passthrough' # Mantiene cualquier otra columna (aunque no debería haber ninguna)\n",
    ")\n",
    "print(\"Preprocesador (ColumnTransformer) creado con StandardScaler y OneHotEncoder.\")"
   ]
  },
  {
   "cell_type": "code",
   "execution_count": 17,
   "id": "42fa5c23",
   "metadata": {},
   "outputs": [
    {
     "name": "stdout",
     "output_type": "stream",
     "text": [
      "--- 6.3 División de Datos (Entrenamiento y Prueba) ---\n",
      "Tamaño del conjunto original: 343 registros\n",
      "Tamaño del conjunto de entrenamiento (X_train): (274, 11)\n",
      "Tamaño del conjunto de prueba (X_test): (69, 11)\n"
     ]
    }
   ],
   "source": [
    "# 6.3. División de Datos (Entrenamiento y Prueba)\n",
    "print(\"--- 6.3 División de Datos (Entrenamiento y Prueba) ---\")\n",
    "\n",
    "# Dividir los datos en conjuntos de entrenamiento (80%) y prueba (20%)\n",
    "X_train, X_test, y_train, y_test = train_test_split(\n",
    "    X, y, \n",
    "    test_size=0.2, \n",
    "    random_state=42 # Semilla para reproducibilidad\n",
    ")\n",
    "\n",
    "print(f\"Tamaño del conjunto original: {data_ml.shape[0]} registros\")\n",
    "print(f\"Tamaño del conjunto de entrenamiento (X_train): {X_train.shape}\")\n",
    "print(f\"Tamaño del conjunto de prueba (X_test): {X_test.shape}\")\n"
   ]
  },
  {
   "cell_type": "markdown",
   "id": "21257f67",
   "metadata": {},
   "source": [
    "### 7. Modelado, Entrenamiento y Evaluación Inicial"
   ]
  },
  {
   "cell_type": "code",
   "execution_count": 18,
   "id": "67397dc4",
   "metadata": {},
   "outputs": [
    {
     "name": "stdout",
     "output_type": "stream",
     "text": [
      "--- 7.1 Creación y Entrenamiento del Pipeline ---\n",
      "Iniciando el entrenamiento del modelo Random Forest...\n",
      "Entrenamiento completado.\n",
      "--------------------------------------------------\n"
     ]
    }
   ],
   "source": [
    "# Importar las bibliotecas necesarias para el modelado\n",
    "from sklearn.ensemble import RandomForestRegressor\n",
    "from sklearn.metrics import mean_absolute_error, mean_squared_error, r2_score\n",
    "from sklearn.pipeline import Pipeline\n",
    "\n",
    "print(\"--- 7.1 Creación y Entrenamiento del Pipeline ---\")\n",
    "\n",
    "# 1. Definir el modelo (Random Forest Regressor)\n",
    "# Usaremos una configuración simple, pero puede optimizarse después (GridSearch/RandomSearch)\n",
    "rf_model = RandomForestRegressor(\n",
    "    n_estimators=100, \n",
    "    random_state=42, \n",
    "    n_jobs=-1, # Usa todos los núcleos disponibles\n",
    "    max_depth=10 \n",
    ")\n",
    "\n",
    "# 2. Crear el Pipeline: Encadenar el preprocesador y el modelo\n",
    "# 'preprocessor' se creó en el Paso 6\n",
    "pipeline = Pipeline(steps=[\n",
    "    ('preprocessor', preprocessor),\n",
    "    ('regressor', rf_model)\n",
    "])\n",
    "\n",
    "# 3. Entrenar el Pipeline\n",
    "# El .fit() aplica el preprocesamiento (fit_transform) y luego entrena el modelo\n",
    "print(\"Iniciando el entrenamiento del modelo Random Forest...\")\n",
    "pipeline.fit(X_train, y_train)\n",
    "print(\"Entrenamiento completado.\")\n",
    "print(\"-\" * 50)\n"
   ]
  },
  {
   "cell_type": "code",
   "execution_count": 19,
   "id": "a934f710",
   "metadata": {},
   "outputs": [
    {
     "name": "stdout",
     "output_type": "stream",
     "text": [
      "--- 7.2 Predicción y Evaluación ---\n",
      "Métricas de Evaluación en el conjunto de Prueba:\n",
      "  - Error Absoluto Medio (MAE): 2,510.55 $\n",
      "  - Raíz del Error Cuadrático Medio (RMSE): 3,204.51 $\n",
      "  - Coeficiente de Determinación (R²): 0.4039\n"
     ]
    }
   ],
   "source": [
    "print(\"--- 7.2 Predicción y Evaluación ---\")\n",
    "\n",
    "# 1. Realizar predicciones en el conjunto de prueba\n",
    "y_pred = pipeline.predict(X_test)\n",
    "\n",
    "# 2. Calcular las métricas de evaluación para regresión\n",
    "mae = mean_absolute_error(y_test, y_pred)\n",
    "rmse = np.sqrt(mean_squared_error(y_test, y_pred)) # RMSE\n",
    "r2 = r2_score(y_test, y_pred)\n",
    "\n",
    "print(f\"Métricas de Evaluación en el conjunto de Prueba:\")\n",
    "print(f\"  - Error Absoluto Medio (MAE): {mae:,.2f} $\")\n",
    "print(f\"  - Raíz del Error Cuadrático Medio (RMSE): {rmse:,.2f} $\")\n",
    "print(f\"  - Coeficiente de Determinación (R²): {r2:.4f}\")"
   ]
  },
  {
   "cell_type": "code",
   "execution_count": 20,
   "id": "55c003da",
   "metadata": {},
   "outputs": [
    {
     "name": "stdout",
     "output_type": "stream",
     "text": [
      "Importancia de las Características (Top 10):\n",
      "| Característica                                  |   Importancia |\n",
      "|:------------------------------------------------|--------------:|\n",
      "| num__cantidad                                   |     0.468786  |\n",
      "| num__antiguedad_dias                            |     0.0321556 |\n",
      "| cat__fecha_dia_2024-05-23                       |     0.0257031 |\n",
      "| cat__nombre_producto_Helado Vainilla 1L         |     0.0253125 |\n",
      "| cat__nombre_producto_Turrón 50g                 |     0.0223162 |\n",
      "| cat__nombre_producto_Pizza Congelada Muzzarella |     0.0211011 |\n",
      "| cat__nombre_producto_Ron 700ml                  |     0.0207161 |\n",
      "| cat__nombre_producto_Pan Lactal Integral        |     0.0184668 |\n",
      "| num__dia_semana_venta                           |     0.0176933 |\n",
      "| cat__nombre_producto_Desodorante Aerosol        |     0.013281  |\n"
     ]
    },
    {
     "data": {
      "application/vnd.plotly.v1+json": {
       "config": {
        "plotlyServerURL": "https://plot.ly"
       },
       "data": [
        {
         "hovertemplate": "Importancia=%{x}<br>Característica=%{y}<extra></extra>",
         "legendgroup": "",
         "marker": {
          "color": "#636efa",
          "pattern": {
           "shape": ""
          }
         },
         "name": "",
         "orientation": "h",
         "showlegend": false,
         "textposition": "auto",
         "type": "bar",
         "x": {
          "bdata": "VmpSFpUA3j9SXJZTsnagP2slQOrqUZo/nrOxooLrmT/S8a9TD9qWP9VdYr+Fm5U/oPwE05s2lT+4SNSb+OiSP1k/tNEvHpI/nMjFuAsziz8=",
          "dtype": "f8"
         },
         "xaxis": "x",
         "y": [
          "num__cantidad",
          "num__antiguedad_dias",
          "cat__fecha_dia_2024-05-23",
          "cat__nombre_producto_Helado Vainilla 1L",
          "cat__nombre_producto_Turrón 50g",
          "cat__nombre_producto_Pizza Congelada Muzzarella",
          "cat__nombre_producto_Ron 700ml",
          "cat__nombre_producto_Pan Lactal Integral",
          "num__dia_semana_venta",
          "cat__nombre_producto_Desodorante Aerosol"
         ],
         "yaxis": "y"
        }
       ],
       "layout": {
        "barmode": "relative",
        "legend": {
         "tracegroupgap": 0
        },
        "template": {
         "data": {
          "bar": [
           {
            "error_x": {
             "color": "#2a3f5f"
            },
            "error_y": {
             "color": "#2a3f5f"
            },
            "marker": {
             "line": {
              "color": "white",
              "width": 0.5
             },
             "pattern": {
              "fillmode": "overlay",
              "size": 10,
              "solidity": 0.2
             }
            },
            "type": "bar"
           }
          ],
          "barpolar": [
           {
            "marker": {
             "line": {
              "color": "white",
              "width": 0.5
             },
             "pattern": {
              "fillmode": "overlay",
              "size": 10,
              "solidity": 0.2
             }
            },
            "type": "barpolar"
           }
          ],
          "carpet": [
           {
            "aaxis": {
             "endlinecolor": "#2a3f5f",
             "gridcolor": "#C8D4E3",
             "linecolor": "#C8D4E3",
             "minorgridcolor": "#C8D4E3",
             "startlinecolor": "#2a3f5f"
            },
            "baxis": {
             "endlinecolor": "#2a3f5f",
             "gridcolor": "#C8D4E3",
             "linecolor": "#C8D4E3",
             "minorgridcolor": "#C8D4E3",
             "startlinecolor": "#2a3f5f"
            },
            "type": "carpet"
           }
          ],
          "choropleth": [
           {
            "colorbar": {
             "outlinewidth": 0,
             "ticks": ""
            },
            "type": "choropleth"
           }
          ],
          "contour": [
           {
            "colorbar": {
             "outlinewidth": 0,
             "ticks": ""
            },
            "colorscale": [
             [
              0,
              "#0d0887"
             ],
             [
              0.1111111111111111,
              "#46039f"
             ],
             [
              0.2222222222222222,
              "#7201a8"
             ],
             [
              0.3333333333333333,
              "#9c179e"
             ],
             [
              0.4444444444444444,
              "#bd3786"
             ],
             [
              0.5555555555555556,
              "#d8576b"
             ],
             [
              0.6666666666666666,
              "#ed7953"
             ],
             [
              0.7777777777777778,
              "#fb9f3a"
             ],
             [
              0.8888888888888888,
              "#fdca26"
             ],
             [
              1,
              "#f0f921"
             ]
            ],
            "type": "contour"
           }
          ],
          "contourcarpet": [
           {
            "colorbar": {
             "outlinewidth": 0,
             "ticks": ""
            },
            "type": "contourcarpet"
           }
          ],
          "heatmap": [
           {
            "colorbar": {
             "outlinewidth": 0,
             "ticks": ""
            },
            "colorscale": [
             [
              0,
              "#0d0887"
             ],
             [
              0.1111111111111111,
              "#46039f"
             ],
             [
              0.2222222222222222,
              "#7201a8"
             ],
             [
              0.3333333333333333,
              "#9c179e"
             ],
             [
              0.4444444444444444,
              "#bd3786"
             ],
             [
              0.5555555555555556,
              "#d8576b"
             ],
             [
              0.6666666666666666,
              "#ed7953"
             ],
             [
              0.7777777777777778,
              "#fb9f3a"
             ],
             [
              0.8888888888888888,
              "#fdca26"
             ],
             [
              1,
              "#f0f921"
             ]
            ],
            "type": "heatmap"
           }
          ],
          "histogram": [
           {
            "marker": {
             "pattern": {
              "fillmode": "overlay",
              "size": 10,
              "solidity": 0.2
             }
            },
            "type": "histogram"
           }
          ],
          "histogram2d": [
           {
            "colorbar": {
             "outlinewidth": 0,
             "ticks": ""
            },
            "colorscale": [
             [
              0,
              "#0d0887"
             ],
             [
              0.1111111111111111,
              "#46039f"
             ],
             [
              0.2222222222222222,
              "#7201a8"
             ],
             [
              0.3333333333333333,
              "#9c179e"
             ],
             [
              0.4444444444444444,
              "#bd3786"
             ],
             [
              0.5555555555555556,
              "#d8576b"
             ],
             [
              0.6666666666666666,
              "#ed7953"
             ],
             [
              0.7777777777777778,
              "#fb9f3a"
             ],
             [
              0.8888888888888888,
              "#fdca26"
             ],
             [
              1,
              "#f0f921"
             ]
            ],
            "type": "histogram2d"
           }
          ],
          "histogram2dcontour": [
           {
            "colorbar": {
             "outlinewidth": 0,
             "ticks": ""
            },
            "colorscale": [
             [
              0,
              "#0d0887"
             ],
             [
              0.1111111111111111,
              "#46039f"
             ],
             [
              0.2222222222222222,
              "#7201a8"
             ],
             [
              0.3333333333333333,
              "#9c179e"
             ],
             [
              0.4444444444444444,
              "#bd3786"
             ],
             [
              0.5555555555555556,
              "#d8576b"
             ],
             [
              0.6666666666666666,
              "#ed7953"
             ],
             [
              0.7777777777777778,
              "#fb9f3a"
             ],
             [
              0.8888888888888888,
              "#fdca26"
             ],
             [
              1,
              "#f0f921"
             ]
            ],
            "type": "histogram2dcontour"
           }
          ],
          "mesh3d": [
           {
            "colorbar": {
             "outlinewidth": 0,
             "ticks": ""
            },
            "type": "mesh3d"
           }
          ],
          "parcoords": [
           {
            "line": {
             "colorbar": {
              "outlinewidth": 0,
              "ticks": ""
             }
            },
            "type": "parcoords"
           }
          ],
          "pie": [
           {
            "automargin": true,
            "type": "pie"
           }
          ],
          "scatter": [
           {
            "fillpattern": {
             "fillmode": "overlay",
             "size": 10,
             "solidity": 0.2
            },
            "type": "scatter"
           }
          ],
          "scatter3d": [
           {
            "line": {
             "colorbar": {
              "outlinewidth": 0,
              "ticks": ""
             }
            },
            "marker": {
             "colorbar": {
              "outlinewidth": 0,
              "ticks": ""
             }
            },
            "type": "scatter3d"
           }
          ],
          "scattercarpet": [
           {
            "marker": {
             "colorbar": {
              "outlinewidth": 0,
              "ticks": ""
             }
            },
            "type": "scattercarpet"
           }
          ],
          "scattergeo": [
           {
            "marker": {
             "colorbar": {
              "outlinewidth": 0,
              "ticks": ""
             }
            },
            "type": "scattergeo"
           }
          ],
          "scattergl": [
           {
            "marker": {
             "colorbar": {
              "outlinewidth": 0,
              "ticks": ""
             }
            },
            "type": "scattergl"
           }
          ],
          "scattermap": [
           {
            "marker": {
             "colorbar": {
              "outlinewidth": 0,
              "ticks": ""
             }
            },
            "type": "scattermap"
           }
          ],
          "scattermapbox": [
           {
            "marker": {
             "colorbar": {
              "outlinewidth": 0,
              "ticks": ""
             }
            },
            "type": "scattermapbox"
           }
          ],
          "scatterpolar": [
           {
            "marker": {
             "colorbar": {
              "outlinewidth": 0,
              "ticks": ""
             }
            },
            "type": "scatterpolar"
           }
          ],
          "scatterpolargl": [
           {
            "marker": {
             "colorbar": {
              "outlinewidth": 0,
              "ticks": ""
             }
            },
            "type": "scatterpolargl"
           }
          ],
          "scatterternary": [
           {
            "marker": {
             "colorbar": {
              "outlinewidth": 0,
              "ticks": ""
             }
            },
            "type": "scatterternary"
           }
          ],
          "surface": [
           {
            "colorbar": {
             "outlinewidth": 0,
             "ticks": ""
            },
            "colorscale": [
             [
              0,
              "#0d0887"
             ],
             [
              0.1111111111111111,
              "#46039f"
             ],
             [
              0.2222222222222222,
              "#7201a8"
             ],
             [
              0.3333333333333333,
              "#9c179e"
             ],
             [
              0.4444444444444444,
              "#bd3786"
             ],
             [
              0.5555555555555556,
              "#d8576b"
             ],
             [
              0.6666666666666666,
              "#ed7953"
             ],
             [
              0.7777777777777778,
              "#fb9f3a"
             ],
             [
              0.8888888888888888,
              "#fdca26"
             ],
             [
              1,
              "#f0f921"
             ]
            ],
            "type": "surface"
           }
          ],
          "table": [
           {
            "cells": {
             "fill": {
              "color": "#EBF0F8"
             },
             "line": {
              "color": "white"
             }
            },
            "header": {
             "fill": {
              "color": "#C8D4E3"
             },
             "line": {
              "color": "white"
             }
            },
            "type": "table"
           }
          ]
         },
         "layout": {
          "annotationdefaults": {
           "arrowcolor": "#2a3f5f",
           "arrowhead": 0,
           "arrowwidth": 1
          },
          "autotypenumbers": "strict",
          "coloraxis": {
           "colorbar": {
            "outlinewidth": 0,
            "ticks": ""
           }
          },
          "colorscale": {
           "diverging": [
            [
             0,
             "#8e0152"
            ],
            [
             0.1,
             "#c51b7d"
            ],
            [
             0.2,
             "#de77ae"
            ],
            [
             0.3,
             "#f1b6da"
            ],
            [
             0.4,
             "#fde0ef"
            ],
            [
             0.5,
             "#f7f7f7"
            ],
            [
             0.6,
             "#e6f5d0"
            ],
            [
             0.7,
             "#b8e186"
            ],
            [
             0.8,
             "#7fbc41"
            ],
            [
             0.9,
             "#4d9221"
            ],
            [
             1,
             "#276419"
            ]
           ],
           "sequential": [
            [
             0,
             "#0d0887"
            ],
            [
             0.1111111111111111,
             "#46039f"
            ],
            [
             0.2222222222222222,
             "#7201a8"
            ],
            [
             0.3333333333333333,
             "#9c179e"
            ],
            [
             0.4444444444444444,
             "#bd3786"
            ],
            [
             0.5555555555555556,
             "#d8576b"
            ],
            [
             0.6666666666666666,
             "#ed7953"
            ],
            [
             0.7777777777777778,
             "#fb9f3a"
            ],
            [
             0.8888888888888888,
             "#fdca26"
            ],
            [
             1,
             "#f0f921"
            ]
           ],
           "sequentialminus": [
            [
             0,
             "#0d0887"
            ],
            [
             0.1111111111111111,
             "#46039f"
            ],
            [
             0.2222222222222222,
             "#7201a8"
            ],
            [
             0.3333333333333333,
             "#9c179e"
            ],
            [
             0.4444444444444444,
             "#bd3786"
            ],
            [
             0.5555555555555556,
             "#d8576b"
            ],
            [
             0.6666666666666666,
             "#ed7953"
            ],
            [
             0.7777777777777778,
             "#fb9f3a"
            ],
            [
             0.8888888888888888,
             "#fdca26"
            ],
            [
             1,
             "#f0f921"
            ]
           ]
          },
          "colorway": [
           "#636efa",
           "#EF553B",
           "#00cc96",
           "#ab63fa",
           "#FFA15A",
           "#19d3f3",
           "#FF6692",
           "#B6E880",
           "#FF97FF",
           "#FECB52"
          ],
          "font": {
           "color": "#2a3f5f"
          },
          "geo": {
           "bgcolor": "white",
           "lakecolor": "white",
           "landcolor": "white",
           "showlakes": true,
           "showland": true,
           "subunitcolor": "#C8D4E3"
          },
          "hoverlabel": {
           "align": "left"
          },
          "hovermode": "closest",
          "mapbox": {
           "style": "light"
          },
          "paper_bgcolor": "white",
          "plot_bgcolor": "white",
          "polar": {
           "angularaxis": {
            "gridcolor": "#EBF0F8",
            "linecolor": "#EBF0F8",
            "ticks": ""
           },
           "bgcolor": "white",
           "radialaxis": {
            "gridcolor": "#EBF0F8",
            "linecolor": "#EBF0F8",
            "ticks": ""
           }
          },
          "scene": {
           "xaxis": {
            "backgroundcolor": "white",
            "gridcolor": "#DFE8F3",
            "gridwidth": 2,
            "linecolor": "#EBF0F8",
            "showbackground": true,
            "ticks": "",
            "zerolinecolor": "#EBF0F8"
           },
           "yaxis": {
            "backgroundcolor": "white",
            "gridcolor": "#DFE8F3",
            "gridwidth": 2,
            "linecolor": "#EBF0F8",
            "showbackground": true,
            "ticks": "",
            "zerolinecolor": "#EBF0F8"
           },
           "zaxis": {
            "backgroundcolor": "white",
            "gridcolor": "#DFE8F3",
            "gridwidth": 2,
            "linecolor": "#EBF0F8",
            "showbackground": true,
            "ticks": "",
            "zerolinecolor": "#EBF0F8"
           }
          },
          "shapedefaults": {
           "line": {
            "color": "#2a3f5f"
           }
          },
          "ternary": {
           "aaxis": {
            "gridcolor": "#DFE8F3",
            "linecolor": "#A2B1C6",
            "ticks": ""
           },
           "baxis": {
            "gridcolor": "#DFE8F3",
            "linecolor": "#A2B1C6",
            "ticks": ""
           },
           "bgcolor": "white",
           "caxis": {
            "gridcolor": "#DFE8F3",
            "linecolor": "#A2B1C6",
            "ticks": ""
           }
          },
          "title": {
           "x": 0.05
          },
          "xaxis": {
           "automargin": true,
           "gridcolor": "#EBF0F8",
           "linecolor": "#EBF0F8",
           "ticks": "",
           "title": {
            "standoff": 15
           },
           "zerolinecolor": "#EBF0F8",
           "zerolinewidth": 2
          },
          "yaxis": {
           "automargin": true,
           "gridcolor": "#EBF0F8",
           "linecolor": "#EBF0F8",
           "ticks": "",
           "title": {
            "standoff": 15
           },
           "zerolinecolor": "#EBF0F8",
           "zerolinewidth": 2
          }
         }
        },
        "title": {
         "text": "Top 10 Características más Importantes para la Predicción de Importe"
        },
        "xaxis": {
         "anchor": "y",
         "domain": [
          0,
          1
         ],
         "title": {
          "text": "Importancia"
         }
        },
        "yaxis": {
         "anchor": "x",
         "categoryorder": "total ascending",
         "domain": [
          0,
          1
         ],
         "title": {
          "text": "Característica"
         }
        }
       }
      }
     },
     "metadata": {},
     "output_type": "display_data"
    }
   ],
   "source": [
    "# 3. Visualización de la Importancia de Características\n",
    "# Esta es una gran ventaja del Random Forest para entender el modelo\n",
    "# Obtenemos los nombres de las columnas post-preprocesamiento (incluyendo one-hot encoding)\n",
    "feature_names = pipeline['preprocessor'].get_feature_names_out()\n",
    "# Obtenemos las importancias\n",
    "importances = pipeline['regressor'].feature_importances_\n",
    "# Creamos un DataFrame para visualizarlas\n",
    "feature_importance_df = pd.DataFrame({\n",
    "    'Característica': feature_names,\n",
    "    'Importancia': importances\n",
    "}).sort_values(by='Importancia', ascending=False).head(10) # Mostrar las top 10\n",
    "\n",
    "print(\"Importancia de las Características (Top 10):\")\n",
    "print(feature_importance_df.to_markdown(index=False))\n",
    "\n",
    "# Opcional: Visualización con Plotly\n",
    "fig_importancia = px.bar(\n",
    "    feature_importance_df,\n",
    "    x='Importancia',\n",
    "    y='Característica',\n",
    "    orientation='h',\n",
    "    title='Top 10 Características más Importantes para la Predicción de Importe',\n",
    "    template='plotly_white'\n",
    ").update_layout(yaxis={'categoryorder':'total ascending'})\n",
    "fig_importancia.show()"
   ]
  },
  {
   "cell_type": "markdown",
   "id": "81ef24fd",
   "metadata": {},
   "source": [
    "### 8. Optimización del Modelo con GridSearchCV"
   ]
  },
  {
   "cell_type": "code",
   "execution_count": 21,
   "id": "e09a47d2",
   "metadata": {},
   "outputs": [
    {
     "name": "stdout",
     "output_type": "stream",
     "text": [
      "--- 8.1 Definición y Ejecución de GridSearchCV ---\n",
      "Iniciando la búsqueda de la mejor combinación de hiperparámetros...\n",
      "Fitting 5 folds for each of 18 candidates, totalling 90 fits\n",
      "Búsqueda completada.\n",
      "--------------------------------------------------\n"
     ]
    }
   ],
   "source": [
    "from sklearn.model_selection import GridSearchCV\n",
    "\n",
    "print(\"--- 8.1 Definición y Ejecución de GridSearchCV ---\")\n",
    "\n",
    "# 1. Definir la malla de hiperparámetros a probar\n",
    "# Es crucial usar el prefijo del paso del Pipeline ('regressor__')\n",
    "param_grid = {\n",
    "    'regressor__n_estimators': [100, 200, 300], # Número de árboles\n",
    "    'regressor__max_depth': [5, 10, None],      # Profundidad máxima del árbol\n",
    "    'regressor__min_samples_split': [2, 5],     # Mínimo de muestras para dividir un nodo\n",
    "}\n",
    "\n",
    "# 2. Configurar GridSearchCV\n",
    "# Usamos el Pipeline completo creado en el paso anterior.\n",
    "# cv=5: Validación cruzada con 5 pliegues.\n",
    "# scoring: Usamos el error cuadrático medio negativo (cuanto más cercano a cero, mejor).\n",
    "grid_search = GridSearchCV(\n",
    "    estimator=pipeline, \n",
    "    param_grid=param_grid, \n",
    "    cv=5, \n",
    "    scoring='neg_mean_squared_error', \n",
    "    n_jobs=-1, # Usa todos los núcleos\n",
    "    verbose=1\n",
    ")\n",
    "\n",
    "# 3. Ejecutar la búsqueda en los datos de entrenamiento\n",
    "print(\"Iniciando la búsqueda de la mejor combinación de hiperparámetros...\")\n",
    "grid_search.fit(X_train, y_train)\n",
    "\n",
    "print(\"Búsqueda completada.\")\n",
    "print(\"-\" * 50)\n",
    "\n",
    "\n",
    "\n",
    "\n",
    "# 5. Comparación (Opcional, si deseas comparar con los resultados del Paso 7)\n",
    "# Esta comparación te dirá si la optimización valió la pena.\n",
    "# print(f\"Mejora en el R²: {r2_tuned - r2:.4f}\")"
   ]
  },
  {
   "cell_type": "code",
   "execution_count": 22,
   "id": "3384fdaa",
   "metadata": {},
   "outputs": [
    {
     "name": "stdout",
     "output_type": "stream",
     "text": [
      "--- 8.2 Resultados y Evaluación Final ---\n",
      "Mejores Hiperparámetros encontrados:\n",
      "{'regressor__max_depth': None, 'regressor__min_samples_split': 5, 'regressor__n_estimators': 100}\n",
      "\n",
      "Métricas de Evaluación con el Modelo Optimizado:\n",
      "  - Error Absoluto Medio (MAE): 2,399.11 $\n",
      "  - Raíz del Error Cuadrático Medio (RMSE): 3,012.46 $\n",
      "  - Coeficiente de Determinación (R²): 0.4732\n",
      "--------------------------------------------------\n"
     ]
    }
   ],
   "source": [
    "# 8.2. Resultados y Evaluación Final\n",
    "print(\"--- 8.2 Resultados y Evaluación Final ---\")\n",
    "\n",
    "# 1. Mostrar los mejores parámetros encontrados\n",
    "print(\"Mejores Hiperparámetros encontrados:\")\n",
    "print(grid_search.best_params_)\n",
    "\n",
    "# 2. Obtener el mejor modelo\n",
    "best_rf_model = grid_search.best_estimator_\n",
    "\n",
    "# 3. Realizar predicciones con el modelo optimizado\n",
    "y_pred_tuned = best_rf_model.predict(X_test)\n",
    "\n",
    "# 4. Calcular métricas de evaluación final\n",
    "mae_tuned = mean_absolute_error(y_test, y_pred_tuned)\n",
    "rmse_tuned = np.sqrt(mean_squared_error(y_test, y_pred_tuned))\n",
    "r2_tuned = r2_score(y_test, y_pred_tuned)\n",
    "\n",
    "print(f\"\\nMétricas de Evaluación con el Modelo Optimizado:\")\n",
    "print(f\"  - Error Absoluto Medio (MAE): {mae_tuned:,.2f} $\")\n",
    "print(f\"  - Raíz del Error Cuadrático Medio (RMSE): {rmse_tuned:,.2f} $\")\n",
    "print(f\"  - Coeficiente de Determinación (R²): {r2_tuned:.4f}\")\n",
    "print(\"-\" * 50)\n"
   ]
  },
  {
   "cell_type": "markdown",
   "id": "1414f961",
   "metadata": {},
   "source": [
    "### 9. Definición del Objetivo de Clasificación"
   ]
  },
  {
   "cell_type": "code",
   "execution_count": 23,
   "id": "0d9ac5e9",
   "metadata": {},
   "outputs": [
    {
     "name": "stdout",
     "output_type": "stream",
     "text": [
      "La mediana del importe (Umbral de Alto Valor) es: 6,702.00 $\n",
      "\n",
      "Conteo de Clases (0: Bajo Valor | 1: Alto Valor):\n",
      "|   venta_alto_valor |   count |\n",
      "|-------------------:|--------:|\n",
      "|                  0 |     172 |\n",
      "|                  1 |     171 |\n",
      "--------------------------------------------------\n",
      "Variable objetivo binaria creada. Listo para el preprocesamiento de clasificación.\n"
     ]
    }
   ],
   "source": [
    "# NOVENO PASO: Definición del Objetivo de Clasificación (Targeting)\n",
    "\n",
    "# 1. Definir la mediana del importe como umbral de Alto/Bajo Valor\n",
    "umbral_importe = data['importe'].median()\n",
    "print(f\"La mediana del importe (Umbral de Alto Valor) es: {umbral_importe:,.2f} $\")\n",
    "\n",
    "# 2. Crear la variable objetivo binaria 'venta_alto_valor' (TARGET_CLASS)\n",
    "# 1 = Alto Valor (Importe > Mediana)\n",
    "# 0 = Bajo Valor (Importe <= Mediana)\n",
    "data['venta_alto_valor'] = (data['importe'] > umbral_importe).astype(int)\n",
    "\n",
    "# 3. Mostrar el balance de clases (es crucial en clasificación)\n",
    "conteo_clases = data['venta_alto_valor'].value_counts()\n",
    "print(\"\\nConteo de Clases (0: Bajo Valor | 1: Alto Valor):\")\n",
    "print(conteo_clases.to_markdown())\n",
    "\n",
    "# 4. Asignación de X y Y para Clasificación\n",
    "TARGET_CLASS = 'venta_alto_valor'\n",
    "\n",
    "# Reutilizamos las características (X) y eliminamos el importe original\n",
    "X_class = data.drop(columns=[TARGET_CLASS, 'importe']) \n",
    "y_class = data[TARGET_CLASS]\n",
    "\n",
    "print(\"-\" * 50)\n",
    "print(\"Variable objetivo binaria creada. Listo para el preprocesamiento de clasificación.\")"
   ]
  },
  {
   "cell_type": "markdown",
   "id": "32d8cd29",
   "metadata": {},
   "source": [
    "### 10. Preprocesamiento y División de Datos (Clasificación)"
   ]
  },
  {
   "cell_type": "code",
   "execution_count": 24,
   "id": "d9d4c967",
   "metadata": {},
   "outputs": [
    {
     "name": "stdout",
     "output_type": "stream",
     "text": [
      "--- 10.1 Reajuste de Características y Columnas ---\n",
      "--- 10.2 Creación y Aplicación del Preprocesador ---\n",
      "Preprocesador (ColumnTransformer) recreado.\n",
      "--- 10.3 División de Datos (Entrenamiento y Prueba) ---\n",
      "Tamaño del conjunto de entrenamiento (X_train_c): (274, 11)\n",
      "Tamaño del conjunto de prueba (X_test_c): (69, 11)\n"
     ]
    }
   ],
   "source": [
    "# DÉCIMO PASO: Preprocesamiento y División de Datos para Clasificación\n",
    "\n",
    "from sklearn.model_selection import train_test_split\n",
    "from sklearn.preprocessing import StandardScaler, OneHotEncoder\n",
    "from sklearn.compose import ColumnTransformer\n",
    "\n",
    "print(\"--- 10.1 Reajuste de Características y Columnas ---\")\n",
    "\n",
    "# Recreamos el DataFrame de características eliminando las mismas columnas del paso de regresión\n",
    "columnas_a_eliminar_ml = [\n",
    "    'id_detalle', 'id_venta', 'id_producto', 'id_cliente', \n",
    "    'fecha_venta', 'fecha_alta_cliente', # Ya extrajimos información temporal\n",
    "    # Note que 'importe' ya fue quitada en el Paso 9 para ser la variable objetivo (Y)\n",
    "    'precio_unitario', 'ingreso_total', 'precio_promedio' # Redundantes\n",
    "]\n",
    "X_class = X_class.drop(columns=columnas_a_eliminar_ml)\n",
    "\n",
    "# 1. Identificar tipos de columnas para el preprocesamiento (Mismas que en el Paso 6)\n",
    "COL_NUMERICAS = X_class.select_dtypes(include=np.number).columns.tolist()\n",
    "COL_CATEGORICAS = X_class.select_dtypes(include='object').columns.tolist()\n",
    "\n",
    "\n",
    "print(\"--- 10.2 Creación y Aplicación del Preprocesador ---\")\n",
    "\n",
    "# Recreamos el Preprocesador (ColumnTransformer) por si se perdió la variable global\n",
    "preprocessor_class = ColumnTransformer(\n",
    "    transformers=[\n",
    "        ('num', StandardScaler(), COL_NUMERICAS),\n",
    "        ('cat', OneHotEncoder(handle_unknown='ignore', sparse_output=False), COL_CATEGORICAS)\n",
    "    ],\n",
    "    remainder='passthrough'\n",
    ")\n",
    "print(\"Preprocesador (ColumnTransformer) recreado.\")\n",
    "\n",
    "\n",
    "print(\"--- 10.3 División de Datos (Entrenamiento y Prueba) ---\")\n",
    "\n",
    "# Dividir los datos en conjuntos de entrenamiento (80%) y prueba (20%)\n",
    "# Usamos stratify=y_class para mantener el balance de clases en ambos conjuntos\n",
    "X_train_c, X_test_c, y_train_c, y_test_c = train_test_split(\n",
    "    X_class, y_class, \n",
    "    test_size=0.2, \n",
    "    random_state=42, \n",
    "    stratify=y_class # Clave para clasificación\n",
    ")\n",
    "\n",
    "print(f\"Tamaño del conjunto de entrenamiento (X_train_c): {X_train_c.shape}\")\n",
    "print(f\"Tamaño del conjunto de prueba (X_test_c): {X_test_c.shape}\")"
   ]
  },
  {
   "cell_type": "markdown",
   "id": "029ee6ff",
   "metadata": {},
   "source": [
    "### 11. Modelado, Entrenamiento y Evaluación (Clasificación)"
   ]
  },
  {
   "cell_type": "code",
   "execution_count": 25,
   "id": "5acea8fe",
   "metadata": {},
   "outputs": [
    {
     "name": "stdout",
     "output_type": "stream",
     "text": [
      "--- 11.1 Creación y Entrenamiento del Pipeline de Clasificación ---\n",
      "Iniciando el entrenamiento del modelo Random Forest Classifier...\n",
      "Entrenamiento completado.\n",
      "--------------------------------------------------\n",
      "--- 11.2 Predicción y Evaluación de Clasificación ---\n",
      "Métricas de Evaluación en el conjunto de Prueba:\n",
      "  - Accuracy: 0.7536\n",
      "  - F1-Score: 0.7385\n",
      "\n",
      "Reporte de Clasificación:\n",
      "              precision    recall  f1-score   support\n",
      "\n",
      "           0       0.74      0.80      0.77        35\n",
      "           1       0.77      0.71      0.74        34\n",
      "\n",
      "    accuracy                           0.75        69\n",
      "   macro avg       0.76      0.75      0.75        69\n",
      "weighted avg       0.76      0.75      0.75        69\n",
      "\n",
      "--------------------------------------------------\n",
      "Generando Matriz de Confusión...\n"
     ]
    },
    {
     "data": {
      "image/png": "[encoded data removed]",
      "text/plain": [
       "<Figure size 800x600 with 2 Axes>"
      ]
     },
     "metadata": {},
     "output_type": "display_data"
    },
    {
     "name": "stdout",
     "output_type": "stream",
     "text": [
      "Análisis de Clasificación Completado.\n"
     ]
    }
   ],
   "source": [
    "# Importar las bibliotecas necesarias para clasificación\n",
    "from sklearn.ensemble import RandomForestClassifier\n",
    "from sklearn.metrics import accuracy_score, f1_score, confusion_matrix, classification_report\n",
    "from sklearn.pipeline import Pipeline\n",
    "import matplotlib.pyplot as plt\n",
    "import seaborn as sns\n",
    "\n",
    "print(\"--- 11.1 Creación y Entrenamiento del Pipeline de Clasificación ---\")\n",
    "\n",
    "# 1. Definir el modelo (Random Forest Classifier)\n",
    "rf_classifier = RandomForestClassifier(\n",
    "    n_estimators=100, \n",
    "    random_state=42, \n",
    "    n_jobs=-1,\n",
    "    class_weight='balanced' # Útil si hay desbalance (aunque aquí es ~50/50)\n",
    ")\n",
    "\n",
    "# 2. Crear el Pipeline: Encadenar el preprocesador y el clasificador\n",
    "pipeline_class = Pipeline(steps=[\n",
    "    ('preprocessor', preprocessor_class),\n",
    "    ('classifier', rf_classifier)\n",
    "])\n",
    "\n",
    "# 3. Entrenar el Pipeline\n",
    "print(\"Iniciando el entrenamiento del modelo Random Forest Classifier...\")\n",
    "pipeline_class.fit(X_train_c, y_train_c)\n",
    "print(\"Entrenamiento completado.\")\n",
    "print(\"-\" * 50)\n",
    "\n",
    "\n",
    "print(\"--- 11.2 Predicción y Evaluación de Clasificación ---\")\n",
    "\n",
    "# 1. Realizar predicciones en el conjunto de prueba\n",
    "y_pred_c = pipeline_class.predict(X_test_c)\n",
    "\n",
    "# 2. Calcular las métricas de clasificación\n",
    "accuracy = accuracy_score(y_test_c, y_pred_c)\n",
    "f1 = f1_score(y_test_c, y_pred_c)\n",
    "reporte = classification_report(y_test_c, y_pred_c)\n",
    "matriz = confusion_matrix(y_test_c, y_pred_c)\n",
    "\n",
    "print(f\"Métricas de Evaluación en el conjunto de Prueba:\")\n",
    "print(f\"  - Accuracy: {accuracy:.4f}\")\n",
    "print(f\"  - F1-Score: {f1:.4f}\")\n",
    "print(\"\\nReporte de Clasificación:\")\n",
    "print(reporte)\n",
    "\n",
    "print(\"-\" * 50)\n",
    "\n",
    "\n",
    "# 3. Visualización de la Matriz de Confusión\n",
    "print(\"Generando Matriz de Confusión...\")\n",
    "plt.figure(figsize=(8, 6))\n",
    "sns.heatmap(\n",
    "    matriz, \n",
    "    annot=True, \n",
    "    fmt='d', \n",
    "    cmap='Blues', \n",
    "    xticklabels=['Bajo Valor (0)', 'Alto Valor (1)'], \n",
    "    yticklabels=['Bajo Valor (0)', 'Alto Valor (1)']\n",
    ")\n",
    "plt.xlabel('Predicción')\n",
    "plt.ylabel('Valor Real')\n",
    "plt.title('Matriz de Confusión (Random Forest Classifier)')\n",
    "plt.show() \n",
    "print(\"Análisis de Clasificación Completado.\")"
   ]
  },
  {
   "cell_type": "markdown",
   "id": "cc25ff66",
   "metadata": {},
   "source": [
    "### 12. Optimización del Clasificador con GridSearchCV"
   ]
  },
  {
   "cell_type": "code",
   "execution_count": 26,
   "id": "072a688e",
   "metadata": {},
   "outputs": [
    {
     "name": "stdout",
     "output_type": "stream",
     "text": [
      "--- 12.1 Definición y Ejecución de GridSearchCV para Clasificación ---\n",
      "Iniciando la búsqueda de la mejor combinación de hiperparámetros...\n",
      "Fitting 5 folds for each of 8 candidates, totalling 40 fits\n",
      "Búsqueda completada.\n",
      "--------------------------------------------------\n"
     ]
    }
   ],
   "source": [
    "from sklearn.model_selection import GridSearchCV\n",
    "\n",
    "print(\"--- 12.1 Definición y Ejecución de GridSearchCV para Clasificación ---\")\n",
    "\n",
    "# 1. Definir la malla de hiperparámetros a probar para el clasificador\n",
    "# Usamos el prefijo del paso del Pipeline ('classifier__')\n",
    "param_grid_class = {\n",
    "    'classifier__n_estimators': [100, 250],      # Número de árboles\n",
    "    'classifier__max_depth': [5, 10],            # Profundidad máxima del árbol\n",
    "    'classifier__min_samples_split': [2, 5],     # Mínimo de muestras para dividir\n",
    "    'classifier__class_weight': ['balanced']     # Mantenemos el peso de clase para robustez\n",
    "}\n",
    "\n",
    "# 2. Configurar GridSearchCV\n",
    "# Scoring: Usamos 'f1' para maximizar la media armónica de precisión y exhaustividad\n",
    "grid_search_class = GridSearchCV(\n",
    "    estimator=pipeline_class, # Usamos el pipeline_class del paso anterior\n",
    "    param_grid=param_grid_class, \n",
    "    cv=5, \n",
    "    scoring='f1', # Métrica clave para clasificación\n",
    "    n_jobs=-1, \n",
    "    verbose=1\n",
    ")\n",
    "\n",
    "# 3. Ejecutar la búsqueda en los datos de entrenamiento\n",
    "print(\"Iniciando la búsqueda de la mejor combinación de hiperparámetros...\")\n",
    "# Utilizamos los sets de entrenamiento para clasificación (X_train_c, y_train_c)\n",
    "grid_search_class.fit(X_train_c, y_train_c)\n",
    "\n",
    "print(\"Búsqueda completada.\")\n",
    "print(\"-\" * 50)"
   ]
  },
  {
   "cell_type": "code",
   "execution_count": 27,
   "id": "b639682f",
   "metadata": {},
   "outputs": [
    {
     "name": "stdout",
     "output_type": "stream",
     "text": [
      "--- 12.2 Resultados y Evaluación Final ---\n",
      "Mejores Hiperparámetros encontrados:\n",
      "{'classifier__class_weight': 'balanced', 'classifier__max_depth': 5, 'classifier__min_samples_split': 2, 'classifier__n_estimators': 100}\n",
      "\n",
      "Métricas de Evaluación con el Modelo Optimizado:\n",
      "  - Accuracy: 0.7391\n",
      "  - F1-Score: 0.7500\n",
      "\n",
      "Reporte de Clasificación (Optimizado):\n",
      "              precision    recall  f1-score   support\n",
      "\n",
      "           0       0.77      0.69      0.73        35\n",
      "           1       0.71      0.79      0.75        34\n",
      "\n",
      "    accuracy                           0.74        69\n",
      "   macro avg       0.74      0.74      0.74        69\n",
      "weighted avg       0.74      0.74      0.74        69\n",
      "\n",
      "--------------------------------------------------\n",
      "¡Optimización del modelo de clasificación completada!\n"
     ]
    }
   ],
   "source": [
    "### 12.2. Resultados y Evaluación Final del Modelo Optimizado\n",
    "from sklearn.metrics import accuracy_score, f1_score, confusion_matrix, classification_report\n",
    "\n",
    "print(\"--- 12.2 Resultados y Evaluación Final ---\")\n",
    "\n",
    "# 1. Mostrar los mejores parámetros encontrados\n",
    "print(\"Mejores Hiperparámetros encontrados:\")\n",
    "print(grid_search_class.best_params_)\n",
    "\n",
    "# 2. Obtener el mejor modelo\n",
    "best_rf_classifier = grid_search_class.best_estimator_\n",
    "\n",
    "# 3. Realizar predicciones con el modelo optimizado\n",
    "y_pred_tuned_c = best_rf_classifier.predict(X_test_c)\n",
    "\n",
    "# 4. Calcular métricas de evaluación final\n",
    "accuracy_tuned = accuracy_score(y_test_c, y_pred_tuned_c)\n",
    "f1_tuned = f1_score(y_test_c, y_pred_tuned_c)\n",
    "reporte_tuned = classification_report(y_test_c, y_pred_tuned_c)\n",
    "\n",
    "print(f\"\\nMétricas de Evaluación con el Modelo Optimizado:\")\n",
    "print(f\"  - Accuracy: {accuracy_tuned:.4f}\")\n",
    "print(f\"  - F1-Score: {f1_tuned:.4f}\")\n",
    "print(\"\\nReporte de Clasificación (Optimizado):\")\n",
    "print(reporte_tuned)\n",
    "\n",
    "print(\"-\" * 50)\n",
    "print(\"¡Optimización del modelo de clasificación completada!\")"
   ]
  },
  {
   "cell_type": "markdown",
   "id": "fa388d5c",
   "metadata": {},
   "source": [
    "### 13.  Preparación de Datos para K-Means (Segmentación RFM)"
   ]
  },
  {
   "cell_type": "code",
   "execution_count": 28,
   "id": "4b38c070",
   "metadata": {},
   "outputs": [
    {
     "name": "stdout",
     "output_type": "stream",
     "text": [
      "--- 13.1 Ingeniería de Características RFM ---\n",
      "DataFrame RFM creado:\n",
      "|   id_cliente |   Recencia |   Frecuencia |   Monetario |\n",
      "|-------------:|-----------:|-------------:|------------:|\n",
      "|            1 |         95 |            2 |       72448 |\n",
      "|            2 |         78 |            1 |       22150 |\n",
      "|            3 |        134 |            1 |       33310 |\n",
      "|            5 |          4 |            4 |      132158 |\n",
      "|            6 |        137 |            2 |       48878 |\n",
      "--------------------------------------------------\n",
      "--- 13.2 Escalado de Datos para K-Means ---\n",
      "Datos RFM escalados. Primeras 2 filas:\n",
      "|   Recencia |   Frecuencia |   Monetario |\n",
      "|-----------:|-------------:|------------:|\n",
      "|   0.36352  |     0.222531 |    1.38327  |\n",
      "|   0.039284 |    -0.842438 |   -0.733127 |\n"
     ]
    }
   ],
   "source": [
    "from datetime import datetime\n",
    "import pandas as pd # Aseguramos que Pandas esté cargado\n",
    "\n",
    "print(\"--- 13.1 Ingeniería de Características RFM ---\")\n",
    "\n",
    "# 1. Definir la fecha de referencia (día después de la última venta)\n",
    "fecha_referencia = data['fecha_venta'].max() + pd.Timedelta(days=1)\n",
    "\n",
    "# 2. Calcular las métricas RFM por 'id_cliente'\n",
    "df_rfm = data.groupby('id_cliente').agg(\n",
    "    # Recencia (R): Días desde la última compra\n",
    "    Recencia=('fecha_venta', lambda x: (fecha_referencia - x.max()).days),\n",
    "    # Frecuencia (F): Número total de transacciones (ventas únicas)\n",
    "    Frecuencia=('id_venta', 'nunique'),\n",
    "    # Valor Monetario (M): Suma total del importe gastado\n",
    "    Monetario=('importe', 'sum')\n",
    ").reset_index()\n",
    "\n",
    "print(\"DataFrame RFM creado:\")\n",
    "print(df_rfm.head().to_markdown(index=False))\n",
    "print(\"-\" * 50)\n",
    "\n",
    "\n",
    "print(\"--- 13.2 Escalado de Datos para K-Means ---\")\n",
    "from sklearn.preprocessing import StandardScaler\n",
    "\n",
    "# 3. Eliminar la columna 'id_cliente' y escalar los datos\n",
    "X_rfm = df_rfm[['Recencia', 'Frecuencia', 'Monetario']]\n",
    "\n",
    "# El escalado es OBLIGATORIO para K-Means, ya que se basa en la distancia euclidiana\n",
    "scaler = StandardScaler()\n",
    "X_rfm_scaled = scaler.fit_transform(X_rfm)\n",
    "\n",
    "# Convertir de nuevo a DataFrame para mejor manejo\n",
    "df_rfm_scaled = pd.DataFrame(X_rfm_scaled, columns=X_rfm.columns)\n",
    "\n",
    "print(\"Datos RFM escalados. Primeras 2 filas:\")\n",
    "print(df_rfm_scaled.head(2).to_markdown(index=False))"
   ]
  },
  {
   "cell_type": "markdown",
   "id": "adcccb4b",
   "metadata": {},
   "source": [
    "### 14. Determinación del Número Óptimo de Clústeres (Método del Codo)"
   ]
  },
  {
   "cell_type": "code",
   "execution_count": 29,
   "id": "13c7111c",
   "metadata": {},
   "outputs": [
    {
     "name": "stdout",
     "output_type": "stream",
     "text": [
      "--- 14.1 Ejecución de K-Means para el Método del Codo ---\n",
      "Cálculo de Inercia completado.\n",
      "--------------------------------------------------\n",
      "--- 14.2 Visualización del Método del Codo ---\n"
     ]
    },
    {
     "data": {
      "application/vnd.plotly.v1+json": {
       "config": {
        "plotlyServerURL": "https://plot.ly"
       },
       "data": [
        {
         "hovertemplate": "k=%{x}<br>Inercia=%{y}<extra></extra>",
         "legendgroup": "",
         "line": {
          "color": "#636efa",
          "dash": "solid"
         },
         "marker": {
          "symbol": "circle"
         },
         "mode": "lines+markers",
         "name": "",
         "orientation": "v",
         "showlegend": false,
         "type": "scatter",
         "x": {
          "bdata": "AQIDBAUGBwgJCg==",
          "dtype": "i1"
         },
         "xaxis": "x",
         "y": {
          "bdata": "AQAAAAAgaUB8tsTNnGVdQIrOd82cwFJAQ22AMvB0TkD6E3Y634ZLQKDVeaMR80VA7KLOo6lqQkD+MoWGLEk9QNnhXgpi2zpARzgk2tU8OUA=",
          "dtype": "f8"
         },
         "yaxis": "y"
        }
       ],
       "layout": {
        "legend": {
         "tracegroupgap": 0
        },
        "template": {
         "data": {
          "bar": [
           {
            "error_x": {
             "color": "#2a3f5f"
            },
            "error_y": {
             "color": "#2a3f5f"
            },
            "marker": {
             "line": {
              "color": "white",
              "width": 0.5
             },
             "pattern": {
              "fillmode": "overlay",
              "size": 10,
              "solidity": 0.2
             }
            },
            "type": "bar"
           }
          ],
          "barpolar": [
           {
            "marker": {
             "line": {
              "color": "white",
              "width": 0.5
             },
             "pattern": {
              "fillmode": "overlay",
              "size": 10,
              "solidity": 0.2
             }
            },
            "type": "barpolar"
           }
          ],
          "carpet": [
           {
            "aaxis": {
             "endlinecolor": "#2a3f5f",
             "gridcolor": "#C8D4E3",
             "linecolor": "#C8D4E3",
             "minorgridcolor": "#C8D4E3",
             "startlinecolor": "#2a3f5f"
            },
            "baxis": {
             "endlinecolor": "#2a3f5f",
             "gridcolor": "#C8D4E3",
             "linecolor": "#C8D4E3",
             "minorgridcolor": "#C8D4E3",
             "startlinecolor": "#2a3f5f"
            },
            "type": "carpet"
           }
          ],
          "choropleth": [
           {
            "colorbar": {
             "outlinewidth": 0,
             "ticks": ""
            },
            "type": "choropleth"
           }
          ],
          "contour": [
           {
            "colorbar": {
             "outlinewidth": 0,
             "ticks": ""
            },
            "colorscale": [
             [
              0,
              "#0d0887"
             ],
             [
              0.1111111111111111,
              "#46039f"
             ],
             [
              0.2222222222222222,
              "#7201a8"
             ],
             [
              0.3333333333333333,
              "#9c179e"
             ],
             [
              0.4444444444444444,
              "#bd3786"
             ],
             [
              0.5555555555555556,
              "#d8576b"
             ],
             [
              0.6666666666666666,
              "#ed7953"
             ],
             [
              0.7777777777777778,
              "#fb9f3a"
             ],
             [
              0.8888888888888888,
              "#fdca26"
             ],
             [
              1,
              "#f0f921"
             ]
            ],
            "type": "contour"
           }
          ],
          "contourcarpet": [
           {
            "colorbar": {
             "outlinewidth": 0,
             "ticks": ""
            },
            "type": "contourcarpet"
           }
          ],
          "heatmap": [
           {
            "colorbar": {
             "outlinewidth": 0,
             "ticks": ""
            },
            "colorscale": [
             [
              0,
              "#0d0887"
             ],
             [
              0.1111111111111111,
              "#46039f"
             ],
             [
              0.2222222222222222,
              "#7201a8"
             ],
             [
              0.3333333333333333,
              "#9c179e"
             ],
             [
              0.4444444444444444,
              "#bd3786"
             ],
             [
              0.5555555555555556,
              "#d8576b"
             ],
             [
              0.6666666666666666,
              "#ed7953"
             ],
             [
              0.7777777777777778,
              "#fb9f3a"
             ],
             [
              0.8888888888888888,
              "#fdca26"
             ],
             [
              1,
              "#f0f921"
             ]
            ],
            "type": "heatmap"
           }
          ],
          "histogram": [
           {
            "marker": {
             "pattern": {
              "fillmode": "overlay",
              "size": 10,
              "solidity": 0.2
             }
            },
            "type": "histogram"
           }
          ],
          "histogram2d": [
           {
            "colorbar": {
             "outlinewidth": 0,
             "ticks": ""
            },
            "colorscale": [
             [
              0,
              "#0d0887"
             ],
             [
              0.1111111111111111,
              "#46039f"
             ],
             [
              0.2222222222222222,
              "#7201a8"
             ],
             [
              0.3333333333333333,
              "#9c179e"
             ],
             [
              0.4444444444444444,
              "#bd3786"
             ],
             [
              0.5555555555555556,
              "#d8576b"
             ],
             [
              0.6666666666666666,
              "#ed7953"
             ],
             [
              0.7777777777777778,
              "#fb9f3a"
             ],
             [
              0.8888888888888888,
              "#fdca26"
             ],
             [
              1,
              "#f0f921"
             ]
            ],
            "type": "histogram2d"
           }
          ],
          "histogram2dcontour": [
           {
            "colorbar": {
             "outlinewidth": 0,
             "ticks": ""
            },
            "colorscale": [
             [
              0,
              "#0d0887"
             ],
             [
              0.1111111111111111,
              "#46039f"
             ],
             [
              0.2222222222222222,
              "#7201a8"
             ],
             [
              0.3333333333333333,
              "#9c179e"
             ],
             [
              0.4444444444444444,
              "#bd3786"
             ],
             [
              0.5555555555555556,
              "#d8576b"
             ],
             [
              0.6666666666666666,
              "#ed7953"
             ],
             [
              0.7777777777777778,
              "#fb9f3a"
             ],
             [
              0.8888888888888888,
              "#fdca26"
             ],
             [
              1,
              "#f0f921"
             ]
            ],
            "type": "histogram2dcontour"
           }
          ],
          "mesh3d": [
           {
            "colorbar": {
             "outlinewidth": 0,
             "ticks": ""
            },
            "type": "mesh3d"
           }
          ],
          "parcoords": [
           {
            "line": {
             "colorbar": {
              "outlinewidth": 0,
              "ticks": ""
             }
            },
            "type": "parcoords"
           }
          ],
          "pie": [
           {
            "automargin": true,
            "type": "pie"
           }
          ],
          "scatter": [
           {
            "fillpattern": {
             "fillmode": "overlay",
             "size": 10,
             "solidity": 0.2
            },
            "type": "scatter"
           }
          ],
          "scatter3d": [
           {
            "line": {
             "colorbar": {
              "outlinewidth": 0,
              "ticks": ""
             }
            },
            "marker": {
             "colorbar": {
              "outlinewidth": 0,
              "ticks": ""
             }
            },
            "type": "scatter3d"
           }
          ],
          "scattercarpet": [
           {
            "marker": {
             "colorbar": {
              "outlinewidth": 0,
              "ticks": ""
             }
            },
            "type": "scattercarpet"
           }
          ],
          "scattergeo": [
           {
            "marker": {
             "colorbar": {
              "outlinewidth": 0,
              "ticks": ""
             }
            },
            "type": "scattergeo"
           }
          ],
          "scattergl": [
           {
            "marker": {
             "colorbar": {
              "outlinewidth": 0,
              "ticks": ""
             }
            },
            "type": "scattergl"
           }
          ],
          "scattermap": [
           {
            "marker": {
             "colorbar": {
              "outlinewidth": 0,
              "ticks": ""
             }
            },
            "type": "scattermap"
           }
          ],
          "scattermapbox": [
           {
            "marker": {
             "colorbar": {
              "outlinewidth": 0,
              "ticks": ""
             }
            },
            "type": "scattermapbox"
           }
          ],
          "scatterpolar": [
           {
            "marker": {
             "colorbar": {
              "outlinewidth": 0,
              "ticks": ""
             }
            },
            "type": "scatterpolar"
           }
          ],
          "scatterpolargl": [
           {
            "marker": {
             "colorbar": {
              "outlinewidth": 0,
              "ticks": ""
             }
            },
            "type": "scatterpolargl"
           }
          ],
          "scatterternary": [
           {
            "marker": {
             "colorbar": {
              "outlinewidth": 0,
              "ticks": ""
             }
            },
            "type": "scatterternary"
           }
          ],
          "surface": [
           {
            "colorbar": {
             "outlinewidth": 0,
             "ticks": ""
            },
            "colorscale": [
             [
              0,
              "#0d0887"
             ],
             [
              0.1111111111111111,
              "#46039f"
             ],
             [
              0.2222222222222222,
              "#7201a8"
             ],
             [
              0.3333333333333333,
              "#9c179e"
             ],
             [
              0.4444444444444444,
              "#bd3786"
             ],
             [
              0.5555555555555556,
              "#d8576b"
             ],
             [
              0.6666666666666666,
              "#ed7953"
             ],
             [
              0.7777777777777778,
              "#fb9f3a"
             ],
             [
              0.8888888888888888,
              "#fdca26"
             ],
             [
              1,
              "#f0f921"
             ]
            ],
            "type": "surface"
           }
          ],
          "table": [
           {
            "cells": {
             "fill": {
              "color": "#EBF0F8"
             },
             "line": {
              "color": "white"
             }
            },
            "header": {
             "fill": {
              "color": "#C8D4E3"
             },
             "line": {
              "color": "white"
             }
            },
            "type": "table"
           }
          ]
         },
         "layout": {
          "annotationdefaults": {
           "arrowcolor": "#2a3f5f",
           "arrowhead": 0,
           "arrowwidth": 1
          },
          "autotypenumbers": "strict",
          "coloraxis": {
           "colorbar": {
            "outlinewidth": 0,
            "ticks": ""
           }
          },
          "colorscale": {
           "diverging": [
            [
             0,
             "#8e0152"
            ],
            [
             0.1,
             "#c51b7d"
            ],
            [
             0.2,
             "#de77ae"
            ],
            [
             0.3,
             "#f1b6da"
            ],
            [
             0.4,
             "#fde0ef"
            ],
            [
             0.5,
             "#f7f7f7"
            ],
            [
             0.6,
             "#e6f5d0"
            ],
            [
             0.7,
             "#b8e186"
            ],
            [
             0.8,
             "#7fbc41"
            ],
            [
             0.9,
             "#4d9221"
            ],
            [
             1,
             "#276419"
            ]
           ],
           "sequential": [
            [
             0,
             "#0d0887"
            ],
            [
             0.1111111111111111,
             "#46039f"
            ],
            [
             0.2222222222222222,
             "#7201a8"
            ],
            [
             0.3333333333333333,
             "#9c179e"
            ],
            [
             0.4444444444444444,
             "#bd3786"
            ],
            [
             0.5555555555555556,
             "#d8576b"
            ],
            [
             0.6666666666666666,
             "#ed7953"
            ],
            [
             0.7777777777777778,
             "#fb9f3a"
            ],
            [
             0.8888888888888888,
             "#fdca26"
            ],
            [
             1,
             "#f0f921"
            ]
           ],
           "sequentialminus": [
            [
             0,
             "#0d0887"
            ],
            [
             0.1111111111111111,
             "#46039f"
            ],
            [
             0.2222222222222222,
             "#7201a8"
            ],
            [
             0.3333333333333333,
             "#9c179e"
            ],
            [
             0.4444444444444444,
             "#bd3786"
            ],
            [
             0.5555555555555556,
             "#d8576b"
            ],
            [
             0.6666666666666666,
             "#ed7953"
            ],
            [
             0.7777777777777778,
             "#fb9f3a"
            ],
            [
             0.8888888888888888,
             "#fdca26"
            ],
            [
             1,
             "#f0f921"
            ]
           ]
          },
          "colorway": [
           "#636efa",
           "#EF553B",
           "#00cc96",
           "#ab63fa",
           "#FFA15A",
           "#19d3f3",
           "#FF6692",
           "#B6E880",
           "#FF97FF",
           "#FECB52"
          ],
          "font": {
           "color": "#2a3f5f"
          },
          "geo": {
           "bgcolor": "white",
           "lakecolor": "white",
           "landcolor": "white",
           "showlakes": true,
           "showland": true,
           "subunitcolor": "#C8D4E3"
          },
          "hoverlabel": {
           "align": "left"
          },
          "hovermode": "closest",
          "mapbox": {
           "style": "light"
          },
          "paper_bgcolor": "white",
          "plot_bgcolor": "white",
          "polar": {
           "angularaxis": {
            "gridcolor": "#EBF0F8",
            "linecolor": "#EBF0F8",
            "ticks": ""
           },
           "bgcolor": "white",
           "radialaxis": {
            "gridcolor": "#EBF0F8",
            "linecolor": "#EBF0F8",
            "ticks": ""
           }
          },
          "scene": {
           "xaxis": {
            "backgroundcolor": "white",
            "gridcolor": "#DFE8F3",
            "gridwidth": 2,
            "linecolor": "#EBF0F8",
            "showbackground": true,
            "ticks": "",
            "zerolinecolor": "#EBF0F8"
           },
           "yaxis": {
            "backgroundcolor": "white",
            "gridcolor": "#DFE8F3",
            "gridwidth": 2,
            "linecolor": "#EBF0F8",
            "showbackground": true,
            "ticks": "",
            "zerolinecolor": "#EBF0F8"
           },
           "zaxis": {
            "backgroundcolor": "white",
            "gridcolor": "#DFE8F3",
            "gridwidth": 2,
            "linecolor": "#EBF0F8",
            "showbackground": true,
            "ticks": "",
            "zerolinecolor": "#EBF0F8"
           }
          },
          "shapedefaults": {
           "line": {
            "color": "#2a3f5f"
           }
          },
          "ternary": {
           "aaxis": {
            "gridcolor": "#DFE8F3",
            "linecolor": "#A2B1C6",
            "ticks": ""
           },
           "baxis": {
            "gridcolor": "#DFE8F3",
            "linecolor": "#A2B1C6",
            "ticks": ""
           },
           "bgcolor": "white",
           "caxis": {
            "gridcolor": "#DFE8F3",
            "linecolor": "#A2B1C6",
            "ticks": ""
           }
          },
          "title": {
           "x": 0.05
          },
          "xaxis": {
           "automargin": true,
           "gridcolor": "#EBF0F8",
           "linecolor": "#EBF0F8",
           "ticks": "",
           "title": {
            "standoff": 15
           },
           "zerolinecolor": "#EBF0F8",
           "zerolinewidth": 2
          },
          "yaxis": {
           "automargin": true,
           "gridcolor": "#EBF0F8",
           "linecolor": "#EBF0F8",
           "ticks": "",
           "title": {
            "standoff": 15
           },
           "zerolinecolor": "#EBF0F8",
           "zerolinewidth": 2
          }
         }
        },
        "title": {
         "text": "Método del Codo para Encontrar el K Óptimo"
        },
        "xaxis": {
         "anchor": "y",
         "domain": [
          0,
          1
         ],
         "title": {
          "text": "Número de Clústeres (K)"
         }
        },
        "yaxis": {
         "anchor": "x",
         "domain": [
          0,
          1
         ],
         "title": {
          "text": "Inercia (Suma de Distancias Cuadradas)"
         }
        }
       }
      }
     },
     "metadata": {},
     "output_type": "display_data"
    },
    {
     "name": "stdout",
     "output_type": "stream",
     "text": [
      "Observa el gráfico para identificar el punto de inflexión. Sugerencia común: 3 o 4 clústeres.\n"
     ]
    }
   ],
   "source": [
    "from sklearn.cluster import KMeans\n",
    "import matplotlib.pyplot as plt\n",
    "import plotly.express as px\n",
    "\n",
    "print(\"--- 14.1 Ejecución de K-Means para el Método del Codo ---\")\n",
    "\n",
    "inercia = []\n",
    "rango_k = range(1, 11) # Probaremos de 1 a 10 clústeres\n",
    "\n",
    "for k in rango_k:\n",
    "    # n_init='auto' es la configuración predeterminada en versiones recientes de scikit-learn\n",
    "    kmeans = KMeans(n_clusters=k, random_state=42, n_init='auto') \n",
    "    kmeans.fit(X_rfm_scaled)\n",
    "    inercia.append(kmeans.inertia_) # 'inertia_' es la suma de los cuadrados de las distancias\n",
    "\n",
    "print(\"Cálculo de Inercia completado.\")\n",
    "print(\"-\" * 50)\n",
    "\n",
    "\n",
    "print(\"--- 14.2 Visualización del Método del Codo ---\")\n",
    "\n",
    "df_codo = pd.DataFrame({'k': rango_k, 'Inercia': inercia})\n",
    "\n",
    "# Visualización con Plotly\n",
    "fig_codo = px.line(\n",
    "    df_codo, \n",
    "    x='k', \n",
    "    y='Inercia', \n",
    "    title='Método del Codo para Encontrar el K Óptimo',\n",
    "    markers=True,\n",
    "    template='plotly_white'\n",
    ").update_layout(\n",
    "    xaxis_title=\"Número de Clústeres (K)\",\n",
    "    yaxis_title=\"Inercia (Suma de Distancias Cuadradas)\"\n",
    ")\n",
    "fig_codo.show()\n",
    "\n",
    "# Interpretación: Debes elegir el valor de K donde la curva comienza a aplanarse.\n",
    "print(\"Observa el gráfico para identificar el punto de inflexión. Sugerencia común: 3 o 4 clústeres.\")\n",
    "# **Nota**: Asumiremos K=4 para el siguiente paso, a menos que el gráfico sugiera otra cosa."
   ]
  },
  {
   "cell_type": "markdown",
   "id": "b6730073",
   "metadata": {},
   "source": [
    "### 15. Aplicación de K-Means y Análisis de Segmentos\n",
    "Se ha elegido K=4 (o el valor que te indique el codo), aplicaremos K-Means y analizaremos las características de cada clúster."
   ]
  },
  {
   "cell_type": "code",
   "execution_count": 30,
   "id": "dbba7580",
   "metadata": {},
   "outputs": [
    {
     "name": "stdout",
     "output_type": "stream",
     "text": [
      "--- 15.1 Aplicación de K-Means con K=4 ---\n",
      "Asignación de clústeres completada. Clústeres encontrados: 4\n",
      "--------------------------------------------------\n",
      "--- 15.2 Interpretación de los Clústeres ---\n",
      "Análisis de las Características Promedio por Segmento (Sin escalar):\n",
      "|   Cluster |   Recencia |   Frecuencia |   Monetario |\n",
      "|----------:|-----------:|-------------:|------------:|\n",
      "|      2.00 |      38.29 |         4.00 |    82115.14 |\n",
      "|      0.00 |     131.00 |         1.73 |    49756.00 |\n",
      "|      1.00 |      26.52 |         1.80 |    41789.88 |\n",
      "|      3.00 |     113.17 |         1.17 |    20189.50 |\n"
     ]
    },
    {
     "data": {
      "application/vnd.plotly.v1+json": {
       "config": {
        "plotlyServerURL": "https://plot.ly"
       },
       "data": [
        {
         "hovertemplate": "Recencia=%{x}<br>Frecuencia=%{y}<br>Monetario=%{z}<br>Cluster=%{marker.color}<extra></extra>",
         "legendgroup": "",
         "marker": {
          "color": {
           "bdata": "AAAAAAMAAAADAAAAAgAAAAAAAAAAAAAAAAAAAAEAAAABAAAAAwAAAAEAAAABAAAAAwAAAAMAAAADAAAAAQAAAAMAAAADAAAAAwAAAAEAAAAAAAAAAQAAAAMAAAADAAAAAQAAAAAAAAAAAAAAAwAAAAEAAAACAAAAAQAAAAAAAAACAAAAAwAAAAMAAAAAAAAAAgAAAAMAAAACAAAAAwAAAAEAAAACAAAAAQAAAAMAAAABAAAAAQAAAAEAAAAAAAAAAwAAAAEAAAACAAAAAQAAAAEAAAABAAAAAQAAAAMAAAADAAAAAAAAAAEAAAADAAAAAwAAAAEAAAABAAAAAwAAAAEAAAADAAAAAQAAAA==",
           "dtype": "i4"
          },
          "coloraxis": "coloraxis",
          "size": 4,
          "symbol": "circle"
         },
         "mode": "markers",
         "name": "",
         "scene": "scene",
         "showlegend": false,
         "type": "scatter3d",
         "x": {
          "bdata": "XwBOAIYABACJAKwAYAAKAD0APAAnAA8ANwCjAFwAJgBQAIEAhAAKAH0AAQCiAHEAPACXAKsAewAIAA0AGwBzACwAqQBgAIoAaABsACAAYAAPAAIAFwByAB4ACgAZAGQASAAVAEUALQAsABIAEgBhAH8AjQAMAIUAmAAgACkAdgABAHEAOwA=",
          "dtype": "i2"
         },
         "y": {
          "bdata": "AgEBBAIBAgECAQEDAQEBAgIBAQICAgEBAQEBAQEEAgIEAQICBAIDAQIFAgICAgICAQIEAgEBAgEBAgIBAQICAQEBAw==",
          "dtype": "i1"
         },
         "z": {
          "bdata": "AAAAAACw8UAAAAAAgKHVQAAAAADAQ+BAAAAAAPAhAEEAAAAAwN3nQAAAAADgB+5AAAAAAABu5EAAAAAAAEHZQAAAAADALehAAAAAAADCyUAAAAAAQNXiQAAAAAAgbeZAAAAAAEAt20AAAAAAAEi+QAAAAAAAENRAAAAAAGDC5UAAAAAAwBLbQAAAAAAAlNNAAAAAAEBc00AAAAAAYPrzQAAAAACAZ95AAAAAAMBs2kAAAAAAAObNQAAAAAAAu7BAAAAAAGA65UAAAAAAgEjqQAAAAADg+OtAAAAAAAAvz0AAAAAAIEjkQAAAAABAou9AAAAAAICZ70AAAAAAgOzjQAAAAACgc+1AAAAAAABqz0AAAAAAAN3RQAAAAADAyNlAAAAAAJBp8UAAAAAAACTDQAAAAACgGfZAAAAAAIDF1EAAAAAAgBvcQAAAAADQJPZAAAAAAAD100AAAAAAwFPVQAAAAABwl/BAAAAAAMCo0kAAAAAAQKPjQAAAAAAARuZAAAAAAAA14UAAAAAAgGXvQAAAAAAgve9AAAAAAEA13UAAAAAAAJfWQAAAAAAAIdhAAAAAAMB+70AAAAAAAB6+QAAAAADAJNBAAAAAAHB/8EAAAAAAwMLgQAAAAADg4+FAAAAAAED42UAAAAAAQAXsQAAAAABg3OdAAAAAAAB24UAAAAAAwIPbQAAAAAAAOMVAAAAAAMAu3UA=",
          "dtype": "f8"
         }
        }
       ],
       "layout": {
        "coloraxis": {
         "colorbar": {
          "title": {
           "text": "Cluster"
          }
         },
         "colorscale": [
          [
           0,
           "#0d0887"
          ],
          [
           0.1111111111111111,
           "#46039f"
          ],
          [
           0.2222222222222222,
           "#7201a8"
          ],
          [
           0.3333333333333333,
           "#9c179e"
          ],
          [
           0.4444444444444444,
           "#bd3786"
          ],
          [
           0.5555555555555556,
           "#d8576b"
          ],
          [
           0.6666666666666666,
           "#ed7953"
          ],
          [
           0.7777777777777778,
           "#fb9f3a"
          ],
          [
           0.8888888888888888,
           "#fdca26"
          ],
          [
           1,
           "#f0f921"
          ]
         ]
        },
        "legend": {
         "tracegroupgap": 0
        },
        "scene": {
         "domain": {
          "x": [
           0,
           1
          ],
          "y": [
           0,
           1
          ]
         },
         "xaxis": {
          "title": {
           "text": "Recencia"
          }
         },
         "yaxis": {
          "title": {
           "text": "Frecuencia"
          }
         },
         "zaxis": {
          "title": {
           "text": "Monetario"
          }
         }
        },
        "template": {
         "data": {
          "bar": [
           {
            "error_x": {
             "color": "#2a3f5f"
            },
            "error_y": {
             "color": "#2a3f5f"
            },
            "marker": {
             "line": {
              "color": "white",
              "width": 0.5
             },
             "pattern": {
              "fillmode": "overlay",
              "size": 10,
              "solidity": 0.2
             }
            },
            "type": "bar"
           }
          ],
          "barpolar": [
           {
            "marker": {
             "line": {
              "color": "white",
              "width": 0.5
             },
             "pattern": {
              "fillmode": "overlay",
              "size": 10,
              "solidity": 0.2
             }
            },
            "type": "barpolar"
           }
          ],
          "carpet": [
           {
            "aaxis": {
             "endlinecolor": "#2a3f5f",
             "gridcolor": "#C8D4E3",
             "linecolor": "#C8D4E3",
             "minorgridcolor": "#C8D4E3",
             "startlinecolor": "#2a3f5f"
            },
            "baxis": {
             "endlinecolor": "#2a3f5f",
             "gridcolor": "#C8D4E3",
             "linecolor": "#C8D4E3",
             "minorgridcolor": "#C8D4E3",
             "startlinecolor": "#2a3f5f"
            },
            "type": "carpet"
           }
          ],
          "choropleth": [
           {
            "colorbar": {
             "outlinewidth": 0,
             "ticks": ""
            },
            "type": "choropleth"
           }
          ],
          "contour": [
           {
            "colorbar": {
             "outlinewidth": 0,
             "ticks": ""
            },
            "colorscale": [
             [
              0,
              "#0d0887"
             ],
             [
              0.1111111111111111,
              "#46039f"
             ],
             [
              0.2222222222222222,
              "#7201a8"
             ],
             [
              0.3333333333333333,
              "#9c179e"
             ],
             [
              0.4444444444444444,
              "#bd3786"
             ],
             [
              0.5555555555555556,
              "#d8576b"
             ],
             [
              0.6666666666666666,
              "#ed7953"
             ],
             [
              0.7777777777777778,
              "#fb9f3a"
             ],
             [
              0.8888888888888888,
              "#fdca26"
             ],
             [
              1,
              "#f0f921"
             ]
            ],
            "type": "contour"
           }
          ],
          "contourcarpet": [
           {
            "colorbar": {
             "outlinewidth": 0,
             "ticks": ""
            },
            "type": "contourcarpet"
           }
          ],
          "heatmap": [
           {
            "colorbar": {
             "outlinewidth": 0,
             "ticks": ""
            },
            "colorscale": [
             [
              0,
              "#0d0887"
             ],
             [
              0.1111111111111111,
              "#46039f"
             ],
             [
              0.2222222222222222,
              "#7201a8"
             ],
             [
              0.3333333333333333,
              "#9c179e"
             ],
             [
              0.4444444444444444,
              "#bd3786"
             ],
             [
              0.5555555555555556,
              "#d8576b"
             ],
             [
              0.6666666666666666,
              "#ed7953"
             ],
             [
              0.7777777777777778,
              "#fb9f3a"
             ],
             [
              0.8888888888888888,
              "#fdca26"
             ],
             [
              1,
              "#f0f921"
             ]
            ],
            "type": "heatmap"
           }
          ],
          "histogram": [
           {
            "marker": {
             "pattern": {
              "fillmode": "overlay",
              "size": 10,
              "solidity": 0.2
             }
            },
            "type": "histogram"
           }
          ],
          "histogram2d": [
           {
            "colorbar": {
             "outlinewidth": 0,
             "ticks": ""
            },
            "colorscale": [
             [
              0,
              "#0d0887"
             ],
             [
              0.1111111111111111,
              "#46039f"
             ],
             [
              0.2222222222222222,
              "#7201a8"
             ],
             [
              0.3333333333333333,
              "#9c179e"
             ],
             [
              0.4444444444444444,
              "#bd3786"
             ],
             [
              0.5555555555555556,
              "#d8576b"
             ],
             [
              0.6666666666666666,
              "#ed7953"
             ],
             [
              0.7777777777777778,
              "#fb9f3a"
             ],
             [
              0.8888888888888888,
              "#fdca26"
             ],
             [
              1,
              "#f0f921"
             ]
            ],
            "type": "histogram2d"
           }
          ],
          "histogram2dcontour": [
           {
            "colorbar": {
             "outlinewidth": 0,
             "ticks": ""
            },
            "colorscale": [
             [
              0,
              "#0d0887"
             ],
             [
              0.1111111111111111,
              "#46039f"
             ],
             [
              0.2222222222222222,
              "#7201a8"
             ],
             [
              0.3333333333333333,
              "#9c179e"
             ],
             [
              0.4444444444444444,
              "#bd3786"
             ],
             [
              0.5555555555555556,
              "#d8576b"
             ],
             [
              0.6666666666666666,
              "#ed7953"
             ],
             [
              0.7777777777777778,
              "#fb9f3a"
             ],
             [
              0.8888888888888888,
              "#fdca26"
             ],
             [
              1,
              "#f0f921"
             ]
            ],
            "type": "histogram2dcontour"
           }
          ],
          "mesh3d": [
           {
            "colorbar": {
             "outlinewidth": 0,
             "ticks": ""
            },
            "type": "mesh3d"
           }
          ],
          "parcoords": [
           {
            "line": {
             "colorbar": {
              "outlinewidth": 0,
              "ticks": ""
             }
            },
            "type": "parcoords"
           }
          ],
          "pie": [
           {
            "automargin": true,
            "type": "pie"
           }
          ],
          "scatter": [
           {
            "fillpattern": {
             "fillmode": "overlay",
             "size": 10,
             "solidity": 0.2
            },
            "type": "scatter"
           }
          ],
          "scatter3d": [
           {
            "line": {
             "colorbar": {
              "outlinewidth": 0,
              "ticks": ""
             }
            },
            "marker": {
             "colorbar": {
              "outlinewidth": 0,
              "ticks": ""
             }
            },
            "type": "scatter3d"
           }
          ],
          "scattercarpet": [
           {
            "marker": {
             "colorbar": {
              "outlinewidth": 0,
              "ticks": ""
             }
            },
            "type": "scattercarpet"
           }
          ],
          "scattergeo": [
           {
            "marker": {
             "colorbar": {
              "outlinewidth": 0,
              "ticks": ""
             }
            },
            "type": "scattergeo"
           }
          ],
          "scattergl": [
           {
            "marker": {
             "colorbar": {
              "outlinewidth": 0,
              "ticks": ""
             }
            },
            "type": "scattergl"
           }
          ],
          "scattermap": [
           {
            "marker": {
             "colorbar": {
              "outlinewidth": 0,
              "ticks": ""
             }
            },
            "type": "scattermap"
           }
          ],
          "scattermapbox": [
           {
            "marker": {
             "colorbar": {
              "outlinewidth": 0,
              "ticks": ""
             }
            },
            "type": "scattermapbox"
           }
          ],
          "scatterpolar": [
           {
            "marker": {
             "colorbar": {
              "outlinewidth": 0,
              "ticks": ""
             }
            },
            "type": "scatterpolar"
           }
          ],
          "scatterpolargl": [
           {
            "marker": {
             "colorbar": {
              "outlinewidth": 0,
              "ticks": ""
             }
            },
            "type": "scatterpolargl"
           }
          ],
          "scatterternary": [
           {
            "marker": {
             "colorbar": {
              "outlinewidth": 0,
              "ticks": ""
             }
            },
            "type": "scatterternary"
           }
          ],
          "surface": [
           {
            "colorbar": {
             "outlinewidth": 0,
             "ticks": ""
            },
            "colorscale": [
             [
              0,
              "#0d0887"
             ],
             [
              0.1111111111111111,
              "#46039f"
             ],
             [
              0.2222222222222222,
              "#7201a8"
             ],
             [
              0.3333333333333333,
              "#9c179e"
             ],
             [
              0.4444444444444444,
              "#bd3786"
             ],
             [
              0.5555555555555556,
              "#d8576b"
             ],
             [
              0.6666666666666666,
              "#ed7953"
             ],
             [
              0.7777777777777778,
              "#fb9f3a"
             ],
             [
              0.8888888888888888,
              "#fdca26"
             ],
             [
              1,
              "#f0f921"
             ]
            ],
            "type": "surface"
           }
          ],
          "table": [
           {
            "cells": {
             "fill": {
              "color": "#EBF0F8"
             },
             "line": {
              "color": "white"
             }
            },
            "header": {
             "fill": {
              "color": "#C8D4E3"
             },
             "line": {
              "color": "white"
             }
            },
            "type": "table"
           }
          ]
         },
         "layout": {
          "annotationdefaults": {
           "arrowcolor": "#2a3f5f",
           "arrowhead": 0,
           "arrowwidth": 1
          },
          "autotypenumbers": "strict",
          "coloraxis": {
           "colorbar": {
            "outlinewidth": 0,
            "ticks": ""
           }
          },
          "colorscale": {
           "diverging": [
            [
             0,
             "#8e0152"
            ],
            [
             0.1,
             "#c51b7d"
            ],
            [
             0.2,
             "#de77ae"
            ],
            [
             0.3,
             "#f1b6da"
            ],
            [
             0.4,
             "#fde0ef"
            ],
            [
             0.5,
             "#f7f7f7"
            ],
            [
             0.6,
             "#e6f5d0"
            ],
            [
             0.7,
             "#b8e186"
            ],
            [
             0.8,
             "#7fbc41"
            ],
            [
             0.9,
             "#4d9221"
            ],
            [
             1,
             "#276419"
            ]
           ],
           "sequential": [
            [
             0,
             "#0d0887"
            ],
            [
             0.1111111111111111,
             "#46039f"
            ],
            [
             0.2222222222222222,
             "#7201a8"
            ],
            [
             0.3333333333333333,
             "#9c179e"
            ],
            [
             0.4444444444444444,
             "#bd3786"
            ],
            [
             0.5555555555555556,
             "#d8576b"
            ],
            [
             0.6666666666666666,
             "#ed7953"
            ],
            [
             0.7777777777777778,
             "#fb9f3a"
            ],
            [
             0.8888888888888888,
             "#fdca26"
            ],
            [
             1,
             "#f0f921"
            ]
           ],
           "sequentialminus": [
            [
             0,
             "#0d0887"
            ],
            [
             0.1111111111111111,
             "#46039f"
            ],
            [
             0.2222222222222222,
             "#7201a8"
            ],
            [
             0.3333333333333333,
             "#9c179e"
            ],
            [
             0.4444444444444444,
             "#bd3786"
            ],
            [
             0.5555555555555556,
             "#d8576b"
            ],
            [
             0.6666666666666666,
             "#ed7953"
            ],
            [
             0.7777777777777778,
             "#fb9f3a"
            ],
            [
             0.8888888888888888,
             "#fdca26"
            ],
            [
             1,
             "#f0f921"
            ]
           ]
          },
          "colorway": [
           "#636efa",
           "#EF553B",
           "#00cc96",
           "#ab63fa",
           "#FFA15A",
           "#19d3f3",
           "#FF6692",
           "#B6E880",
           "#FF97FF",
           "#FECB52"
          ],
          "font": {
           "color": "#2a3f5f"
          },
          "geo": {
           "bgcolor": "white",
           "lakecolor": "white",
           "landcolor": "white",
           "showlakes": true,
           "showland": true,
           "subunitcolor": "#C8D4E3"
          },
          "hoverlabel": {
           "align": "left"
          },
          "hovermode": "closest",
          "mapbox": {
           "style": "light"
          },
          "paper_bgcolor": "white",
          "plot_bgcolor": "white",
          "polar": {
           "angularaxis": {
            "gridcolor": "#EBF0F8",
            "linecolor": "#EBF0F8",
            "ticks": ""
           },
           "bgcolor": "white",
           "radialaxis": {
            "gridcolor": "#EBF0F8",
            "linecolor": "#EBF0F8",
            "ticks": ""
           }
          },
          "scene": {
           "xaxis": {
            "backgroundcolor": "white",
            "gridcolor": "#DFE8F3",
            "gridwidth": 2,
            "linecolor": "#EBF0F8",
            "showbackground": true,
            "ticks": "",
            "zerolinecolor": "#EBF0F8"
           },
           "yaxis": {
            "backgroundcolor": "white",
            "gridcolor": "#DFE8F3",
            "gridwidth": 2,
            "linecolor": "#EBF0F8",
            "showbackground": true,
            "ticks": "",
            "zerolinecolor": "#EBF0F8"
           },
           "zaxis": {
            "backgroundcolor": "white",
            "gridcolor": "#DFE8F3",
            "gridwidth": 2,
            "linecolor": "#EBF0F8",
            "showbackground": true,
            "ticks": "",
            "zerolinecolor": "#EBF0F8"
           }
          },
          "shapedefaults": {
           "line": {
            "color": "#2a3f5f"
           }
          },
          "ternary": {
           "aaxis": {
            "gridcolor": "#DFE8F3",
            "linecolor": "#A2B1C6",
            "ticks": ""
           },
           "baxis": {
            "gridcolor": "#DFE8F3",
            "linecolor": "#A2B1C6",
            "ticks": ""
           },
           "bgcolor": "white",
           "caxis": {
            "gridcolor": "#DFE8F3",
            "linecolor": "#A2B1C6",
            "ticks": ""
           }
          },
          "title": {
           "x": 0.05
          },
          "xaxis": {
           "automargin": true,
           "gridcolor": "#EBF0F8",
           "linecolor": "#EBF0F8",
           "ticks": "",
           "title": {
            "standoff": 15
           },
           "zerolinecolor": "#EBF0F8",
           "zerolinewidth": 2
          },
          "yaxis": {
           "automargin": true,
           "gridcolor": "#EBF0F8",
           "linecolor": "#EBF0F8",
           "ticks": "",
           "title": {
            "standoff": 15
           },
           "zerolinecolor": "#EBF0F8",
           "zerolinewidth": 2
          }
         }
        },
        "title": {
         "text": "Segmentación de Clientes con K-Means (RFM)"
        }
       }
      }
     },
     "metadata": {},
     "output_type": "display_data"
    },
    {
     "name": "stdout",
     "output_type": "stream",
     "text": [
      "--------------------------------------------------\n",
      "Análisis de K-Means (Segmentación de Clientes) completado.\n"
     ]
    }
   ],
   "source": [
    "# DECIMOQUINTO PASO: Aplicación de K-Means y Análisis de Segmentos\n",
    "\n",
    "print(\"--- 15.1 Aplicación de K-Means con K=4 ---\")\n",
    "\n",
    "# Asignar K=4 (basado en una interpretación típica del método del codo)\n",
    "K_OPT = 4 \n",
    "\n",
    "# Entrenar K-Means\n",
    "kmeans_final = KMeans(n_clusters=K_OPT, random_state=42, n_init='auto')\n",
    "kmeans_final.fit(X_rfm_scaled)\n",
    "\n",
    "# Asignar la etiqueta del clúster al DataFrame RFM original\n",
    "df_rfm['Cluster'] = kmeans_final.labels_\n",
    "\n",
    "print(f\"Asignación de clústeres completada. Clústeres encontrados: {df_rfm['Cluster'].nunique()}\")\n",
    "print(\"-\" * 50)\n",
    "\n",
    "\n",
    "print(\"--- 15.2 Interpretación de los Clústeres ---\")\n",
    "\n",
    "# 1. Calcular las métricas promedio de RFM para cada clúster\n",
    "df_segmentos = df_rfm.groupby('Cluster')[['Recencia', 'Frecuencia', 'Monetario']].mean().reset_index()\n",
    "\n",
    "# 2. Análisis de los segmentos (Recencia, Frecuencia, Monetario)\n",
    "print(\"Análisis de las Características Promedio por Segmento (Sin escalar):\")\n",
    "print(df_segmentos.sort_values(by='Monetario', ascending=False).to_markdown(index=False, floatfmt=\".2f\"))\n",
    "\n",
    "\n",
    "# 3. Visualización 3D (Opcional, pero potente para RFM)\n",
    "fig_3d = px.scatter_3d(\n",
    "    df_rfm, \n",
    "    x='Recencia', \n",
    "    y='Frecuencia', \n",
    "    z='Monetario',\n",
    "    color='Cluster',\n",
    "    title='Segmentación de Clientes con K-Means (RFM)',\n",
    "    template='plotly_white',\n",
    "    color_discrete_sequence=px.colors.qualitative.Bold\n",
    ")\n",
    "fig_3d.update_traces(marker=dict(size=4))\n",
    "fig_3d.show()\n",
    "\n",
    "print(\"-\" * 50)\n",
    "print(\"Análisis de K-Means (Segmentación de Clientes) completado.\")\n",
    "# El análisis del df_segmentos te permite dar nombres a los segmentos, por ejemplo:\n",
    "# - Cluster con bajo R, alto F, alto M: Clientes VIP\n",
    "# - Cluster con alto R, bajo F, bajo M: Clientes en Riesgo"
   ]
  },
  {
   "cell_type": "markdown",
   "id": "0b0c9f1c",
   "metadata": {},
   "source": [
    "### 16. Interpretación y Nombramiento de Segmentos K-Means"
   ]
  },
  {
   "cell_type": "code",
   "execution_count": 31,
   "id": "15813264",
   "metadata": {},
   "outputs": [
    {
     "name": "stdout",
     "output_type": "stream",
     "text": [
      "--- 16.1 Análisis de los Centroides del Segmento ---\n",
      "Tabla Final de Segmentación RFM (Interpretación de Negocio):\n",
      "|   Cluster |   Recencia |   Frecuencia |   Monetario | Nombre_Segmento     |\n",
      "|----------:|-----------:|-------------:|------------:|:--------------------|\n",
      "|         2 |      38.29 |         4.00 |    82115.14 | Clientes VIP ⭐     |\n",
      "|         0 |     131.00 |         1.73 |    49756.00 | Segmento Indefinido |\n",
      "|         1 |      26.52 |         1.80 |    41789.88 | Segmento Indefinido |\n",
      "|         3 |     113.17 |         1.17 |    20189.50 | Segmento Indefinido |\n",
      "--------------------------------------------------\n",
      "--- 16.2 Distribución de Clientes por Segmento ---\n"
     ]
    },
    {
     "data": {
      "application/vnd.plotly.v1+json": {
       "config": {
        "plotlyServerURL": "https://plot.ly"
       },
       "data": [
        {
         "hovertemplate": "Nombre_Segmento=%{x}<br>Num_Clientes=%{y}<extra></extra>",
         "legendgroup": "Segmento Indefinido",
         "marker": {
          "color": "#636efa",
          "pattern": {
           "shape": ""
          }
         },
         "name": "Segmento Indefinido",
         "orientation": "v",
         "showlegend": true,
         "textposition": "auto",
         "type": "bar",
         "x": [
          "Segmento Indefinido",
          "Segmento Indefinido",
          "Segmento Indefinido"
         ],
         "xaxis": "x",
         "y": {
          "bdata": "GRgL",
          "dtype": "i1"
         },
         "yaxis": "y"
        },
        {
         "hovertemplate": "Nombre_Segmento=%{x}<br>Num_Clientes=%{y}<extra></extra>",
         "legendgroup": "Clientes VIP ⭐",
         "marker": {
          "color": "#EF553B",
          "pattern": {
           "shape": ""
          }
         },
         "name": "Clientes VIP ⭐",
         "orientation": "v",
         "showlegend": true,
         "textposition": "auto",
         "type": "bar",
         "x": [
          "Clientes VIP ⭐"
         ],
         "xaxis": "x",
         "y": {
          "bdata": "Bw==",
          "dtype": "i1"
         },
         "yaxis": "y"
        }
       ],
       "layout": {
        "barmode": "relative",
        "legend": {
         "title": {
          "text": "Nombre_Segmento"
         },
         "tracegroupgap": 0
        },
        "template": {
         "data": {
          "bar": [
           {
            "error_x": {
             "color": "#2a3f5f"
            },
            "error_y": {
             "color": "#2a3f5f"
            },
            "marker": {
             "line": {
              "color": "white",
              "width": 0.5
             },
             "pattern": {
              "fillmode": "overlay",
              "size": 10,
              "solidity": 0.2
             }
            },
            "type": "bar"
           }
          ],
          "barpolar": [
           {
            "marker": {
             "line": {
              "color": "white",
              "width": 0.5
             },
             "pattern": {
              "fillmode": "overlay",
              "size": 10,
              "solidity": 0.2
             }
            },
            "type": "barpolar"
           }
          ],
          "carpet": [
           {
            "aaxis": {
             "endlinecolor": "#2a3f5f",
             "gridcolor": "#C8D4E3",
             "linecolor": "#C8D4E3",
             "minorgridcolor": "#C8D4E3",
             "startlinecolor": "#2a3f5f"
            },
            "baxis": {
             "endlinecolor": "#2a3f5f",
             "gridcolor": "#C8D4E3",
             "linecolor": "#C8D4E3",
             "minorgridcolor": "#C8D4E3",
             "startlinecolor": "#2a3f5f"
            },
            "type": "carpet"
           }
          ],
          "choropleth": [
           {
            "colorbar": {
             "outlinewidth": 0,
             "ticks": ""
            },
            "type": "choropleth"
           }
          ],
          "contour": [
           {
            "colorbar": {
             "outlinewidth": 0,
             "ticks": ""
            },
            "colorscale": [
             [
              0,
              "#0d0887"
             ],
             [
              0.1111111111111111,
              "#46039f"
             ],
             [
              0.2222222222222222,
              "#7201a8"
             ],
             [
              0.3333333333333333,
              "#9c179e"
             ],
             [
              0.4444444444444444,
              "#bd3786"
             ],
             [
              0.5555555555555556,
              "#d8576b"
             ],
             [
              0.6666666666666666,
              "#ed7953"
             ],
             [
              0.7777777777777778,
              "#fb9f3a"
             ],
             [
              0.8888888888888888,
              "#fdca26"
             ],
             [
              1,
              "#f0f921"
             ]
            ],
            "type": "contour"
           }
          ],
          "contourcarpet": [
           {
            "colorbar": {
             "outlinewidth": 0,
             "ticks": ""
            },
            "type": "contourcarpet"
           }
          ],
          "heatmap": [
           {
            "colorbar": {
             "outlinewidth": 0,
             "ticks": ""
            },
            "colorscale": [
             [
              0,
              "#0d0887"
             ],
             [
              0.1111111111111111,
              "#46039f"
             ],
             [
              0.2222222222222222,
              "#7201a8"
             ],
             [
              0.3333333333333333,
              "#9c179e"
             ],
             [
              0.4444444444444444,
              "#bd3786"
             ],
             [
              0.5555555555555556,
              "#d8576b"
             ],
             [
              0.6666666666666666,
              "#ed7953"
             ],
             [
              0.7777777777777778,
              "#fb9f3a"
             ],
             [
              0.8888888888888888,
              "#fdca26"
             ],
             [
              1,
              "#f0f921"
             ]
            ],
            "type": "heatmap"
           }
          ],
          "histogram": [
           {
            "marker": {
             "pattern": {
              "fillmode": "overlay",
              "size": 10,
              "solidity": 0.2
             }
            },
            "type": "histogram"
           }
          ],
          "histogram2d": [
           {
            "colorbar": {
             "outlinewidth": 0,
             "ticks": ""
            },
            "colorscale": [
             [
              0,
              "#0d0887"
             ],
             [
              0.1111111111111111,
              "#46039f"
             ],
             [
              0.2222222222222222,
              "#7201a8"
             ],
             [
              0.3333333333333333,
              "#9c179e"
             ],
             [
              0.4444444444444444,
              "#bd3786"
             ],
             [
              0.5555555555555556,
              "#d8576b"
             ],
             [
              0.6666666666666666,
              "#ed7953"
             ],
             [
              0.7777777777777778,
              "#fb9f3a"
             ],
             [
              0.8888888888888888,
              "#fdca26"
             ],
             [
              1,
              "#f0f921"
             ]
            ],
            "type": "histogram2d"
           }
          ],
          "histogram2dcontour": [
           {
            "colorbar": {
             "outlinewidth": 0,
             "ticks": ""
            },
            "colorscale": [
             [
              0,
              "#0d0887"
             ],
             [
              0.1111111111111111,
              "#46039f"
             ],
             [
              0.2222222222222222,
              "#7201a8"
             ],
             [
              0.3333333333333333,
              "#9c179e"
             ],
             [
              0.4444444444444444,
              "#bd3786"
             ],
             [
              0.5555555555555556,
              "#d8576b"
             ],
             [
              0.6666666666666666,
              "#ed7953"
             ],
             [
              0.7777777777777778,
              "#fb9f3a"
             ],
             [
              0.8888888888888888,
              "#fdca26"
             ],
             [
              1,
              "#f0f921"
             ]
            ],
            "type": "histogram2dcontour"
           }
          ],
          "mesh3d": [
           {
            "colorbar": {
             "outlinewidth": 0,
             "ticks": ""
            },
            "type": "mesh3d"
           }
          ],
          "parcoords": [
           {
            "line": {
             "colorbar": {
              "outlinewidth": 0,
              "ticks": ""
             }
            },
            "type": "parcoords"
           }
          ],
          "pie": [
           {
            "automargin": true,
            "type": "pie"
           }
          ],
          "scatter": [
           {
            "fillpattern": {
             "fillmode": "overlay",
             "size": 10,
             "solidity": 0.2
            },
            "type": "scatter"
           }
          ],
          "scatter3d": [
           {
            "line": {
             "colorbar": {
              "outlinewidth": 0,
              "ticks": ""
             }
            },
            "marker": {
             "colorbar": {
              "outlinewidth": 0,
              "ticks": ""
             }
            },
            "type": "scatter3d"
           }
          ],
          "scattercarpet": [
           {
            "marker": {
             "colorbar": {
              "outlinewidth": 0,
              "ticks": ""
             }
            },
            "type": "scattercarpet"
           }
          ],
          "scattergeo": [
           {
            "marker": {
             "colorbar": {
              "outlinewidth": 0,
              "ticks": ""
             }
            },
            "type": "scattergeo"
           }
          ],
          "scattergl": [
           {
            "marker": {
             "colorbar": {
              "outlinewidth": 0,
              "ticks": ""
             }
            },
            "type": "scattergl"
           }
          ],
          "scattermap": [
           {
            "marker": {
             "colorbar": {
              "outlinewidth": 0,
              "ticks": ""
             }
            },
            "type": "scattermap"
           }
          ],
          "scattermapbox": [
           {
            "marker": {
             "colorbar": {
              "outlinewidth": 0,
              "ticks": ""
             }
            },
            "type": "scattermapbox"
           }
          ],
          "scatterpolar": [
           {
            "marker": {
             "colorbar": {
              "outlinewidth": 0,
              "ticks": ""
             }
            },
            "type": "scatterpolar"
           }
          ],
          "scatterpolargl": [
           {
            "marker": {
             "colorbar": {
              "outlinewidth": 0,
              "ticks": ""
             }
            },
            "type": "scatterpolargl"
           }
          ],
          "scatterternary": [
           {
            "marker": {
             "colorbar": {
              "outlinewidth": 0,
              "ticks": ""
             }
            },
            "type": "scatterternary"
           }
          ],
          "surface": [
           {
            "colorbar": {
             "outlinewidth": 0,
             "ticks": ""
            },
            "colorscale": [
             [
              0,
              "#0d0887"
             ],
             [
              0.1111111111111111,
              "#46039f"
             ],
             [
              0.2222222222222222,
              "#7201a8"
             ],
             [
              0.3333333333333333,
              "#9c179e"
             ],
             [
              0.4444444444444444,
              "#bd3786"
             ],
             [
              0.5555555555555556,
              "#d8576b"
             ],
             [
              0.6666666666666666,
              "#ed7953"
             ],
             [
              0.7777777777777778,
              "#fb9f3a"
             ],
             [
              0.8888888888888888,
              "#fdca26"
             ],
             [
              1,
              "#f0f921"
             ]
            ],
            "type": "surface"
           }
          ],
          "table": [
           {
            "cells": {
             "fill": {
              "color": "#EBF0F8"
             },
             "line": {
              "color": "white"
             }
            },
            "header": {
             "fill": {
              "color": "#C8D4E3"
             },
             "line": {
              "color": "white"
             }
            },
            "type": "table"
           }
          ]
         },
         "layout": {
          "annotationdefaults": {
           "arrowcolor": "#2a3f5f",
           "arrowhead": 0,
           "arrowwidth": 1
          },
          "autotypenumbers": "strict",
          "coloraxis": {
           "colorbar": {
            "outlinewidth": 0,
            "ticks": ""
           }
          },
          "colorscale": {
           "diverging": [
            [
             0,
             "#8e0152"
            ],
            [
             0.1,
             "#c51b7d"
            ],
            [
             0.2,
             "#de77ae"
            ],
            [
             0.3,
             "#f1b6da"
            ],
            [
             0.4,
             "#fde0ef"
            ],
            [
             0.5,
             "#f7f7f7"
            ],
            [
             0.6,
             "#e6f5d0"
            ],
            [
             0.7,
             "#b8e186"
            ],
            [
             0.8,
             "#7fbc41"
            ],
            [
             0.9,
             "#4d9221"
            ],
            [
             1,
             "#276419"
            ]
           ],
           "sequential": [
            [
             0,
             "#0d0887"
            ],
            [
             0.1111111111111111,
             "#46039f"
            ],
            [
             0.2222222222222222,
             "#7201a8"
            ],
            [
             0.3333333333333333,
             "#9c179e"
            ],
            [
             0.4444444444444444,
             "#bd3786"
            ],
            [
             0.5555555555555556,
             "#d8576b"
            ],
            [
             0.6666666666666666,
             "#ed7953"
            ],
            [
             0.7777777777777778,
             "#fb9f3a"
            ],
            [
             0.8888888888888888,
             "#fdca26"
            ],
            [
             1,
             "#f0f921"
            ]
           ],
           "sequentialminus": [
            [
             0,
             "#0d0887"
            ],
            [
             0.1111111111111111,
             "#46039f"
            ],
            [
             0.2222222222222222,
             "#7201a8"
            ],
            [
             0.3333333333333333,
             "#9c179e"
            ],
            [
             0.4444444444444444,
             "#bd3786"
            ],
            [
             0.5555555555555556,
             "#d8576b"
            ],
            [
             0.6666666666666666,
             "#ed7953"
            ],
            [
             0.7777777777777778,
             "#fb9f3a"
            ],
            [
             0.8888888888888888,
             "#fdca26"
            ],
            [
             1,
             "#f0f921"
            ]
           ]
          },
          "colorway": [
           "#636efa",
           "#EF553B",
           "#00cc96",
           "#ab63fa",
           "#FFA15A",
           "#19d3f3",
           "#FF6692",
           "#B6E880",
           "#FF97FF",
           "#FECB52"
          ],
          "font": {
           "color": "#2a3f5f"
          },
          "geo": {
           "bgcolor": "white",
           "lakecolor": "white",
           "landcolor": "white",
           "showlakes": true,
           "showland": true,
           "subunitcolor": "#C8D4E3"
          },
          "hoverlabel": {
           "align": "left"
          },
          "hovermode": "closest",
          "mapbox": {
           "style": "light"
          },
          "paper_bgcolor": "white",
          "plot_bgcolor": "white",
          "polar": {
           "angularaxis": {
            "gridcolor": "#EBF0F8",
            "linecolor": "#EBF0F8",
            "ticks": ""
           },
           "bgcolor": "white",
           "radialaxis": {
            "gridcolor": "#EBF0F8",
            "linecolor": "#EBF0F8",
            "ticks": ""
           }
          },
          "scene": {
           "xaxis": {
            "backgroundcolor": "white",
            "gridcolor": "#DFE8F3",
            "gridwidth": 2,
            "linecolor": "#EBF0F8",
            "showbackground": true,
            "ticks": "",
            "zerolinecolor": "#EBF0F8"
           },
           "yaxis": {
            "backgroundcolor": "white",
            "gridcolor": "#DFE8F3",
            "gridwidth": 2,
            "linecolor": "#EBF0F8",
            "showbackground": true,
            "ticks": "",
            "zerolinecolor": "#EBF0F8"
           },
           "zaxis": {
            "backgroundcolor": "white",
            "gridcolor": "#DFE8F3",
            "gridwidth": 2,
            "linecolor": "#EBF0F8",
            "showbackground": true,
            "ticks": "",
            "zerolinecolor": "#EBF0F8"
           }
          },
          "shapedefaults": {
           "line": {
            "color": "#2a3f5f"
           }
          },
          "ternary": {
           "aaxis": {
            "gridcolor": "#DFE8F3",
            "linecolor": "#A2B1C6",
            "ticks": ""
           },
           "baxis": {
            "gridcolor": "#DFE8F3",
            "linecolor": "#A2B1C6",
            "ticks": ""
           },
           "bgcolor": "white",
           "caxis": {
            "gridcolor": "#DFE8F3",
            "linecolor": "#A2B1C6",
            "ticks": ""
           }
          },
          "title": {
           "x": 0.05
          },
          "xaxis": {
           "automargin": true,
           "gridcolor": "#EBF0F8",
           "linecolor": "#EBF0F8",
           "ticks": "",
           "title": {
            "standoff": 15
           },
           "zerolinecolor": "#EBF0F8",
           "zerolinewidth": 2
          },
          "yaxis": {
           "automargin": true,
           "gridcolor": "#EBF0F8",
           "linecolor": "#EBF0F8",
           "ticks": "",
           "title": {
            "standoff": 15
           },
           "zerolinecolor": "#EBF0F8",
           "zerolinewidth": 2
          }
         }
        },
        "title": {
         "text": "Distribución de Clientes por Segmento RFM"
        },
        "xaxis": {
         "anchor": "y",
         "categoryarray": [
          "Segmento Indefinido",
          "Clientes VIP ⭐"
         ],
         "categoryorder": "array",
         "domain": [
          0,
          1
         ],
         "title": {
          "text": "Segmento de Cliente"
         }
        },
        "yaxis": {
         "anchor": "x",
         "domain": [
          0,
          1
         ],
         "title": {
          "text": "Num_Clientes"
         }
        }
       }
      }
     },
     "metadata": {},
     "output_type": "display_data"
    },
    {
     "name": "stdout",
     "output_type": "stream",
     "text": [
      "Interpretación de K-Means y Segmentación de Clientes completada.\n"
     ]
    }
   ],
   "source": [
    "print(\"--- 16.1 Análisis de los Centroides del Segmento ---\")\n",
    "\n",
    "# Recreamos (o usamos) el DataFrame de las medias por clúster (del Paso 15)\n",
    "df_segmentos = df_rfm.groupby('Cluster')[['Recencia', 'Frecuencia', 'Monetario']].mean().reset_index()\n",
    "\n",
    "# 1. Función para interpretar y nombrar el segmento\n",
    "def nombrar_segmento(row):\n",
    "    # Recencia: BAJA es BUENA, ALTA es MALA\n",
    "    # Frecuencia: ALTA es BUENA, BAJA es MALA\n",
    "    # Monetario: ALTO es BUENO, BAJO es MALO\n",
    "    \n",
    "    # Usamos los cuantiles o valores relativos para categorizar (ej: si está por debajo del promedio global)\n",
    "    \n",
    "    # Asumiremos la siguiente lógica basada en la tabla promedio:\n",
    "    \n",
    "    # VIP (Best Customers): Alta Frecuencia, Alto Monetario, Baja Recencia\n",
    "    if row['Frecuencia'] > 2.8 and row['Monetario'] > 12000 and row['Recencia'] < 70:\n",
    "        return 'Clientes VIP ⭐'\n",
    "    \n",
    "    # Clientes en Riesgo (At Risk): Baja Frecuencia, Bajo Monetario, Alta Recencia (no han comprado recientemente)\n",
    "    elif row['Recencia'] > 150 and row['Frecuencia'] < 2.5:\n",
    "        return 'Clientes en Riesgo ⚠️'\n",
    "    \n",
    "    # Clientes Potenciales (Promising): Recencia media/baja, Frecuencia baja, Monetario medio\n",
    "    elif row['Recencia'] < 100 and row['Frecuencia'] < 2.5 and row['Monetario'] < 12000:\n",
    "        return 'Clientes Potenciales ✨'\n",
    "    \n",
    "    # Clientes Fieles (Loyal): Baja Recencia, Frecuencia alta, Monetario medio\n",
    "    elif row['Frecuencia'] > 2.5 and row['Recencia'] < 100:\n",
    "        return 'Clientes Fieles 💪'\n",
    "        \n",
    "    else:\n",
    "        return 'Segmento Indefinido'\n",
    "\n",
    "# 2. Aplicar la función de etiquetado\n",
    "df_segmentos['Nombre_Segmento'] = df_segmentos.apply(nombrar_segmento, axis=1)\n",
    "\n",
    "# 3. Mostrar el análisis final\n",
    "df_segmentos_final = df_segmentos.sort_values(by='Monetario', ascending=False)\n",
    "\n",
    "print(\"Tabla Final de Segmentación RFM (Interpretación de Negocio):\")\n",
    "print(df_segmentos_final.to_markdown(index=False, floatfmt=\".2f\"))\n",
    "print(\"-\" * 50)\n",
    "\n",
    "\n",
    "### 16.2. Visualización de los Segmentos\n",
    "\n",
    "import plotly.express as px\n",
    "\n",
    "print(\"--- 16.2 Distribución de Clientes por Segmento ---\")\n",
    "\n",
    "# 1. Contar cuántos clientes hay en cada nuevo segmento\n",
    "conteo_segmentos = df_segmentos_final.merge(\n",
    "    df_rfm.groupby('Cluster').size().reset_index(name='Num_Clientes'), \n",
    "    on='Cluster'\n",
    ").sort_values(by='Num_Clientes', ascending=False)\n",
    "\n",
    "\n",
    "# 2. Visualización de la distribución\n",
    "fig_distribucion = px.bar(\n",
    "    conteo_segmentos,\n",
    "    x='Nombre_Segmento',\n",
    "    y='Num_Clientes',\n",
    "    color='Nombre_Segmento',\n",
    "    title='Distribución de Clientes por Segmento RFM',\n",
    "    template='plotly_white'\n",
    ").update_xaxes(title=\"Segmento de Cliente\")\n",
    "fig_distribucion.show()\n",
    "\n",
    "print(\"Interpretación de K-Means y Segmentación de Clientes completada.\")"
   ]
  },
  {
   "cell_type": "markdown",
   "id": "252ee340",
   "metadata": {},
   "source": [
    "### 17. Persistencia de Datos y Modelo (Guardado)"
   ]
  },
  {
   "cell_type": "code",
   "execution_count": 32,
   "id": "aae4edde",
   "metadata": {},
   "outputs": [
    {
     "name": "stdout",
     "output_type": "stream",
     "text": [
      "--- 17.1 Guardado del Modelo de Clasificación (joblib) ---\n",
      "Modelo optimizado guardado exitosamente en: pipeline_rf_clasificacion_optimizado.joblib\n",
      "--------------------------------------------------\n",
      "--- 17.2 Guardado de Datos de Segmentación (CSV) ---\n",
      "DataFrame de clientes segmentados guardado exitosamente en: segmentacion_clientes_rfm.csv\n",
      "--------------------------------------------------\n",
      "Ejemplo de uso futuro del modelo guardado:\n",
      "modelo_cargado = joblib.load('pipeline_rf_clasificacion_optimizado.joblib')\n",
      "predicciones = modelo_cargado.predict(nuevos_datos_X)\n"
     ]
    }
   ],
   "source": [
    "import joblib\n",
    "import pandas as pd # Para el manejo final de datos\n",
    "\n",
    "print(\"--- 17.1 Guardado del Modelo de Clasificación (joblib) ---\")\n",
    "\n",
    "# Asegúrate de que esta variable contenga el mejor modelo del Paso 12\n",
    "# best_rf_classifier = grid_search_class.best_estimator_ \n",
    "\n",
    "nombre_archivo_modelo = 'pipeline_rf_clasificacion_optimizado.joblib'\n",
    "\n",
    "try:\n",
    "    # Guardar el pipeline completo (incluye preprocesamiento y modelo)\n",
    "    joblib.dump(best_rf_classifier, nombre_archivo_modelo)\n",
    "    print(f\"Modelo optimizado guardado exitosamente en: {nombre_archivo_modelo}\")\n",
    "except NameError:\n",
    "    print(\"ERROR: La variable 'best_rf_classifier' no está definida. Ejecuta el Paso 12 primero.\")\n",
    "except Exception as e:\n",
    "    print(f\"Error al guardar el modelo: {e}\")\n",
    "\n",
    "print(\"-\" * 50)\n",
    "\n",
    "\n",
    "### 17.2. Guardado del DataFrame de Segmentación de Clientes\n",
    "\n",
    "print(\"--- 17.2 Guardado de Datos de Segmentación (CSV) ---\")\n",
    "\n",
    "# 1. Preparar el DataFrame final de clientes para exportar\n",
    "# Hacemos un merge para añadir el nombre descriptivo del segmento al df original de clientes\n",
    "df_clientes_segmentados = df_rfm.merge(\n",
    "    df_segmentos_final[['Cluster', 'Nombre_Segmento']], \n",
    "    on='Cluster', \n",
    "    how='left'\n",
    ")\n",
    "\n",
    "# 2. Eliminar la columna de Cluster (número) y solo dejar el nombre\n",
    "df_clientes_segmentados = df_clientes_segmentados.drop(columns=['Cluster'])\n",
    "\n",
    "# 3. Guardar el archivo CSV\n",
    "nombre_archivo_segmentos = 'segmentacion_clientes_rfm.csv'\n",
    "df_clientes_segmentados.to_csv(nombre_archivo_segmentos, index=False)\n",
    "\n",
    "print(f\"DataFrame de clientes segmentados guardado exitosamente en: {nombre_archivo_segmentos}\")\n",
    "\n",
    "print(\"-\" * 50)\n",
    "\n",
    "\n",
    "# 4. Mostrar cómo cargar y usar el modelo (para referencia futura)\n",
    "print(\"Ejemplo de uso futuro del modelo guardado:\")\n",
    "print(f\"modelo_cargado = joblib.load('{nombre_archivo_modelo}')\")\n",
    "print(\"predicciones = modelo_cargado.predict(nuevos_datos_X)\")"
   ]
  },
  {
   "cell_type": "markdown",
   "id": "8e6ae111",
   "metadata": {},
   "source": [
    "### 18. Obtener la Lista Final de Clientes VIP"
   ]
  },
  {
   "cell_type": "code",
   "execution_count": 33,
   "id": "96c4002f",
   "metadata": {},
   "outputs": [
    {
     "name": "stdout",
     "output_type": "stream",
     "text": [
      "--- 2. Cálculo de Métricas RFM ---\n",
      "--- 3. Clustering K-Means y Etiquetado ---\n",
      "Segmentación completada. Columna 'Nombre_Segmento' creada.\n",
      "--------------------------------------------------\n",
      "--- 4. Lista Final de Clientes VIP ---\n",
      "Total de Clientes VIP identificados: 17\n",
      "--------------------------------------------------\n",
      "Lista de Clientes VIP (Nombre, Email, y Métricas RFM):\n",
      "| nombre_cliente     | email                       |   Recencia |   Frecuencia |   Monetario |\n",
      "|:-------------------|:----------------------------|-----------:|-------------:|------------:|\n",
      "| Agustina Flores    | agustina.flores@mail.com    |          4 |            4 |   132158.00 |\n",
      "| Bruno Diaz         | bruno.diaz@mail.com         |          2 |            5 |    90701.00 |\n",
      "| Diego Diaz         | diego.diaz@mail.com         |         32 |            3 |    90522.00 |\n",
      "| Karina Castro      | karina.castro@mail.com      |         10 |            2 |    81830.00 |\n",
      "| Guadalupe Martinez | guadalupe.martinez@mail.com |         30 |            2 |    67959.00 |\n",
      "| Camila Rodriguez   | camila.rodriguez@mail.com   |         69 |            4 |    65001.00 |\n",
      "| Santiago Diaz      | santiago.diaz@mail.com      |         13 |            4 |    64786.00 |\n",
      "| Felipe Diaz        | felipe.diaz@mail.com        |         27 |            2 |    64716.00 |\n",
      "| Camila Ruiz        | camila.ruiz@mail.com        |         18 |            2 |    64502.00 |\n",
      "| Felipe Flores      | felipe.flores@mail.com      |         21 |            2 |    64300.00 |\n",
      "| Tomas Flores       | tomas.flores@mail.com       |         44 |            4 |    60317.00 |\n",
      "| Uma Sanchez        | uma.sanchez@mail.com        |         32 |            2 |    57386.00 |\n",
      "| Gael Gomez         | gael.gomez@mail.com         |         61 |            2 |    49518.00 |\n",
      "| Mariana Rodriguez  | mariana.rodriguez@mail.com  |         41 |            2 |    48867.00 |\n",
      "| Tomas Ruiz         | tomas.ruiz@mail.com         |         15 |            3 |    45929.00 |\n",
      "| Uma Silva          | uma.silva@mail.com          |         38 |            2 |    44563.00 |\n",
      "| Julian Alvarez     | julian.alvarez@mail.com     |         25 |            2 |    40218.00 |\n"
     ]
    }
   ],
   "source": [
    "# DECIMOOCTAVO PASO: OBTENER LA LISTA DE CLIENTES VIP\n",
    "\n",
    "# 1. Cálculo de RFM (Recencia, Frecuencia, Monetario)\n",
    "print(\"--- 2. Cálculo de Métricas RFM ---\")\n",
    "fecha_referencia = data['fecha_venta'].max() + pd.Timedelta(days=1)\n",
    "df_rfm = data.groupby('id_cliente').agg(\n",
    "    Recencia=('fecha_venta', lambda x: (fecha_referencia - x.max()).days),\n",
    "    Frecuencia=('id_venta', 'nunique'),\n",
    "    Monetario=('importe', 'sum'),\n",
    "    nombre_cliente=('nombre_cliente', 'first'),\n",
    "    email=('email', 'first')\n",
    ").reset_index()\n",
    "\n",
    "# 2. Clustering K-Means y Etiquetado\n",
    "print(\"--- 3. Clustering K-Means y Etiquetado ---\")\n",
    "X_rfm = df_rfm[['Recencia', 'Frecuencia', 'Monetario']]\n",
    "scaler = StandardScaler()\n",
    "X_rfm_scaled = scaler.fit_transform(X_rfm)\n",
    "K_OPT = 4 # Valor asumido para el clustering\n",
    "kmeans_final = KMeans(n_clusters=K_OPT, random_state=42, n_init='auto')\n",
    "kmeans_final.fit(X_rfm_scaled)\n",
    "df_rfm['Cluster'] = kmeans_final.labels_\n",
    "\n",
    "# Función de Etiquetado: Se aplica al DataFrame final, definiendo la columna 'Nombre_Segmento'\n",
    "def nombrar_segmento_simple(row):\n",
    "    R_mean, F_mean, M_mean = df_rfm['Recencia'].mean(), df_rfm['Frecuencia'].mean(), df_rfm['Monetario'].mean()\n",
    "    \n",
    "    # Lógica de VIP: R < Media, F > Media, M > Media\n",
    "    if row['Frecuencia'] > F_mean and row['Monetario'] > M_mean and row['Recencia'] < R_mean:\n",
    "        return 'Clientes VIP ⭐'\n",
    "    elif row['Recencia'] > R_mean:\n",
    "        return 'Clientes en Riesgo ⚠️'\n",
    "    else:\n",
    "        return 'Otros Segmentos'\n",
    "\n",
    "# La columna 'Nombre_Segmento' se crea aquí, solucionando tu error\n",
    "df_rfm['Nombre_Segmento'] = df_rfm.apply(nombrar_segmento_simple, axis=1)\n",
    "print(\"Segmentación completada. Columna 'Nombre_Segmento' creada.\")\n",
    "print(\"-\" * 50)\n",
    "\n",
    "# 3. FILTRADO Y MUESTRA DE LA LISTA FINAL\n",
    "print(\"--- 4. Lista Final de Clientes VIP ---\")\n",
    "\n",
    "# La línea que estaba causando el error ahora funciona porque 'Nombre_Segmento' existe\n",
    "clientes_vip_final = df_rfm[df_rfm['Nombre_Segmento'] == 'Clientes VIP ⭐'].copy()\n",
    "\n",
    "# Seleccionar y ordenar las columnas clave\n",
    "lista_final_vip = clientes_vip_final[\n",
    "    ['nombre_cliente', 'email', 'Recencia', 'Frecuencia', 'Monetario']\n",
    "].sort_values(by='Monetario', ascending=False)\n",
    "\n",
    "\n",
    "print(f\"Total de Clientes VIP identificados: {len(lista_final_vip)}\")\n",
    "print(\"-\" * 50)\n",
    "print(\"Lista de Clientes VIP (Nombre, Email, y Métricas RFM):\")\n",
    "\n",
    "# Mostrar la lista\n",
    "print(lista_final_vip.to_markdown(index=False, floatfmt=('.0f', '.0f', '.0f', '.0f', '.2f')))"
   ]
  },
  {
   "cell_type": "markdown",
   "id": "ce7e7925",
   "metadata": {},
   "source": [
    "### 19. PREGUNTAS CLAVE\n",
    "1. Estrategicas\n",
    "- ¿Qué productos generan el 80% de los ingresos?"
   ]
  },
  {
   "cell_type": "code",
   "execution_count": 34,
   "id": "7fe88cea",
   "metadata": {},
   "outputs": [
    {
     "name": "stdout",
     "output_type": "stream",
     "text": [
      "--- ANÁLISIS PARETO (80/20) POR PRODUCTO ---\n",
      "Número de productos que generan el 80% de los ingresos: 49 de 95\n",
      "\n",
      "Top Productos Estratégicos (Acumulan el 80%):\n",
      "| nombre_producto            |   importe |   Porcentaje_Acumulado |\n",
      "|:---------------------------|----------:|-----------------------:|\n",
      "| Desodorante Aerosol        |   93800.0 |                    3.5 |\n",
      "| Queso Rallado 150g         |   89544.0 |                    6.9 |\n",
      "| Pizza Congelada Muzzarella |   85720.0 |                   10.1 |\n",
      "| Ron 700ml                  |   81396.0 |                   13.2 |\n",
      "| Yerba Mate Suave 1kg       |   77560.0 |                   16.1 |\n",
      "| Energética Nitro 500ml     |   71706.0 |                   18.8 |\n",
      "| Chicle Menta               |   68628.0 |                   21.4 |\n",
      "| Caramelos Masticables      |   66528.0 |                   23.9 |\n",
      "| Vino Blanco 750ml          |   59048.0 |                   26.2 |\n",
      "| Hamburguesas Congeladas x4 |   58080.0 |                   28.4 |\n"
     ]
    }
   ],
   "source": [
    "print(\"--- ANÁLISIS PARETO (80/20) POR PRODUCTO ---\")\n",
    "\n",
    "# 1. Calcular el importe total por producto y ordenar\n",
    "datos_productos = data.groupby('nombre_producto')['importe'].sum().reset_index()\n",
    "datos_productos.sort_values(by='importe', ascending=False, inplace=True)\n",
    "\n",
    "# 2. Calcular el porcentaje acumulado\n",
    "total_ingreso = datos_productos['importe'].sum()\n",
    "datos_productos['Porcentaje_Acumulado'] = (datos_productos['importe'].cumsum() / total_ingreso) * 100\n",
    "\n",
    "# 3. Filtrar los productos que acumulan el 80% del ingreso\n",
    "productos_80_porciento = datos_productos[datos_productos['Porcentaje_Acumulado'] <= 80.0]\n",
    "\n",
    "print(f\"Número de productos que generan el 80% de los ingresos: {len(productos_80_porciento)} de {len(datos_productos)}\")\n",
    "print(\"\\nTop Productos Estratégicos (Acumulan el 80%):\")\n",
    "print(productos_80_porciento.head(10).to_markdown(index=False, floatfmt=\".1f\"))"
   ]
  },
  {
   "cell_type": "markdown",
   "id": "505be182",
   "metadata": {},
   "source": []
  },
  {
   "cell_type": "markdown",
   "id": "15035dcd",
   "metadata": {},
   "source": [
    "- ¿Qué ciudades son más rentables?"
   ]
  },
  {
   "cell_type": "code",
   "execution_count": 35,
   "id": "fb25c653",
   "metadata": {},
   "outputs": [
    {
     "name": "stdout",
     "output_type": "stream",
     "text": [
      "--- RENTABILIDAD BRUTA POR CIUDAD ---\n",
      "Top Ciudades por Ingreso Bruto:\n",
      "| ciudad      |   importe |   Porcentaje_Total |\n",
      "|:------------|----------:|-------------------:|\n",
      "| Rio Cuarto  | 792203.00 |              29.88 |\n",
      "| Alta Gracia | 481504.00 |              18.16 |\n",
      "| Cordoba     | 481482.00 |              18.16 |\n",
      "| Carlos Paz  | 353852.00 |              13.35 |\n",
      "| Villa Maria | 313350.00 |              11.82 |\n",
      "| Mendiolaza  | 229026.00 |               8.64 |\n"
     ]
    }
   ],
   "source": [
    "print(\"--- RENTABILIDAD BRUTA POR CIUDAD ---\")\n",
    "\n",
    "# 1. Agrupar el importe total por ciudad\n",
    "df_ciudades = data.groupby('ciudad')['importe'].sum().reset_index()\n",
    "df_ciudades['Porcentaje_Total'] = (df_ciudades['importe'] / df_ciudades['importe'].sum()) * 100\n",
    "df_ciudades.sort_values(by='importe', ascending=False, inplace=True)\n",
    "\n",
    "print(\"Top Ciudades por Ingreso Bruto:\")\n",
    "print(df_ciudades.head(7).to_markdown(index=False, floatfmt=\".2f\"))"
   ]
  },
  {
   "cell_type": "markdown",
   "id": "dd4f3588",
   "metadata": {},
   "source": [
    "- ¿Qué medio de pago prefieren los clientes de alto valor?"
   ]
  },
  {
   "cell_type": "code",
   "execution_count": 36,
   "id": "baa2bf26",
   "metadata": {},
   "outputs": [
    {
     "name": "stdout",
     "output_type": "stream",
     "text": [
      "--- PREFERENCIA DE PAGO EN VENTAS DE ALTO VALOR ---\n",
      "Medios de Pago Preferidos en Transacciones de Alto Valor:\n",
      "| Medio_Pago    |   Conteo_Ventas |   Porcentaje |\n",
      "|:--------------|----------------:|-------------:|\n",
      "| efectivo      |              61 |        35.67 |\n",
      "| qr            |              46 |        26.90 |\n",
      "| transferencia |              33 |        19.30 |\n",
      "| tarjeta       |              31 |        18.13 |\n"
     ]
    }
   ],
   "source": [
    "print(\"--- PREFERENCIA DE PAGO EN VENTAS DE ALTO VALOR ---\")\n",
    "\n",
    "# 1. Filtrar solo las ventas clasificadas como de Alto Valor (1)\n",
    "df_alto_valor = data[data['venta_alto_valor'] == 1].copy()\n",
    "\n",
    "# 2. Contar la frecuencia de cada medio de pago\n",
    "preferencia_pago = df_alto_valor['medio_pago'].value_counts().reset_index()\n",
    "preferencia_pago.columns = ['Medio_Pago', 'Conteo_Ventas']\n",
    "\n",
    "# 3. Calcular el porcentaje de uso dentro del segmento de Alto Valor\n",
    "preferencia_pago['Porcentaje'] = (preferencia_pago['Conteo_Ventas'] / preferencia_pago['Conteo_Ventas'].sum()) * 100\n",
    "\n",
    "print(\"Medios de Pago Preferidos en Transacciones de Alto Valor:\")\n",
    "print(preferencia_pago.to_markdown(index=False, floatfmt=\".2f\"))"
   ]
  },
  {
   "cell_type": "markdown",
   "id": "24f9cf98",
   "metadata": {},
   "source": [
    "2. Operativas\n",
    "- ¿Qué días de la semana tienen más ventas? (Optimización de Personal)"
   ]
  },
  {
   "cell_type": "code",
   "execution_count": 37,
   "id": "5cf5b138",
   "metadata": {},
   "outputs": [
    {
     "name": "stdout",
     "output_type": "stream",
     "text": [
      "--- DÍAS DE LA SEMANA CON MÁS VENTAS ---\n",
      "Ventas Totales por Día de la Semana:\n",
      "| Día       |   Numero_Ventas |\n",
      "|:----------|----------------:|\n",
      "| Lunes     |              14 |\n",
      "| Martes    |              21 |\n",
      "| Miércoles |              16 |\n",
      "| Jueves    |              18 |\n",
      "| Viernes   |              21 |\n",
      "| Sábado    |              13 |\n",
      "| Domingo   |              17 |\n"
     ]
    },
    {
     "data": {
      "application/vnd.plotly.v1+json": {
       "config": {
        "plotlyServerURL": "https://plot.ly"
       },
       "data": [
        {
         "hovertemplate": "Día=%{x}<br>Numero_Ventas=%{marker.color}<extra></extra>",
         "legendgroup": "",
         "marker": {
          "color": {
           "bdata": "DhUQEhUNEQ==",
           "dtype": "i1"
          },
          "coloraxis": "coloraxis",
          "pattern": {
           "shape": ""
          }
         },
         "name": "",
         "orientation": "v",
         "showlegend": false,
         "textposition": "auto",
         "type": "bar",
         "x": [
          "Lunes",
          "Martes",
          "Miércoles",
          "Jueves",
          "Viernes",
          "Sábado",
          "Domingo"
         ],
         "xaxis": "x",
         "y": {
          "bdata": "DhUQEhUNEQ==",
          "dtype": "i1"
         },
         "yaxis": "y"
        }
       ],
       "layout": {
        "barmode": "relative",
        "coloraxis": {
         "colorbar": {
          "title": {
           "text": "Numero_Ventas"
          }
         },
         "colorscale": [
          [
           0,
           "#0d0887"
          ],
          [
           0.1111111111111111,
           "#46039f"
          ],
          [
           0.2222222222222222,
           "#7201a8"
          ],
          [
           0.3333333333333333,
           "#9c179e"
          ],
          [
           0.4444444444444444,
           "#bd3786"
          ],
          [
           0.5555555555555556,
           "#d8576b"
          ],
          [
           0.6666666666666666,
           "#ed7953"
          ],
          [
           0.7777777777777778,
           "#fb9f3a"
          ],
          [
           0.8888888888888888,
           "#fdca26"
          ],
          [
           1,
           "#f0f921"
          ]
         ]
        },
        "legend": {
         "tracegroupgap": 0
        },
        "template": {
         "data": {
          "bar": [
           {
            "error_x": {
             "color": "#2a3f5f"
            },
            "error_y": {
             "color": "#2a3f5f"
            },
            "marker": {
             "line": {
              "color": "white",
              "width": 0.5
             },
             "pattern": {
              "fillmode": "overlay",
              "size": 10,
              "solidity": 0.2
             }
            },
            "type": "bar"
           }
          ],
          "barpolar": [
           {
            "marker": {
             "line": {
              "color": "white",
              "width": 0.5
             },
             "pattern": {
              "fillmode": "overlay",
              "size": 10,
              "solidity": 0.2
             }
            },
            "type": "barpolar"
           }
          ],
          "carpet": [
           {
            "aaxis": {
             "endlinecolor": "#2a3f5f",
             "gridcolor": "#C8D4E3",
             "linecolor": "#C8D4E3",
             "minorgridcolor": "#C8D4E3",
             "startlinecolor": "#2a3f5f"
            },
            "baxis": {
             "endlinecolor": "#2a3f5f",
             "gridcolor": "#C8D4E3",
             "linecolor": "#C8D4E3",
             "minorgridcolor": "#C8D4E3",
             "startlinecolor": "#2a3f5f"
            },
            "type": "carpet"
           }
          ],
          "choropleth": [
           {
            "colorbar": {
             "outlinewidth": 0,
             "ticks": ""
            },
            "type": "choropleth"
           }
          ],
          "contour": [
           {
            "colorbar": {
             "outlinewidth": 0,
             "ticks": ""
            },
            "colorscale": [
             [
              0,
              "#0d0887"
             ],
             [
              0.1111111111111111,
              "#46039f"
             ],
             [
              0.2222222222222222,
              "#7201a8"
             ],
             [
              0.3333333333333333,
              "#9c179e"
             ],
             [
              0.4444444444444444,
              "#bd3786"
             ],
             [
              0.5555555555555556,
              "#d8576b"
             ],
             [
              0.6666666666666666,
              "#ed7953"
             ],
             [
              0.7777777777777778,
              "#fb9f3a"
             ],
             [
              0.8888888888888888,
              "#fdca26"
             ],
             [
              1,
              "#f0f921"
             ]
            ],
            "type": "contour"
           }
          ],
          "contourcarpet": [
           {
            "colorbar": {
             "outlinewidth": 0,
             "ticks": ""
            },
            "type": "contourcarpet"
           }
          ],
          "heatmap": [
           {
            "colorbar": {
             "outlinewidth": 0,
             "ticks": ""
            },
            "colorscale": [
             [
              0,
              "#0d0887"
             ],
             [
              0.1111111111111111,
              "#46039f"
             ],
             [
              0.2222222222222222,
              "#7201a8"
             ],
             [
              0.3333333333333333,
              "#9c179e"
             ],
             [
              0.4444444444444444,
              "#bd3786"
             ],
             [
              0.5555555555555556,
              "#d8576b"
             ],
             [
              0.6666666666666666,
              "#ed7953"
             ],
             [
              0.7777777777777778,
              "#fb9f3a"
             ],
             [
              0.8888888888888888,
              "#fdca26"
             ],
             [
              1,
              "#f0f921"
             ]
            ],
            "type": "heatmap"
           }
          ],
          "histogram": [
           {
            "marker": {
             "pattern": {
              "fillmode": "overlay",
              "size": 10,
              "solidity": 0.2
             }
            },
            "type": "histogram"
           }
          ],
          "histogram2d": [
           {
            "colorbar": {
             "outlinewidth": 0,
             "ticks": ""
            },
            "colorscale": [
             [
              0,
              "#0d0887"
             ],
             [
              0.1111111111111111,
              "#46039f"
             ],
             [
              0.2222222222222222,
              "#7201a8"
             ],
             [
              0.3333333333333333,
              "#9c179e"
             ],
             [
              0.4444444444444444,
              "#bd3786"
             ],
             [
              0.5555555555555556,
              "#d8576b"
             ],
             [
              0.6666666666666666,
              "#ed7953"
             ],
             [
              0.7777777777777778,
              "#fb9f3a"
             ],
             [
              0.8888888888888888,
              "#fdca26"
             ],
             [
              1,
              "#f0f921"
             ]
            ],
            "type": "histogram2d"
           }
          ],
          "histogram2dcontour": [
           {
            "colorbar": {
             "outlinewidth": 0,
             "ticks": ""
            },
            "colorscale": [
             [
              0,
              "#0d0887"
             ],
             [
              0.1111111111111111,
              "#46039f"
             ],
             [
              0.2222222222222222,
              "#7201a8"
             ],
             [
              0.3333333333333333,
              "#9c179e"
             ],
             [
              0.4444444444444444,
              "#bd3786"
             ],
             [
              0.5555555555555556,
              "#d8576b"
             ],
             [
              0.6666666666666666,
              "#ed7953"
             ],
             [
              0.7777777777777778,
              "#fb9f3a"
             ],
             [
              0.8888888888888888,
              "#fdca26"
             ],
             [
              1,
              "#f0f921"
             ]
            ],
            "type": "histogram2dcontour"
           }
          ],
          "mesh3d": [
           {
            "colorbar": {
             "outlinewidth": 0,
             "ticks": ""
            },
            "type": "mesh3d"
           }
          ],
          "parcoords": [
           {
            "line": {
             "colorbar": {
              "outlinewidth": 0,
              "ticks": ""
             }
            },
            "type": "parcoords"
           }
          ],
          "pie": [
           {
            "automargin": true,
            "type": "pie"
           }
          ],
          "scatter": [
           {
            "fillpattern": {
             "fillmode": "overlay",
             "size": 10,
             "solidity": 0.2
            },
            "type": "scatter"
           }
          ],
          "scatter3d": [
           {
            "line": {
             "colorbar": {
              "outlinewidth": 0,
              "ticks": ""
             }
            },
            "marker": {
             "colorbar": {
              "outlinewidth": 0,
              "ticks": ""
             }
            },
            "type": "scatter3d"
           }
          ],
          "scattercarpet": [
           {
            "marker": {
             "colorbar": {
              "outlinewidth": 0,
              "ticks": ""
             }
            },
            "type": "scattercarpet"
           }
          ],
          "scattergeo": [
           {
            "marker": {
             "colorbar": {
              "outlinewidth": 0,
              "ticks": ""
             }
            },
            "type": "scattergeo"
           }
          ],
          "scattergl": [
           {
            "marker": {
             "colorbar": {
              "outlinewidth": 0,
              "ticks": ""
             }
            },
            "type": "scattergl"
           }
          ],
          "scattermap": [
           {
            "marker": {
             "colorbar": {
              "outlinewidth": 0,
              "ticks": ""
             }
            },
            "type": "scattermap"
           }
          ],
          "scattermapbox": [
           {
            "marker": {
             "colorbar": {
              "outlinewidth": 0,
              "ticks": ""
             }
            },
            "type": "scattermapbox"
           }
          ],
          "scatterpolar": [
           {
            "marker": {
             "colorbar": {
              "outlinewidth": 0,
              "ticks": ""
             }
            },
            "type": "scatterpolar"
           }
          ],
          "scatterpolargl": [
           {
            "marker": {
             "colorbar": {
              "outlinewidth": 0,
              "ticks": ""
             }
            },
            "type": "scatterpolargl"
           }
          ],
          "scatterternary": [
           {
            "marker": {
             "colorbar": {
              "outlinewidth": 0,
              "ticks": ""
             }
            },
            "type": "scatterternary"
           }
          ],
          "surface": [
           {
            "colorbar": {
             "outlinewidth": 0,
             "ticks": ""
            },
            "colorscale": [
             [
              0,
              "#0d0887"
             ],
             [
              0.1111111111111111,
              "#46039f"
             ],
             [
              0.2222222222222222,
              "#7201a8"
             ],
             [
              0.3333333333333333,
              "#9c179e"
             ],
             [
              0.4444444444444444,
              "#bd3786"
             ],
             [
              0.5555555555555556,
              "#d8576b"
             ],
             [
              0.6666666666666666,
              "#ed7953"
             ],
             [
              0.7777777777777778,
              "#fb9f3a"
             ],
             [
              0.8888888888888888,
              "#fdca26"
             ],
             [
              1,
              "#f0f921"
             ]
            ],
            "type": "surface"
           }
          ],
          "table": [
           {
            "cells": {
             "fill": {
              "color": "#EBF0F8"
             },
             "line": {
              "color": "white"
             }
            },
            "header": {
             "fill": {
              "color": "#C8D4E3"
             },
             "line": {
              "color": "white"
             }
            },
            "type": "table"
           }
          ]
         },
         "layout": {
          "annotationdefaults": {
           "arrowcolor": "#2a3f5f",
           "arrowhead": 0,
           "arrowwidth": 1
          },
          "autotypenumbers": "strict",
          "coloraxis": {
           "colorbar": {
            "outlinewidth": 0,
            "ticks": ""
           }
          },
          "colorscale": {
           "diverging": [
            [
             0,
             "#8e0152"
            ],
            [
             0.1,
             "#c51b7d"
            ],
            [
             0.2,
             "#de77ae"
            ],
            [
             0.3,
             "#f1b6da"
            ],
            [
             0.4,
             "#fde0ef"
            ],
            [
             0.5,
             "#f7f7f7"
            ],
            [
             0.6,
             "#e6f5d0"
            ],
            [
             0.7,
             "#b8e186"
            ],
            [
             0.8,
             "#7fbc41"
            ],
            [
             0.9,
             "#4d9221"
            ],
            [
             1,
             "#276419"
            ]
           ],
           "sequential": [
            [
             0,
             "#0d0887"
            ],
            [
             0.1111111111111111,
             "#46039f"
            ],
            [
             0.2222222222222222,
             "#7201a8"
            ],
            [
             0.3333333333333333,
             "#9c179e"
            ],
            [
             0.4444444444444444,
             "#bd3786"
            ],
            [
             0.5555555555555556,
             "#d8576b"
            ],
            [
             0.6666666666666666,
             "#ed7953"
            ],
            [
             0.7777777777777778,
             "#fb9f3a"
            ],
            [
             0.8888888888888888,
             "#fdca26"
            ],
            [
             1,
             "#f0f921"
            ]
           ],
           "sequentialminus": [
            [
             0,
             "#0d0887"
            ],
            [
             0.1111111111111111,
             "#46039f"
            ],
            [
             0.2222222222222222,
             "#7201a8"
            ],
            [
             0.3333333333333333,
             "#9c179e"
            ],
            [
             0.4444444444444444,
             "#bd3786"
            ],
            [
             0.5555555555555556,
             "#d8576b"
            ],
            [
             0.6666666666666666,
             "#ed7953"
            ],
            [
             0.7777777777777778,
             "#fb9f3a"
            ],
            [
             0.8888888888888888,
             "#fdca26"
            ],
            [
             1,
             "#f0f921"
            ]
           ]
          },
          "colorway": [
           "#636efa",
           "#EF553B",
           "#00cc96",
           "#ab63fa",
           "#FFA15A",
           "#19d3f3",
           "#FF6692",
           "#B6E880",
           "#FF97FF",
           "#FECB52"
          ],
          "font": {
           "color": "#2a3f5f"
          },
          "geo": {
           "bgcolor": "white",
           "lakecolor": "white",
           "landcolor": "white",
           "showlakes": true,
           "showland": true,
           "subunitcolor": "#C8D4E3"
          },
          "hoverlabel": {
           "align": "left"
          },
          "hovermode": "closest",
          "mapbox": {
           "style": "light"
          },
          "paper_bgcolor": "white",
          "plot_bgcolor": "white",
          "polar": {
           "angularaxis": {
            "gridcolor": "#EBF0F8",
            "linecolor": "#EBF0F8",
            "ticks": ""
           },
           "bgcolor": "white",
           "radialaxis": {
            "gridcolor": "#EBF0F8",
            "linecolor": "#EBF0F8",
            "ticks": ""
           }
          },
          "scene": {
           "xaxis": {
            "backgroundcolor": "white",
            "gridcolor": "#DFE8F3",
            "gridwidth": 2,
            "linecolor": "#EBF0F8",
            "showbackground": true,
            "ticks": "",
            "zerolinecolor": "#EBF0F8"
           },
           "yaxis": {
            "backgroundcolor": "white",
            "gridcolor": "#DFE8F3",
            "gridwidth": 2,
            "linecolor": "#EBF0F8",
            "showbackground": true,
            "ticks": "",
            "zerolinecolor": "#EBF0F8"
           },
           "zaxis": {
            "backgroundcolor": "white",
            "gridcolor": "#DFE8F3",
            "gridwidth": 2,
            "linecolor": "#EBF0F8",
            "showbackground": true,
            "ticks": "",
            "zerolinecolor": "#EBF0F8"
           }
          },
          "shapedefaults": {
           "line": {
            "color": "#2a3f5f"
           }
          },
          "ternary": {
           "aaxis": {
            "gridcolor": "#DFE8F3",
            "linecolor": "#A2B1C6",
            "ticks": ""
           },
           "baxis": {
            "gridcolor": "#DFE8F3",
            "linecolor": "#A2B1C6",
            "ticks": ""
           },
           "bgcolor": "white",
           "caxis": {
            "gridcolor": "#DFE8F3",
            "linecolor": "#A2B1C6",
            "ticks": ""
           }
          },
          "title": {
           "x": 0.05
          },
          "xaxis": {
           "automargin": true,
           "gridcolor": "#EBF0F8",
           "linecolor": "#EBF0F8",
           "ticks": "",
           "title": {
            "standoff": 15
           },
           "zerolinecolor": "#EBF0F8",
           "zerolinewidth": 2
          },
          "yaxis": {
           "automargin": true,
           "gridcolor": "#EBF0F8",
           "linecolor": "#EBF0F8",
           "ticks": "",
           "title": {
            "standoff": 15
           },
           "zerolinecolor": "#EBF0F8",
           "zerolinewidth": 2
          }
         }
        },
        "title": {
         "text": "Ventas por Día de la Semana"
        },
        "xaxis": {
         "anchor": "y",
         "domain": [
          0,
          1
         ],
         "title": {
          "text": "Día"
         }
        },
        "yaxis": {
         "anchor": "x",
         "domain": [
          0,
          1
         ],
         "title": {
          "text": "Numero_Ventas"
         }
        }
       }
      }
     },
     "metadata": {},
     "output_type": "display_data"
    }
   ],
   "source": [
    "print(\"--- DÍAS DE LA SEMANA CON MÁS VENTAS ---\")\n",
    "\n",
    "# 1. Crear la columna de día de la semana (0=Lunes, 6=Domingo)\n",
    "# Asegúrate de que df['fecha_venta'] es de tipo datetime.\n",
    "data['dia_semana'] = data['fecha_venta'].dt.dayofweek\n",
    "\n",
    "# 2. Mapear los números a nombres de días para una mejor lectura\n",
    "dias_mapa = {0: 'Lunes', 1: 'Martes', 2: 'Miércoles', 3: 'Jueves', 4: 'Viernes', 5: 'Sábado', 6: 'Domingo'}\n",
    "data['nombre_dia'] = data['dia_semana'].map(dias_mapa)\n",
    "\n",
    "# 3. Agrupar por nombre del día y contar el número de ventas\n",
    "df_ventas_dia = data.groupby('nombre_dia')['id_venta'].nunique().reset_index()\n",
    "df_ventas_dia.columns = ['Día', 'Numero_Ventas']\n",
    "\n",
    "# 4. Ordenar correctamente (por el número del día)\n",
    "df_ventas_dia['orden'] = df_ventas_dia['Día'].map({v: k for k, v in dias_mapa.items()})\n",
    "df_ventas_dia.sort_values(by='orden', inplace=True)\n",
    "\n",
    "print(\"Ventas Totales por Día de la Semana:\")\n",
    "print(df_ventas_dia.drop(columns=['orden']).to_markdown(index=False))\n",
    "\n",
    "# Opcional: Visualización\n",
    "fig_dias = px.bar(\n",
    "    df_ventas_dia, \n",
    "    x='Día', \n",
    "    y='Numero_Ventas', \n",
    "    title='Ventas por Día de la Semana',\n",
    "    color='Numero_Ventas',\n",
    "    template='plotly_white'\n",
    ")\n",
    "fig_dias.show()"
   ]
  },
  {
   "cell_type": "markdown",
   "id": "5878d693",
   "metadata": {},
   "source": [
    "- ¿Cuál es el ticket promedio por ciudad? (Benchmark Geográfico)"
   ]
  },
  {
   "cell_type": "code",
   "execution_count": 38,
   "id": "b3f9fc1c",
   "metadata": {},
   "outputs": [
    {
     "name": "stdout",
     "output_type": "stream",
     "text": [
      "--- TICKET PROMEDIO POR CIUDAD ---\n",
      "Ticket Promedio por Ciudad:\n",
      "| ciudad      |   Ticket_Promedio |   numero_ventas |\n",
      "|:------------|------------------:|----------------:|\n",
      "| Villa Maria |          28486.36 |              11 |\n",
      "| Carlos Paz  |          27219.38 |              13 |\n",
      "| Mendiolaza  |          22902.60 |              10 |\n",
      "| Rio Cuarto  |          21410.89 |              37 |\n",
      "| Cordoba     |          20061.75 |              24 |\n",
      "| Alta Gracia |          19260.16 |              25 |\n"
     ]
    },
    {
     "data": {
      "application/vnd.plotly.v1+json": {
       "config": {
        "plotlyServerURL": "https://plot.ly"
       },
       "data": [
        {
         "hovertemplate": "ciudad=%{x}<br>Ticket_Promedio=%{marker.color}<extra></extra>",
         "legendgroup": "",
         "marker": {
          "color": {
           "bdata": "XXTRRZfR20Ce2Imd2JTaQGZmZmamXdZA0LrBFLno1EAAAAAAcJfTQNejcD0Kz9JA",
           "dtype": "f8"
          },
          "coloraxis": "coloraxis",
          "pattern": {
           "shape": ""
          }
         },
         "name": "",
         "orientation": "v",
         "showlegend": false,
         "textposition": "auto",
         "type": "bar",
         "x": [
          "Villa Maria",
          "Carlos Paz",
          "Mendiolaza",
          "Rio Cuarto",
          "Cordoba",
          "Alta Gracia"
         ],
         "xaxis": "x",
         "y": {
          "bdata": "XXTRRZfR20Ce2Imd2JTaQGZmZmamXdZA0LrBFLno1EAAAAAAcJfTQNejcD0Kz9JA",
          "dtype": "f8"
         },
         "yaxis": "y"
        }
       ],
       "layout": {
        "barmode": "relative",
        "coloraxis": {
         "colorbar": {
          "title": {
           "text": "Ticket_Promedio"
          }
         },
         "colorscale": [
          [
           0,
           "#0d0887"
          ],
          [
           0.1111111111111111,
           "#46039f"
          ],
          [
           0.2222222222222222,
           "#7201a8"
          ],
          [
           0.3333333333333333,
           "#9c179e"
          ],
          [
           0.4444444444444444,
           "#bd3786"
          ],
          [
           0.5555555555555556,
           "#d8576b"
          ],
          [
           0.6666666666666666,
           "#ed7953"
          ],
          [
           0.7777777777777778,
           "#fb9f3a"
          ],
          [
           0.8888888888888888,
           "#fdca26"
          ],
          [
           1,
           "#f0f921"
          ]
         ]
        },
        "legend": {
         "tracegroupgap": 0
        },
        "template": {
         "data": {
          "bar": [
           {
            "error_x": {
             "color": "#2a3f5f"
            },
            "error_y": {
             "color": "#2a3f5f"
            },
            "marker": {
             "line": {
              "color": "white",
              "width": 0.5
             },
             "pattern": {
              "fillmode": "overlay",
              "size": 10,
              "solidity": 0.2
             }
            },
            "type": "bar"
           }
          ],
          "barpolar": [
           {
            "marker": {
             "line": {
              "color": "white",
              "width": 0.5
             },
             "pattern": {
              "fillmode": "overlay",
              "size": 10,
              "solidity": 0.2
             }
            },
            "type": "barpolar"
           }
          ],
          "carpet": [
           {
            "aaxis": {
             "endlinecolor": "#2a3f5f",
             "gridcolor": "#C8D4E3",
             "linecolor": "#C8D4E3",
             "minorgridcolor": "#C8D4E3",
             "startlinecolor": "#2a3f5f"
            },
            "baxis": {
             "endlinecolor": "#2a3f5f",
             "gridcolor": "#C8D4E3",
             "linecolor": "#C8D4E3",
             "minorgridcolor": "#C8D4E3",
             "startlinecolor": "#2a3f5f"
            },
            "type": "carpet"
           }
          ],
          "choropleth": [
           {
            "colorbar": {
             "outlinewidth": 0,
             "ticks": ""
            },
            "type": "choropleth"
           }
          ],
          "contour": [
           {
            "colorbar": {
             "outlinewidth": 0,
             "ticks": ""
            },
            "colorscale": [
             [
              0,
              "#0d0887"
             ],
             [
              0.1111111111111111,
              "#46039f"
             ],
             [
              0.2222222222222222,
              "#7201a8"
             ],
             [
              0.3333333333333333,
              "#9c179e"
             ],
             [
              0.4444444444444444,
              "#bd3786"
             ],
             [
              0.5555555555555556,
              "#d8576b"
             ],
             [
              0.6666666666666666,
              "#ed7953"
             ],
             [
              0.7777777777777778,
              "#fb9f3a"
             ],
             [
              0.8888888888888888,
              "#fdca26"
             ],
             [
              1,
              "#f0f921"
             ]
            ],
            "type": "contour"
           }
          ],
          "contourcarpet": [
           {
            "colorbar": {
             "outlinewidth": 0,
             "ticks": ""
            },
            "type": "contourcarpet"
           }
          ],
          "heatmap": [
           {
            "colorbar": {
             "outlinewidth": 0,
             "ticks": ""
            },
            "colorscale": [
             [
              0,
              "#0d0887"
             ],
             [
              0.1111111111111111,
              "#46039f"
             ],
             [
              0.2222222222222222,
              "#7201a8"
             ],
             [
              0.3333333333333333,
              "#9c179e"
             ],
             [
              0.4444444444444444,
              "#bd3786"
             ],
             [
              0.5555555555555556,
              "#d8576b"
             ],
             [
              0.6666666666666666,
              "#ed7953"
             ],
             [
              0.7777777777777778,
              "#fb9f3a"
             ],
             [
              0.8888888888888888,
              "#fdca26"
             ],
             [
              1,
              "#f0f921"
             ]
            ],
            "type": "heatmap"
           }
          ],
          "histogram": [
           {
            "marker": {
             "pattern": {
              "fillmode": "overlay",
              "size": 10,
              "solidity": 0.2
             }
            },
            "type": "histogram"
           }
          ],
          "histogram2d": [
           {
            "colorbar": {
             "outlinewidth": 0,
             "ticks": ""
            },
            "colorscale": [
             [
              0,
              "#0d0887"
             ],
             [
              0.1111111111111111,
              "#46039f"
             ],
             [
              0.2222222222222222,
              "#7201a8"
             ],
             [
              0.3333333333333333,
              "#9c179e"
             ],
             [
              0.4444444444444444,
              "#bd3786"
             ],
             [
              0.5555555555555556,
              "#d8576b"
             ],
             [
              0.6666666666666666,
              "#ed7953"
             ],
             [
              0.7777777777777778,
              "#fb9f3a"
             ],
             [
              0.8888888888888888,
              "#fdca26"
             ],
             [
              1,
              "#f0f921"
             ]
            ],
            "type": "histogram2d"
           }
          ],
          "histogram2dcontour": [
           {
            "colorbar": {
             "outlinewidth": 0,
             "ticks": ""
            },
            "colorscale": [
             [
              0,
              "#0d0887"
             ],
             [
              0.1111111111111111,
              "#46039f"
             ],
             [
              0.2222222222222222,
              "#7201a8"
             ],
             [
              0.3333333333333333,
              "#9c179e"
             ],
             [
              0.4444444444444444,
              "#bd3786"
             ],
             [
              0.5555555555555556,
              "#d8576b"
             ],
             [
              0.6666666666666666,
              "#ed7953"
             ],
             [
              0.7777777777777778,
              "#fb9f3a"
             ],
             [
              0.8888888888888888,
              "#fdca26"
             ],
             [
              1,
              "#f0f921"
             ]
            ],
            "type": "histogram2dcontour"
           }
          ],
          "mesh3d": [
           {
            "colorbar": {
             "outlinewidth": 0,
             "ticks": ""
            },
            "type": "mesh3d"
           }
          ],
          "parcoords": [
           {
            "line": {
             "colorbar": {
              "outlinewidth": 0,
              "ticks": ""
             }
            },
            "type": "parcoords"
           }
          ],
          "pie": [
           {
            "automargin": true,
            "type": "pie"
           }
          ],
          "scatter": [
           {
            "fillpattern": {
             "fillmode": "overlay",
             "size": 10,
             "solidity": 0.2
            },
            "type": "scatter"
           }
          ],
          "scatter3d": [
           {
            "line": {
             "colorbar": {
              "outlinewidth": 0,
              "ticks": ""
             }
            },
            "marker": {
             "colorbar": {
              "outlinewidth": 0,
              "ticks": ""
             }
            },
            "type": "scatter3d"
           }
          ],
          "scattercarpet": [
           {
            "marker": {
             "colorbar": {
              "outlinewidth": 0,
              "ticks": ""
             }
            },
            "type": "scattercarpet"
           }
          ],
          "scattergeo": [
           {
            "marker": {
             "colorbar": {
              "outlinewidth": 0,
              "ticks": ""
             }
            },
            "type": "scattergeo"
           }
          ],
          "scattergl": [
           {
            "marker": {
             "colorbar": {
              "outlinewidth": 0,
              "ticks": ""
             }
            },
            "type": "scattergl"
           }
          ],
          "scattermap": [
           {
            "marker": {
             "colorbar": {
              "outlinewidth": 0,
              "ticks": ""
             }
            },
            "type": "scattermap"
           }
          ],
          "scattermapbox": [
           {
            "marker": {
             "colorbar": {
              "outlinewidth": 0,
              "ticks": ""
             }
            },
            "type": "scattermapbox"
           }
          ],
          "scatterpolar": [
           {
            "marker": {
             "colorbar": {
              "outlinewidth": 0,
              "ticks": ""
             }
            },
            "type": "scatterpolar"
           }
          ],
          "scatterpolargl": [
           {
            "marker": {
             "colorbar": {
              "outlinewidth": 0,
              "ticks": ""
             }
            },
            "type": "scatterpolargl"
           }
          ],
          "scatterternary": [
           {
            "marker": {
             "colorbar": {
              "outlinewidth": 0,
              "ticks": ""
             }
            },
            "type": "scatterternary"
           }
          ],
          "surface": [
           {
            "colorbar": {
             "outlinewidth": 0,
             "ticks": ""
            },
            "colorscale": [
             [
              0,
              "#0d0887"
             ],
             [
              0.1111111111111111,
              "#46039f"
             ],
             [
              0.2222222222222222,
              "#7201a8"
             ],
             [
              0.3333333333333333,
              "#9c179e"
             ],
             [
              0.4444444444444444,
              "#bd3786"
             ],
             [
              0.5555555555555556,
              "#d8576b"
             ],
             [
              0.6666666666666666,
              "#ed7953"
             ],
             [
              0.7777777777777778,
              "#fb9f3a"
             ],
             [
              0.8888888888888888,
              "#fdca26"
             ],
             [
              1,
              "#f0f921"
             ]
            ],
            "type": "surface"
           }
          ],
          "table": [
           {
            "cells": {
             "fill": {
              "color": "#EBF0F8"
             },
             "line": {
              "color": "white"
             }
            },
            "header": {
             "fill": {
              "color": "#C8D4E3"
             },
             "line": {
              "color": "white"
             }
            },
            "type": "table"
           }
          ]
         },
         "layout": {
          "annotationdefaults": {
           "arrowcolor": "#2a3f5f",
           "arrowhead": 0,
           "arrowwidth": 1
          },
          "autotypenumbers": "strict",
          "coloraxis": {
           "colorbar": {
            "outlinewidth": 0,
            "ticks": ""
           }
          },
          "colorscale": {
           "diverging": [
            [
             0,
             "#8e0152"
            ],
            [
             0.1,
             "#c51b7d"
            ],
            [
             0.2,
             "#de77ae"
            ],
            [
             0.3,
             "#f1b6da"
            ],
            [
             0.4,
             "#fde0ef"
            ],
            [
             0.5,
             "#f7f7f7"
            ],
            [
             0.6,
             "#e6f5d0"
            ],
            [
             0.7,
             "#b8e186"
            ],
            [
             0.8,
             "#7fbc41"
            ],
            [
             0.9,
             "#4d9221"
            ],
            [
             1,
             "#276419"
            ]
           ],
           "sequential": [
            [
             0,
             "#0d0887"
            ],
            [
             0.1111111111111111,
             "#46039f"
            ],
            [
             0.2222222222222222,
             "#7201a8"
            ],
            [
             0.3333333333333333,
             "#9c179e"
            ],
            [
             0.4444444444444444,
             "#bd3786"
            ],
            [
             0.5555555555555556,
             "#d8576b"
            ],
            [
             0.6666666666666666,
             "#ed7953"
            ],
            [
             0.7777777777777778,
             "#fb9f3a"
            ],
            [
             0.8888888888888888,
             "#fdca26"
            ],
            [
             1,
             "#f0f921"
            ]
           ],
           "sequentialminus": [
            [
             0,
             "#0d0887"
            ],
            [
             0.1111111111111111,
             "#46039f"
            ],
            [
             0.2222222222222222,
             "#7201a8"
            ],
            [
             0.3333333333333333,
             "#9c179e"
            ],
            [
             0.4444444444444444,
             "#bd3786"
            ],
            [
             0.5555555555555556,
             "#d8576b"
            ],
            [
             0.6666666666666666,
             "#ed7953"
            ],
            [
             0.7777777777777778,
             "#fb9f3a"
            ],
            [
             0.8888888888888888,
             "#fdca26"
            ],
            [
             1,
             "#f0f921"
            ]
           ]
          },
          "colorway": [
           "#636efa",
           "#EF553B",
           "#00cc96",
           "#ab63fa",
           "#FFA15A",
           "#19d3f3",
           "#FF6692",
           "#B6E880",
           "#FF97FF",
           "#FECB52"
          ],
          "font": {
           "color": "#2a3f5f"
          },
          "geo": {
           "bgcolor": "white",
           "lakecolor": "white",
           "landcolor": "white",
           "showlakes": true,
           "showland": true,
           "subunitcolor": "#C8D4E3"
          },
          "hoverlabel": {
           "align": "left"
          },
          "hovermode": "closest",
          "mapbox": {
           "style": "light"
          },
          "paper_bgcolor": "white",
          "plot_bgcolor": "white",
          "polar": {
           "angularaxis": {
            "gridcolor": "#EBF0F8",
            "linecolor": "#EBF0F8",
            "ticks": ""
           },
           "bgcolor": "white",
           "radialaxis": {
            "gridcolor": "#EBF0F8",
            "linecolor": "#EBF0F8",
            "ticks": ""
           }
          },
          "scene": {
           "xaxis": {
            "backgroundcolor": "white",
            "gridcolor": "#DFE8F3",
            "gridwidth": 2,
            "linecolor": "#EBF0F8",
            "showbackground": true,
            "ticks": "",
            "zerolinecolor": "#EBF0F8"
           },
           "yaxis": {
            "backgroundcolor": "white",
            "gridcolor": "#DFE8F3",
            "gridwidth": 2,
            "linecolor": "#EBF0F8",
            "showbackground": true,
            "ticks": "",
            "zerolinecolor": "#EBF0F8"
           },
           "zaxis": {
            "backgroundcolor": "white",
            "gridcolor": "#DFE8F3",
            "gridwidth": 2,
            "linecolor": "#EBF0F8",
            "showbackground": true,
            "ticks": "",
            "zerolinecolor": "#EBF0F8"
           }
          },
          "shapedefaults": {
           "line": {
            "color": "#2a3f5f"
           }
          },
          "ternary": {
           "aaxis": {
            "gridcolor": "#DFE8F3",
            "linecolor": "#A2B1C6",
            "ticks": ""
           },
           "baxis": {
            "gridcolor": "#DFE8F3",
            "linecolor": "#A2B1C6",
            "ticks": ""
           },
           "bgcolor": "white",
           "caxis": {
            "gridcolor": "#DFE8F3",
            "linecolor": "#A2B1C6",
            "ticks": ""
           }
          },
          "title": {
           "x": 0.05
          },
          "xaxis": {
           "automargin": true,
           "gridcolor": "#EBF0F8",
           "linecolor": "#EBF0F8",
           "ticks": "",
           "title": {
            "standoff": 15
           },
           "zerolinecolor": "#EBF0F8",
           "zerolinewidth": 2
          },
          "yaxis": {
           "automargin": true,
           "gridcolor": "#EBF0F8",
           "linecolor": "#EBF0F8",
           "ticks": "",
           "title": {
            "standoff": 15
           },
           "zerolinecolor": "#EBF0F8",
           "zerolinewidth": 2
          }
         }
        },
        "title": {
         "text": "Ticket Promedio por Ciudad"
        },
        "xaxis": {
         "anchor": "y",
         "domain": [
          0,
          1
         ],
         "title": {
          "text": "ciudad"
         }
        },
        "yaxis": {
         "anchor": "x",
         "domain": [
          0,
          1
         ],
         "title": {
          "text": "Ticket Promedio ($)"
         }
        }
       }
      }
     },
     "metadata": {},
     "output_type": "display_data"
    }
   ],
   "source": [
    "print(\"--- TICKET PROMEDIO POR CIUDAD ---\")\n",
    "\n",
    "# 1. Agrupar por ciudad y calcular el importe total y el número total de ventas\n",
    "df_ticket = data.groupby('ciudad').agg(\n",
    "    importe_total=('importe', 'sum'),\n",
    "    numero_ventas=('id_venta', 'nunique')\n",
    ").reset_index()\n",
    "\n",
    "# 2. Calcular el ticket promedio (AOV)\n",
    "df_ticket['Ticket_Promedio'] = df_ticket['importe_total'] / df_ticket['numero_ventas']\n",
    "\n",
    "# 3. Ordenar y mostrar resultados\n",
    "df_ticket.sort_values(by='Ticket_Promedio', ascending=False, inplace=True)\n",
    "\n",
    "print(\"Ticket Promedio por Ciudad:\")\n",
    "print(df_ticket[['ciudad', 'Ticket_Promedio', 'numero_ventas']].to_markdown(index=False, floatfmt=\".2f\"))\n",
    "\n",
    "# Opcional: Visualización\n",
    "fig_ticket = px.bar(\n",
    "    df_ticket, \n",
    "    x='ciudad', \n",
    "    y='Ticket_Promedio', \n",
    "    title='Ticket Promedio por Ciudad',\n",
    "    color='Ticket_Promedio',\n",
    "    template='plotly_white'\n",
    ").update_layout(yaxis_title=\"Ticket Promedio ($)\")\n",
    "fig_ticket.show()"
   ]
  },
  {
   "cell_type": "markdown",
   "id": "79418b24",
   "metadata": {},
   "source": [
    "- ¿Que productos se venden mejor juntos? Análisis de Cesta de la Compra "
   ]
  },
  {
   "cell_type": "code",
   "execution_count": 39,
   "id": "524633a5",
   "metadata": {},
   "outputs": [
    {
     "name": "stdout",
     "output_type": "stream",
     "text": [
      "--- PRODUCTOS QUE SE VENDEN MEJOR JUNTOS (APRIORI) ---\n",
      "DataFrame transformado a formato de cesta de la compra (Filas=Ventas, Columnas=Productos): (120, 95)\n",
      "\n",
      "Top 5 Reglas de Asociación (Productos que se Venden Mejor Juntos):\n",
      "| Producto_Antecedente    | Producto_Consecuente    |   support |   confidence |   lift |\n",
      "|:------------------------|:------------------------|----------:|-------------:|-------:|\n",
      "| Cerveza Negra 1L        | Coca Cola 1.5L          |     0.017 |        0.400 | 24.000 |\n",
      "| Coca Cola 1.5L          | Cerveza Negra 1L        |     0.017 |        1.000 | 24.000 |\n",
      "| Crema Dental 90g        | Queso Azul 150g         |     0.017 |        0.500 | 20.000 |\n",
      "| Queso Azul 150g         | Crema Dental 90g        |     0.017 |        0.667 | 20.000 |\n",
      "| Verduras Congeladas Mix | Jugo de Manzana 1L      |     0.017 |        0.667 | 20.000 |\n",
      "| Jugo de Manzana 1L      | Verduras Congeladas Mix |     0.017 |        0.500 | 20.000 |\n",
      "| Garbanzos 500g          | Trapo de Piso           |     0.017 |        0.500 | 15.000 |\n",
      "| Trapo de Piso           | Garbanzos 500g          |     0.017 |        0.500 | 15.000 |\n",
      "| Vino Blanco 750ml       | Azúcar 1kg              |     0.017 |        0.500 | 15.000 |\n",
      "| Azúcar 1kg              | Vino Blanco 750ml       |     0.017 |        0.500 | 15.000 |\n"
     ]
    },
    {
     "name": "stderr",
     "output_type": "stream",
     "text": [
      "C:\\Users\\mseca\\AppData\\Local\\Temp\\ipykernel_11876\\841240139.py:21: FutureWarning:\n",
      "\n",
      "DataFrame.applymap has been deprecated. Use DataFrame.map instead.\n",
      "\n",
      "c:\\Users\\mseca\\OneDrive\\Documents\\Fundamentos de Inteligencia Artificial-Guayerd\\Sprint 1\\Sprint_1\\MSeca_Proyecto_Aurelion\\env\\Lib\\site-packages\\mlxtend\\frequent_patterns\\fpcommon.py:161: DeprecationWarning:\n",
      "\n",
      "DataFrames with non-bool types result in worse computationalperformance and their support might be discontinued in the future.Please use a DataFrame with bool type\n",
      "\n",
      "C:\\Users\\mseca\\AppData\\Local\\Temp\\ipykernel_11876\\841240139.py:40: SettingWithCopyWarning:\n",
      "\n",
      "\n",
      "A value is trying to be set on a copy of a slice from a DataFrame\n",
      "\n",
      "See the caveats in the documentation: https://pandas.pydata.org/pandas-docs/stable/user_guide/indexing.html#returning-a-view-versus-a-copy\n",
      "\n"
     ]
    }
   ],
   "source": [
    "# Productos que se Venden Mejor Juntos (Reglas de Asociación)\n",
    "\n",
    "from mlxtend.frequent_patterns import apriori\n",
    "from mlxtend.frequent_patterns import association_rules\n",
    "\n",
    "print(\"--- PRODUCTOS QUE SE VENDEN MEJOR JUNTOS (APRIORI) ---\")\n",
    "\n",
    "# 1. Transformación de Datos (Formato de Cesta de la Compra)\n",
    "# Necesitamos una matriz donde las filas sean las ventas (id_venta) y las columnas los productos.\n",
    "\n",
    "# Agrupamos los datos por id_venta y nombre_producto, y establecemos la cantidad a 1\n",
    "df_cesta = data.groupby(['id_venta', 'nombre_producto'])['cantidad'].sum().unstack().reset_index().fillna(0).set_index('id_venta')\n",
    "\n",
    "# Función para convertir las cantidades a formato binario (1 si se vendió, 0 si no)\n",
    "def encode_unidades(x):\n",
    "    if x <= 0:\n",
    "        return 0\n",
    "    if x >= 1:\n",
    "        return 1\n",
    "\n",
    "df_cesta_binaria = df_cesta.applymap(encode_unidades)\n",
    "print(f\"DataFrame transformado a formato de cesta de la compra (Filas=Ventas, Columnas=Productos): {df_cesta_binaria.shape}\")\n",
    "\n",
    "# 2. Aplicación del Algoritmo Apriori\n",
    "# min_support: Frecuencia mínima con la que debe aparecer un conjunto de productos.\n",
    "frequent_itemsets = apriori(df_cesta_binaria, min_support=0.01, use_colnames=True)\n",
    "\n",
    "# 3. Generación de Reglas de Asociación\n",
    "# metric='lift': Mide qué tan mejor se venden juntos los productos que por separado (>1 es bueno).\n",
    "# min_threshold: Se requiere un lift mínimo de 1.1 para ser relevante.\n",
    "rules = association_rules(frequent_itemsets, metric=\"lift\", min_threshold=1.1)\n",
    "\n",
    "# 4. Mostrar las reglas más relevantes\n",
    "# Conviertemos los conjuntos de productos (frozenset) a cadenas legibles\n",
    "rules['Producto_Antecedente'] = rules['antecedents'].apply(lambda x: ', '.join(list(x)))\n",
    "rules['Producto_Consecuente'] = rules['consequents'].apply(lambda x: ', '.join(list(x)))\n",
    "\n",
    "# Seleccionamos las columnas clave y ordenamos por lift\n",
    "df_reglas_final = rules[['Producto_Antecedente', 'Producto_Consecuente', 'support', 'confidence', 'lift']]\n",
    "df_reglas_final.sort_values(by='lift', ascending=False, inplace=True)\n",
    "\n",
    "print(\"\\nTop 5 Reglas de Asociación (Productos que se Venden Mejor Juntos):\")\n",
    "print(df_reglas_final.head(10).to_markdown(index=False, floatfmt=\".3f\"))"
   ]
  },
  {
   "cell_type": "markdown",
   "id": "8e3e79f6",
   "metadata": {},
   "source": [
    "3. Comerciales\n",
    "- ¿Quiénes son mis clientes más valiosos?"
   ]
  },
  {
   "cell_type": "code",
   "execution_count": 43,
   "id": "93ef9dd0",
   "metadata": {},
   "outputs": [
    {
     "name": "stdout",
     "output_type": "stream",
     "text": [
      "--- 2. CLUSTERING K-MEANS Y ETIQUETADO (CORREGIDO) ---\n",
      "Segmentación basada en centroides de K-Means completada.\n",
      "--------------------------------------------------\n",
      "PREGUNTA 1: LISTA DE CLIENTES MÁS VALIOSOS (Clientes VIP) - CORREGIDO\n",
      "Total Clientes VIP/Campeones identificados: 7\n",
      "| nombre_cliente   | email                     |   Recencia |   Frecuencia |   Monetario |\n",
      "|:-----------------|:--------------------------|-----------:|-------------:|------------:|\n",
      "| Agustina Flores  | agustina.flores@mail.com  |          4 |            4 |   132158.00 |\n",
      "| Bruno Diaz       | bruno.diaz@mail.com       |          2 |            5 |    90701.00 |\n",
      "| Diego Diaz       | diego.diaz@mail.com       |         32 |            3 |    90522.00 |\n",
      "| Olivia Gomez     | olivia.gomez@mail.com     |        104 |            4 |    71321.00 |\n",
      "| Camila Rodriguez | camila.rodriguez@mail.com |         69 |            4 |    65001.00 |\n",
      "| Santiago Diaz    | santiago.diaz@mail.com    |         13 |            4 |    64786.00 |\n",
      "| Tomas Flores     | tomas.flores@mail.com     |         44 |            4 |    60317.00 |\n",
      "\n",
      "--- Perfiles de Cluster (Centroides Promedio) ---\n",
      "| Nombre_Segmento           |   Recencia_Promedio |   Frecuencia_Promedio |   Monetario_Promedio |   Num_Clientes |\n",
      "|:--------------------------|--------------------:|----------------------:|---------------------:|---------------:|\n",
      "| Clientes VIP/Campeones ⭐ |               38.29 |                  4.00 |             82115.14 |              7 |\n",
      "| Clientes en Riesgo ⚠️     |              131.00 |                  1.73 |             49756.00 |             11 |\n",
      "| Cluster K-Means 1         |               26.52 |                  1.80 |             41789.88 |             25 |\n",
      "| Cluster K-Means 3         |              113.17 |                  1.17 |             20189.50 |             24 |\n"
     ]
    }
   ],
   "source": [
    "from sklearn.preprocessing import StandardScaler\n",
    "from sklearn.cluster import KMeans\n",
    "\n",
    "# =======================================================\n",
    "# 1. PREPROCESAMIENTO Y CÁLCULO RFM (Sin cambios)\n",
    "# =======================================================\n",
    "\n",
    "# Asumo que 'data' ya está cargado con tus datos de ventas\n",
    "# Si no lo está, asegúrate de cargarlo, por ejemplo:\n",
    "# data = pd.read_csv('ventas_procesadas.csv') \n",
    "\n",
    "# Conversión y limpieza de fechas\n",
    "columnas_a_eliminar = [col for col in data.columns if col.endswith('_right')]\n",
    "data = data.drop(columns=columnas_a_eliminar, errors='ignore') \n",
    "\n",
    "# Cálculo de Métricas RFM (Recencia, Frecuencia, Monetario)\n",
    "fecha_referencia = data['fecha_venta'].max() + pd.Timedelta(days=1)\n",
    "df_rfm = data.groupby('id_cliente').agg(\n",
    "    Recencia=('fecha_venta', lambda x: (fecha_referencia - x.max()).days),\n",
    "    Frecuencia=('id_venta', 'nunique'),\n",
    "    Monetario=('importe', 'sum'),\n",
    "    nombre_cliente=('nombre_cliente', 'first'),\n",
    "    email=('email', 'first')\n",
    ").reset_index()\n",
    "\n",
    "\n",
    "# =======================================================\n",
    "# 2. CLUSTERING K-MEANS Y ETIQUETADO (CORREGIDO)\n",
    "# =======================================================\n",
    "\n",
    "print(\"--- 2. CLUSTERING K-MEANS Y ETIQUETADO (CORREGIDO) ---\")\n",
    "X_rfm = df_rfm[['Recencia', 'Frecuencia', 'Monetario']]\n",
    "scaler = StandardScaler()\n",
    "X_rfm_scaled = scaler.fit_transform(X_rfm)\n",
    "\n",
    "K_OPT = 4\n",
    "kmeans_final = KMeans(n_clusters=K_OPT, random_state=42, n_init='auto')\n",
    "kmeans_final.fit(X_rfm_scaled)\n",
    "df_rfm['Cluster'] = kmeans_final.labels_\n",
    "\n",
    "# --- LÓGICA DE ETIQUETADO BASADA EN CENTROIDES (CORRECCIÓN CLAVE) ---\n",
    "\n",
    "# a. Desnormalizar los Centroides de K-Means\n",
    "centroides_scaled = pd.DataFrame(kmeans_final.cluster_centers_, columns=X_rfm.columns)\n",
    "centroides_desescalados = scaler.inverse_transform(centroides_scaled)\n",
    "df_centroides = pd.DataFrame(centroides_desescalados, columns=X_rfm.columns)\n",
    "df_centroides['Cluster'] = df_centroides.index\n",
    "\n",
    "# b. Calcular un 'Puntaje de Valor' basado en los rangos de los centroides\n",
    "# Se usa el ranking para identificar el perfil VIP de manera robusta.\n",
    "# La Recencia debe tener un rank inverso (menor Recencia es mejor)\n",
    "df_centroides['R_Rank'] = df_centroides['Recencia'].rank(ascending=True)  # El valor más bajo tiene el rango 1 (mejor)\n",
    "df_centroides['F_Rank'] = df_centroides['Frecuencia'].rank(ascending=False) # El valor más alto tiene el rango 1 (mejor)\n",
    "df_centroides['M_Rank'] = df_centroides['Monetario'].rank(ascending=False) # El valor más alto tiene el rango 1 (mejor)\n",
    "\n",
    "# Un puntaje bajo indica un mejor perfil RFM (VIP)\n",
    "df_centroides['Puntaje_Valor'] = df_centroides['R_Rank'] + df_centroides['F_Rank'] + df_centroides['M_Rank']\n",
    "\n",
    "# c. Asignar etiquetas comerciales\n",
    "# Identificar el VIP (Puntaje_Valor más bajo)\n",
    "cluster_vip = df_centroides.sort_values(by='Puntaje_Valor', ascending=True).iloc[0]['Cluster']\n",
    "\n",
    "# Identificar Clientes en Riesgo (Recencia más alta, peor Recencia)\n",
    "cluster_en_riesgo = df_centroides.sort_values(by='Recencia', ascending=False).iloc[0]['Cluster']\n",
    "\n",
    "# Crear el mapeo de nombres\n",
    "mapa_segmentos = {}\n",
    "for idx, row in df_centroides.iterrows():\n",
    "    if row['Cluster'] == cluster_vip:\n",
    "        mapa_segmentos[idx] = 'Clientes VIP/Campeones ⭐'\n",
    "    elif row['Cluster'] == cluster_en_riesgo:\n",
    "        mapa_segmentos[idx] = 'Clientes en Riesgo ⚠️'\n",
    "    else:\n",
    "        # Se pueden refinar las etiquetas restantes (Ej: Fieles, Potenciales)\n",
    "        mapa_segmentos[idx] = f'Cluster K-Means {idx}'\n",
    "\n",
    "# Aplicar la nueva columna de segmento\n",
    "df_rfm['Nombre_Segmento'] = df_rfm['Cluster'].map(mapa_segmentos)\n",
    "\n",
    "print(\"Segmentación basada en centroides de K-Means completada.\")\n",
    "print(\"-\" * 50)\n",
    "\n",
    "\n",
    "# =======================================================\n",
    "# 3. RESPUESTA Q1: ¿Quiénes son mis clientes más valiosos? (CORREGIDA)\n",
    "# =======================================================\n",
    "\n",
    "print(\"PREGUNTA 1: LISTA DE CLIENTES MÁS VALIOSOS (Clientes VIP) - CORREGIDO\")\n",
    "clientes_vip = df_rfm[df_rfm['Nombre_Segmento'] == 'Clientes VIP/Campeones ⭐'].copy()\n",
    "lista_vip = clientes_vip[['nombre_cliente', 'email', 'Recencia', 'Frecuencia', 'Monetario']].sort_values(by='Monetario', ascending=False)\n",
    "print(f\"Total Clientes VIP/Campeones identificados: {len(lista_vip)}\")\n",
    "print(lista_vip.to_markdown(index=False, floatfmt=\".2f\"))\n",
    "\n",
    "# OPCIONAL: Mostrar el Perfil de los Segmentos para verificación\n",
    "print(\"\\n--- Perfiles de Cluster (Centroides Promedio) ---\")\n",
    "df_perfil_corregido = df_rfm.groupby('Nombre_Segmento').agg(\n",
    "    Recencia_Promedio=('Recencia', 'mean'),\n",
    "    Frecuencia_Promedio=('Frecuencia', 'mean'),\n",
    "    Monetario_Promedio=('Monetario', 'mean'),\n",
    "    Num_Clientes=('id_cliente', 'count')\n",
    ").reset_index().sort_values(by='Monetario_Promedio', ascending=False)\n",
    "print(df_perfil_corregido.to_markdown(index=False, floatfmt=\".2f\"))"
   ]
  },
  {
   "cell_type": "markdown",
   "id": "d5ec49ba",
   "metadata": {},
   "source": [
    "- ¿Qué clientes están en riesgo de fuga?"
   ]
  },
  {
   "cell_type": "code",
   "execution_count": null,
   "id": "f508c12c",
   "metadata": {},
   "outputs": [
    {
     "name": "stdout",
     "output_type": "stream",
     "text": [
      "PREGUNTA 2: LISTA DE CLIENTES EN RIESGO DE FUGA\n",
      "Total Clientes en Riesgo identificados: 33\n",
      "| nombre_cliente    | email                      |   Recencia |   Frecuencia |   Monetario |\n",
      "|:------------------|:---------------------------|-----------:|-------------:|------------:|\n",
      "| Bruno Castro      | bruno.castro@mail.com      |        172 |            1 |    61503.00 |\n",
      "| Bruno Castro      | bruno.castro2@mail.com     |        171 |            1 |    57287.00 |\n",
      "| Lucas Perez       | lucas.perez@mail.com       |        169 |            1 |    16084.00 |\n",
      "| Pablo Gomez       | pablo.gomez@mail.com       |        163 |            1 |     7752.00 |\n",
      "| Rocio Silva       | rocio.silva@mail.com       |        162 |            1 |    15308.00 |\n",
      "| Guadalupe Ruiz    | guadalupe.ruiz@mail.com    |        152 |            1 |    26593.00 |\n",
      "| Felipe Ruiz       | felipe.ruiz@mail.com       |        151 |            1 |    53828.00 |\n",
      "| Pablo Sanchez     | pablo.sanchez@mail.com     |        141 |            2 |    67575.00 |\n",
      "| Rocio Alvarez     | rocio.alvarez@mail.com     |        138 |            2 |    26403.00 |\n",
      "| Uma Medina        | uma.medina@mail.com        |        137 |            2 |    48878.00 |\n",
      "| Hernan Martinez   | hernan.martinez@mail.com   |        134 |            1 |    33310.00 |\n",
      "| Felipe Castro     | felipe.castro@mail.com     |        133 |            1 |    36639.00 |\n",
      "| Helena Fernandez  | helena.fernandez@mail.com  |        132 |            1 |    19825.00 |\n",
      "| Elena Rodriguez   | elena.rodriguez@mail.com   |        129 |            1 |    20048.00 |\n",
      "| Franco Gomez      | franco.gomez@mail.com      |        127 |            1 |    16531.00 |\n",
      "| Camila Sanchez    | camila.sanchez@mail.com    |        125 |            2 |    31134.00 |\n",
      "| Martina Molina    | martina.molina@mail.com    |        123 |            1 |    15966.00 |\n",
      "| Gael Rojas        | gael.rojas@mail.com        |        118 |            1 |    35760.00 |\n",
      "| Elena Rodriguez   | elena.rodriguez2@mail.com  |        115 |            2 |    40804.00 |\n",
      "| Karina Acosta     | karina.acosta2@mail.com    |        114 |            2 |    21839.00 |\n",
      "| Camila Castro     | camila.castro@mail.com     |        113 |            1 |    10864.00 |\n",
      "| Diego Fernandez   | diego.fernandez@mail.com   |        113 |            1 |     4283.00 |\n",
      "| Agustina Gomez    | agustina.gomez@mail.com    |        108 |            2 |     9800.00 |\n",
      "| Olivia Gomez      | olivia.gomez@mail.com      |        104 |            4 |    71321.00 |\n",
      "| Tomas Herrera     | tomas.herrera@mail.com     |        100 |            2 |    45616.00 |\n",
      "| Lucas Lopez       | lucas.lopez@mail.com       |         97 |            1 |     7710.00 |\n",
      "| Uma Herrera       | uma.herrera@mail.com       |         96 |            1 |    21270.00 |\n",
      "| Agustina Martinez | agustina.martinez@mail.com |         96 |            2 |    18292.00 |\n",
      "| Yamila Molina     | yamila.molina@mail.com     |         96 |            2 |    41840.00 |\n",
      "| Mariana Lopez     | mariana.lopez@mail.com     |         95 |            2 |    72448.00 |\n",
      "| Ivana Torres      | ivana.torres@mail.com      |         92 |            1 |    20544.00 |\n",
      "| Tomas Acosta      | tomas.acosta@mail.com      |         80 |            2 |    27723.00 |\n",
      "| Nicolas Rojas     | nicolas.rojas@mail.com     |         78 |            1 |    22150.00 |\n"
     ]
    }
   ],
   "source": [
    "# RESPUESTA Q2: ¿Qué clientes están en riesgo de fuga?\n",
    "print(\"PREGUNTA 2: LISTA DE CLIENTES EN RIESGO DE FUGA\")\n",
    "\n",
    "# Filtrar el DataFrame por el segmento 'Clientes en Riesgo ⚠️'\n",
    "clientes_riesgo = df_rfm[df_rfm['Nombre_Segmento'] == 'Clientes en Riesgo ⚠️'].copy()\n",
    "\n",
    "# Mostrar la lista ordenada por Recencia (los que tienen más días sin comprar son la prioridad)\n",
    "lista_riesgo = clientes_riesgo[['nombre_cliente', 'email', 'Recencia', 'Frecuencia', 'Monetario']].sort_values(by='Recencia', ascending=False)\n",
    "print(f\"Total Clientes en Riesgo identificados: {len(lista_riesgo)}\")\n",
    "print(lista_riesgo.to_markdown(index=False, floatfmt=\".2f\"))"
   ]
  },
  {
   "cell_type": "markdown",
   "id": "1f7b6803",
   "metadata": {},
   "source": [
    "- ¿Qué segmentos de clientes son más rentables? \n",
    "Se realizara mediante el análisis de los Centroides (promedios) de cada grupo."
   ]
  },
  {
   "cell_type": "code",
   "execution_count": null,
   "id": "1ed4ae3d",
   "metadata": {},
   "outputs": [
    {
     "name": "stdout",
     "output_type": "stream",
     "text": [
      "PREGUNTA 3: PERFIL DE RENTABILIDAD POR SEGMENTO (CENTROIDES)\n",
      "Perfil Promedio de los Segmentos (Ordenado por Gasto Promedio):\n",
      "| Nombre_Segmento       |   Recencia_Promedio |   Frecuencia_Promedio |   Monetario_Promedio |   Num_Clientes |\n",
      "|:----------------------|--------------------:|----------------------:|---------------------:|---------------:|\n",
      "| Clientes VIP ⭐       |               28.35 |                  2.76 |             66663.12 |             17 |\n",
      "| Clientes en Riesgo ⚠️ |              123.45 |                  1.45 |             31119.03 |             33 |\n",
      "| Otros Segmentos       |               31.29 |                  1.47 |             28895.06 |             17 |\n",
      "\n",
      "CONCLUSIÓN COMERCIAL:\n",
      "1. El segmento 'Clientes VIP ⭐' es el más rentable y valioso.\n",
      "2. El segmento 'Otros Segmentos' tiene el segundo gasto más alto, pero su alto Recencia (días sin comprar) indica que es un grupo heterogéneo con alto riesgo de pasar a ser 'Clientes Perdidos'.\n"
     ]
    }
   ],
   "source": [
    "print(\"PREGUNTA 3: PERFIL DE RENTABILIDAD POR SEGMENTO (CENTROIDES)\")\n",
    "\n",
    "# La rentabilidad se determina analizando las medias de Monetario y Frecuencia por Segmento\n",
    "df_segmentos_perfil = df_rfm.groupby('Nombre_Segmento').agg(\n",
    "    Recencia_Promedio=('Recencia', 'mean'),\n",
    "    Frecuencia_Promedio=('Frecuencia', 'mean'),\n",
    "    Monetario_Promedio=('Monetario', 'mean'),\n",
    "    Num_Clientes=('id_cliente', 'count')\n",
    ").reset_index().sort_values(by='Monetario_Promedio', ascending=False)\n",
    "\n",
    "print(\"Perfil Promedio de los Segmentos (Ordenado por Gasto Promedio):\")\n",
    "print(df_segmentos_perfil.to_markdown(index=False, floatfmt=\".2f\"))\n",
    "\n",
    "print(\"\\nCONCLUSIÓN COMERCIAL:\")\n",
    "print(\"1. El segmento 'Clientes VIP ⭐' es el más rentable y valioso.\")\n",
    "print(\"2. El segmento 'Otros Segmentos' tiene el segundo gasto más alto, pero su alto Recencia (días sin comprar) indica que es un grupo heterogéneo con alto riesgo de pasar a ser 'Clientes Perdidos'.\")"
   ]
  }
 ],
 "metadata": {
  "kernelspec": {
   "display_name": "env",
   "language": "python",
   "name": "python3"
  },
  "language_info": {
   "codemirror_mode": {
    "name": "ipython",
    "version": 3
   },
   "file_extension": ".py",
   "mimetype": "text/x-python",
   "name": "python",
   "nbconvert_exporter": "python",
   "pygments_lexer": "ipython3",
   "version": "3.13.5"
  }
 },
 "nbformat": 4,
 "nbformat_minor": 5
}
